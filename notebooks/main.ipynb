{
  "cells": [
    {
      "cell_type": "markdown",
      "metadata": {
        "id": "66zGG0XlE8Es"
      },
      "source": [
        "# Import Library"
      ]
    },
    {
      "cell_type": "code",
      "execution_count": 1,
      "metadata": {
        "id": "3Iy0xzAiEzM2"
      },
      "outputs": [],
      "source": [
        "import numpy as np\n",
        "import tensorflow as tf\n",
        "import os\n",
        "import pandas as pd\n",
        "from sklearn.preprocessing import LabelEncoder\n",
        "from tensorflow.keras.preprocessing.image import ImageDataGenerator\n",
        "from tensorflow.keras.models import Sequential\n",
        "from tensorflow.keras.layers import Conv2D, MaxPooling2D, Dense, BatchNormalization, GlobalAveragePooling2D, Dropout\n",
        "from tensorflow.keras.applications import MobileNetV2\n",
        "from tensorflow.keras.applications.mobilenet import preprocess_input\n",
        "from tensorflow.keras.optimizers import Adam\n",
        "import matplotlib.pyplot as plt\n",
        "from sklearn.model_selection import StratifiedKFold\n",
        "from tensorflow.keras.preprocessing import image\n",
        "from tensorflow.keras.callbacks import EarlyStopping, ReduceLROnPlateau, ModelCheckpoint\n",
        "from sklearn.metrics import confusion_matrix, ConfusionMatrixDisplay"
      ]
    },
    {
      "cell_type": "markdown",
      "metadata": {
        "id": "tAo_WQaVFZa0"
      },
      "source": [
        "# Dataset"
      ]
    },
    {
      "cell_type": "markdown",
      "metadata": {},
      "source": [
        "- Load Data\n"
      ]
    },
    {
      "cell_type": "code",
      "execution_count": 2,
      "metadata": {},
      "outputs": [],
      "source": [
        "dataset_path = '../dataset/img'\n",
        "train_path = '../dataset/train_alphabet'\n",
        "test_path = '../dataset/test_alphabet'"
      ]
    },
    {
      "cell_type": "markdown",
      "metadata": {},
      "source": [
        "- Augmentasi Data & Splitting Data Menjadi train, validation dan test"
      ]
    },
    {
      "cell_type": "code",
      "execution_count": 3,
      "metadata": {
        "colab": {
          "base_uri": "https://localhost:8080/"
        },
        "id": "PzfI2D0bEi59",
        "outputId": "406b7d3b-0e26-4ea0-c481-961ca7c24dec"
      },
      "outputs": [
        {
          "name": "stdout",
          "output_type": "stream",
          "text": [
            "Found 24300 images belonging to 27 classes.\n",
            "Found 2700 images belonging to 27 classes.\n",
            "{'A': 0, 'B': 1, 'Blank': 2, 'C': 3, 'D': 4, 'E': 5, 'F': 6, 'G': 7, 'H': 8, 'I': 9, 'J': 10, 'K': 11, 'L': 12, 'M': 13, 'N': 14, 'O': 15, 'P': 16, 'Q': 17, 'R': 18, 'S': 19, 'T': 20, 'U': 21, 'V': 22, 'W': 23, 'X': 24, 'Y': 25, 'Z': 26}\n",
            "{'A': 0, 'B': 1, 'Blank': 2, 'C': 3, 'D': 4, 'E': 5, 'F': 6, 'G': 7, 'H': 8, 'I': 9, 'J': 10, 'K': 11, 'L': 12, 'M': 13, 'N': 14, 'O': 15, 'P': 16, 'Q': 17, 'R': 18, 'S': 19, 'T': 20, 'U': 21, 'V': 22, 'W': 23, 'X': 24, 'Y': 25, 'Z': 26}\n"
          ]
        }
      ],
      "source": [
        "datagen = ImageDataGenerator(\n",
        "    preprocessing_function=preprocess_input,\n",
        "    brightness_range=[0.7,1.3],\n",
        "    rotation_range=15,\n",
        "    zoom_range=0.1,\n",
        "    shear_range=0.1,\n",
        "    horizontal_flip=False,\n",
        "    )\n",
        "val_datagen = ImageDataGenerator(\n",
        "    preprocessing_function=preprocess_input,\n",
        ")\n",
        "train_gen = datagen.flow_from_directory(\n",
        "    train_path,\n",
        "    target_size = (224,224),\n",
        "    batch_size = 64,\n",
        "    class_mode = 'categorical',\n",
        "    # subset = 'training',\n",
        "    shuffle=True\n",
        ")\n",
        "val_gen = val_datagen.flow_from_directory(\n",
        "    test_path,\n",
        "    target_size = (224,224),\n",
        "    batch_size = 64,\n",
        "    class_mode ='categorical',\n",
        "    # subset = 'validation',\n",
        "    shuffle=False\n",
        ")\n",
        "print(train_gen.class_indices)\n",
        "print(val_gen.class_indices)"
      ]
    },
    {
      "cell_type": "markdown",
      "metadata": {},
      "source": [
        "- Layer Convolutional Neural Network Scratch From Zero"
      ]
    },
    {
      "cell_type": "code",
      "execution_count": null,
      "metadata": {
        "colab": {
          "base_uri": "https://localhost:8080/"
        },
        "id": "ngONIEkLSIRw",
        "outputId": "910343a2-7c98-43e1-e83a-80a0f6d10b9e"
      },
      "outputs": [
        {
          "data": {
            "text/html": [
              "<pre style=\"white-space:pre;overflow-x:auto;line-height:normal;font-family:Menlo,'DejaVu Sans Mono',consolas,'Courier New',monospace\"><span style=\"font-weight: bold\">Model: \"sequential\"</span>\n",
              "</pre>\n"
            ],
            "text/plain": [
              "\u001b[1mModel: \"sequential\"\u001b[0m\n"
            ]
          },
          "metadata": {},
          "output_type": "display_data"
        },
        {
          "data": {
            "text/html": [
              "<pre style=\"white-space:pre;overflow-x:auto;line-height:normal;font-family:Menlo,'DejaVu Sans Mono',consolas,'Courier New',monospace\">┏━━━━━━━━━━━━━━━━━━━━━━━━━━━━━━━━━┳━━━━━━━━━━━━━━━━━━━━━━━━┳━━━━━━━━━━━━━━━┓\n",
              "┃<span style=\"font-weight: bold\"> Layer (type)                    </span>┃<span style=\"font-weight: bold\"> Output Shape           </span>┃<span style=\"font-weight: bold\">       Param # </span>┃\n",
              "┡━━━━━━━━━━━━━━━━━━━━━━━━━━━━━━━━━╇━━━━━━━━━━━━━━━━━━━━━━━━╇━━━━━━━━━━━━━━━┩\n",
              "│ conv2d (<span style=\"color: #0087ff; text-decoration-color: #0087ff\">Conv2D</span>)                 │ (<span style=\"color: #00d7ff; text-decoration-color: #00d7ff\">None</span>, <span style=\"color: #00af00; text-decoration-color: #00af00\">222</span>, <span style=\"color: #00af00; text-decoration-color: #00af00\">222</span>, <span style=\"color: #00af00; text-decoration-color: #00af00\">32</span>)   │           <span style=\"color: #00af00; text-decoration-color: #00af00\">896</span> │\n",
              "├─────────────────────────────────┼────────────────────────┼───────────────┤\n",
              "│ batch_normalization             │ (<span style=\"color: #00d7ff; text-decoration-color: #00d7ff\">None</span>, <span style=\"color: #00af00; text-decoration-color: #00af00\">222</span>, <span style=\"color: #00af00; text-decoration-color: #00af00\">222</span>, <span style=\"color: #00af00; text-decoration-color: #00af00\">32</span>)   │           <span style=\"color: #00af00; text-decoration-color: #00af00\">128</span> │\n",
              "│ (<span style=\"color: #0087ff; text-decoration-color: #0087ff\">BatchNormalization</span>)            │                        │               │\n",
              "├─────────────────────────────────┼────────────────────────┼───────────────┤\n",
              "│ max_pooling2d (<span style=\"color: #0087ff; text-decoration-color: #0087ff\">MaxPooling2D</span>)    │ (<span style=\"color: #00d7ff; text-decoration-color: #00d7ff\">None</span>, <span style=\"color: #00af00; text-decoration-color: #00af00\">111</span>, <span style=\"color: #00af00; text-decoration-color: #00af00\">111</span>, <span style=\"color: #00af00; text-decoration-color: #00af00\">32</span>)   │             <span style=\"color: #00af00; text-decoration-color: #00af00\">0</span> │\n",
              "├─────────────────────────────────┼────────────────────────┼───────────────┤\n",
              "│ conv2d_1 (<span style=\"color: #0087ff; text-decoration-color: #0087ff\">Conv2D</span>)               │ (<span style=\"color: #00d7ff; text-decoration-color: #00d7ff\">None</span>, <span style=\"color: #00af00; text-decoration-color: #00af00\">109</span>, <span style=\"color: #00af00; text-decoration-color: #00af00\">109</span>, <span style=\"color: #00af00; text-decoration-color: #00af00\">64</span>)   │        <span style=\"color: #00af00; text-decoration-color: #00af00\">18,496</span> │\n",
              "├─────────────────────────────────┼────────────────────────┼───────────────┤\n",
              "│ batch_normalization_1           │ (<span style=\"color: #00d7ff; text-decoration-color: #00d7ff\">None</span>, <span style=\"color: #00af00; text-decoration-color: #00af00\">109</span>, <span style=\"color: #00af00; text-decoration-color: #00af00\">109</span>, <span style=\"color: #00af00; text-decoration-color: #00af00\">64</span>)   │           <span style=\"color: #00af00; text-decoration-color: #00af00\">256</span> │\n",
              "│ (<span style=\"color: #0087ff; text-decoration-color: #0087ff\">BatchNormalization</span>)            │                        │               │\n",
              "├─────────────────────────────────┼────────────────────────┼───────────────┤\n",
              "│ max_pooling2d_1 (<span style=\"color: #0087ff; text-decoration-color: #0087ff\">MaxPooling2D</span>)  │ (<span style=\"color: #00d7ff; text-decoration-color: #00d7ff\">None</span>, <span style=\"color: #00af00; text-decoration-color: #00af00\">54</span>, <span style=\"color: #00af00; text-decoration-color: #00af00\">54</span>, <span style=\"color: #00af00; text-decoration-color: #00af00\">64</span>)     │             <span style=\"color: #00af00; text-decoration-color: #00af00\">0</span> │\n",
              "├─────────────────────────────────┼────────────────────────┼───────────────┤\n",
              "│ conv2d_2 (<span style=\"color: #0087ff; text-decoration-color: #0087ff\">Conv2D</span>)               │ (<span style=\"color: #00d7ff; text-decoration-color: #00d7ff\">None</span>, <span style=\"color: #00af00; text-decoration-color: #00af00\">52</span>, <span style=\"color: #00af00; text-decoration-color: #00af00\">52</span>, <span style=\"color: #00af00; text-decoration-color: #00af00\">128</span>)    │        <span style=\"color: #00af00; text-decoration-color: #00af00\">73,856</span> │\n",
              "├─────────────────────────────────┼────────────────────────┼───────────────┤\n",
              "│ batch_normalization_2           │ (<span style=\"color: #00d7ff; text-decoration-color: #00d7ff\">None</span>, <span style=\"color: #00af00; text-decoration-color: #00af00\">52</span>, <span style=\"color: #00af00; text-decoration-color: #00af00\">52</span>, <span style=\"color: #00af00; text-decoration-color: #00af00\">128</span>)    │           <span style=\"color: #00af00; text-decoration-color: #00af00\">512</span> │\n",
              "│ (<span style=\"color: #0087ff; text-decoration-color: #0087ff\">BatchNormalization</span>)            │                        │               │\n",
              "├─────────────────────────────────┼────────────────────────┼───────────────┤\n",
              "│ max_pooling2d_2 (<span style=\"color: #0087ff; text-decoration-color: #0087ff\">MaxPooling2D</span>)  │ (<span style=\"color: #00d7ff; text-decoration-color: #00d7ff\">None</span>, <span style=\"color: #00af00; text-decoration-color: #00af00\">26</span>, <span style=\"color: #00af00; text-decoration-color: #00af00\">26</span>, <span style=\"color: #00af00; text-decoration-color: #00af00\">128</span>)    │             <span style=\"color: #00af00; text-decoration-color: #00af00\">0</span> │\n",
              "├─────────────────────────────────┼────────────────────────┼───────────────┤\n",
              "│ conv2d_3 (<span style=\"color: #0087ff; text-decoration-color: #0087ff\">Conv2D</span>)               │ (<span style=\"color: #00d7ff; text-decoration-color: #00d7ff\">None</span>, <span style=\"color: #00af00; text-decoration-color: #00af00\">24</span>, <span style=\"color: #00af00; text-decoration-color: #00af00\">24</span>, <span style=\"color: #00af00; text-decoration-color: #00af00\">256</span>)    │       <span style=\"color: #00af00; text-decoration-color: #00af00\">295,168</span> │\n",
              "├─────────────────────────────────┼────────────────────────┼───────────────┤\n",
              "│ batch_normalization_3           │ (<span style=\"color: #00d7ff; text-decoration-color: #00d7ff\">None</span>, <span style=\"color: #00af00; text-decoration-color: #00af00\">24</span>, <span style=\"color: #00af00; text-decoration-color: #00af00\">24</span>, <span style=\"color: #00af00; text-decoration-color: #00af00\">256</span>)    │         <span style=\"color: #00af00; text-decoration-color: #00af00\">1,024</span> │\n",
              "│ (<span style=\"color: #0087ff; text-decoration-color: #0087ff\">BatchNormalization</span>)            │                        │               │\n",
              "├─────────────────────────────────┼────────────────────────┼───────────────┤\n",
              "│ max_pooling2d_3 (<span style=\"color: #0087ff; text-decoration-color: #0087ff\">MaxPooling2D</span>)  │ (<span style=\"color: #00d7ff; text-decoration-color: #00d7ff\">None</span>, <span style=\"color: #00af00; text-decoration-color: #00af00\">12</span>, <span style=\"color: #00af00; text-decoration-color: #00af00\">12</span>, <span style=\"color: #00af00; text-decoration-color: #00af00\">256</span>)    │             <span style=\"color: #00af00; text-decoration-color: #00af00\">0</span> │\n",
              "├─────────────────────────────────┼────────────────────────┼───────────────┤\n",
              "│ global_average_pooling2d        │ (<span style=\"color: #00d7ff; text-decoration-color: #00d7ff\">None</span>, <span style=\"color: #00af00; text-decoration-color: #00af00\">256</span>)            │             <span style=\"color: #00af00; text-decoration-color: #00af00\">0</span> │\n",
              "│ (<span style=\"color: #0087ff; text-decoration-color: #0087ff\">GlobalAveragePooling2D</span>)        │                        │               │\n",
              "├─────────────────────────────────┼────────────────────────┼───────────────┤\n",
              "│ dense (<span style=\"color: #0087ff; text-decoration-color: #0087ff\">Dense</span>)                   │ (<span style=\"color: #00d7ff; text-decoration-color: #00d7ff\">None</span>, <span style=\"color: #00af00; text-decoration-color: #00af00\">256</span>)            │        <span style=\"color: #00af00; text-decoration-color: #00af00\">65,792</span> │\n",
              "├─────────────────────────────────┼────────────────────────┼───────────────┤\n",
              "│ dropout (<span style=\"color: #0087ff; text-decoration-color: #0087ff\">Dropout</span>)               │ (<span style=\"color: #00d7ff; text-decoration-color: #00d7ff\">None</span>, <span style=\"color: #00af00; text-decoration-color: #00af00\">256</span>)            │             <span style=\"color: #00af00; text-decoration-color: #00af00\">0</span> │\n",
              "├─────────────────────────────────┼────────────────────────┼───────────────┤\n",
              "│ dense_1 (<span style=\"color: #0087ff; text-decoration-color: #0087ff\">Dense</span>)                 │ (<span style=\"color: #00d7ff; text-decoration-color: #00d7ff\">None</span>, <span style=\"color: #00af00; text-decoration-color: #00af00\">29</span>)             │         <span style=\"color: #00af00; text-decoration-color: #00af00\">7,453</span> │\n",
              "└─────────────────────────────────┴────────────────────────┴───────────────┘\n",
              "</pre>\n"
            ],
            "text/plain": [
              "┏━━━━━━━━━━━━━━━━━━━━━━━━━━━━━━━━━┳━━━━━━━━━━━━━━━━━━━━━━━━┳━━━━━━━━━━━━━━━┓\n",
              "┃\u001b[1m \u001b[0m\u001b[1mLayer (type)                   \u001b[0m\u001b[1m \u001b[0m┃\u001b[1m \u001b[0m\u001b[1mOutput Shape          \u001b[0m\u001b[1m \u001b[0m┃\u001b[1m \u001b[0m\u001b[1m      Param #\u001b[0m\u001b[1m \u001b[0m┃\n",
              "┡━━━━━━━━━━━━━━━━━━━━━━━━━━━━━━━━━╇━━━━━━━━━━━━━━━━━━━━━━━━╇━━━━━━━━━━━━━━━┩\n",
              "│ conv2d (\u001b[38;5;33mConv2D\u001b[0m)                 │ (\u001b[38;5;45mNone\u001b[0m, \u001b[38;5;34m222\u001b[0m, \u001b[38;5;34m222\u001b[0m, \u001b[38;5;34m32\u001b[0m)   │           \u001b[38;5;34m896\u001b[0m │\n",
              "├─────────────────────────────────┼────────────────────────┼───────────────┤\n",
              "│ batch_normalization             │ (\u001b[38;5;45mNone\u001b[0m, \u001b[38;5;34m222\u001b[0m, \u001b[38;5;34m222\u001b[0m, \u001b[38;5;34m32\u001b[0m)   │           \u001b[38;5;34m128\u001b[0m │\n",
              "│ (\u001b[38;5;33mBatchNormalization\u001b[0m)            │                        │               │\n",
              "├─────────────────────────────────┼────────────────────────┼───────────────┤\n",
              "│ max_pooling2d (\u001b[38;5;33mMaxPooling2D\u001b[0m)    │ (\u001b[38;5;45mNone\u001b[0m, \u001b[38;5;34m111\u001b[0m, \u001b[38;5;34m111\u001b[0m, \u001b[38;5;34m32\u001b[0m)   │             \u001b[38;5;34m0\u001b[0m │\n",
              "├─────────────────────────────────┼────────────────────────┼───────────────┤\n",
              "│ conv2d_1 (\u001b[38;5;33mConv2D\u001b[0m)               │ (\u001b[38;5;45mNone\u001b[0m, \u001b[38;5;34m109\u001b[0m, \u001b[38;5;34m109\u001b[0m, \u001b[38;5;34m64\u001b[0m)   │        \u001b[38;5;34m18,496\u001b[0m │\n",
              "├─────────────────────────────────┼────────────────────────┼───────────────┤\n",
              "│ batch_normalization_1           │ (\u001b[38;5;45mNone\u001b[0m, \u001b[38;5;34m109\u001b[0m, \u001b[38;5;34m109\u001b[0m, \u001b[38;5;34m64\u001b[0m)   │           \u001b[38;5;34m256\u001b[0m │\n",
              "│ (\u001b[38;5;33mBatchNormalization\u001b[0m)            │                        │               │\n",
              "├─────────────────────────────────┼────────────────────────┼───────────────┤\n",
              "│ max_pooling2d_1 (\u001b[38;5;33mMaxPooling2D\u001b[0m)  │ (\u001b[38;5;45mNone\u001b[0m, \u001b[38;5;34m54\u001b[0m, \u001b[38;5;34m54\u001b[0m, \u001b[38;5;34m64\u001b[0m)     │             \u001b[38;5;34m0\u001b[0m │\n",
              "├─────────────────────────────────┼────────────────────────┼───────────────┤\n",
              "│ conv2d_2 (\u001b[38;5;33mConv2D\u001b[0m)               │ (\u001b[38;5;45mNone\u001b[0m, \u001b[38;5;34m52\u001b[0m, \u001b[38;5;34m52\u001b[0m, \u001b[38;5;34m128\u001b[0m)    │        \u001b[38;5;34m73,856\u001b[0m │\n",
              "├─────────────────────────────────┼────────────────────────┼───────────────┤\n",
              "│ batch_normalization_2           │ (\u001b[38;5;45mNone\u001b[0m, \u001b[38;5;34m52\u001b[0m, \u001b[38;5;34m52\u001b[0m, \u001b[38;5;34m128\u001b[0m)    │           \u001b[38;5;34m512\u001b[0m │\n",
              "│ (\u001b[38;5;33mBatchNormalization\u001b[0m)            │                        │               │\n",
              "├─────────────────────────────────┼────────────────────────┼───────────────┤\n",
              "│ max_pooling2d_2 (\u001b[38;5;33mMaxPooling2D\u001b[0m)  │ (\u001b[38;5;45mNone\u001b[0m, \u001b[38;5;34m26\u001b[0m, \u001b[38;5;34m26\u001b[0m, \u001b[38;5;34m128\u001b[0m)    │             \u001b[38;5;34m0\u001b[0m │\n",
              "├─────────────────────────────────┼────────────────────────┼───────────────┤\n",
              "│ conv2d_3 (\u001b[38;5;33mConv2D\u001b[0m)               │ (\u001b[38;5;45mNone\u001b[0m, \u001b[38;5;34m24\u001b[0m, \u001b[38;5;34m24\u001b[0m, \u001b[38;5;34m256\u001b[0m)    │       \u001b[38;5;34m295,168\u001b[0m │\n",
              "├─────────────────────────────────┼────────────────────────┼───────────────┤\n",
              "│ batch_normalization_3           │ (\u001b[38;5;45mNone\u001b[0m, \u001b[38;5;34m24\u001b[0m, \u001b[38;5;34m24\u001b[0m, \u001b[38;5;34m256\u001b[0m)    │         \u001b[38;5;34m1,024\u001b[0m │\n",
              "│ (\u001b[38;5;33mBatchNormalization\u001b[0m)            │                        │               │\n",
              "├─────────────────────────────────┼────────────────────────┼───────────────┤\n",
              "│ max_pooling2d_3 (\u001b[38;5;33mMaxPooling2D\u001b[0m)  │ (\u001b[38;5;45mNone\u001b[0m, \u001b[38;5;34m12\u001b[0m, \u001b[38;5;34m12\u001b[0m, \u001b[38;5;34m256\u001b[0m)    │             \u001b[38;5;34m0\u001b[0m │\n",
              "├─────────────────────────────────┼────────────────────────┼───────────────┤\n",
              "│ global_average_pooling2d        │ (\u001b[38;5;45mNone\u001b[0m, \u001b[38;5;34m256\u001b[0m)            │             \u001b[38;5;34m0\u001b[0m │\n",
              "│ (\u001b[38;5;33mGlobalAveragePooling2D\u001b[0m)        │                        │               │\n",
              "├─────────────────────────────────┼────────────────────────┼───────────────┤\n",
              "│ dense (\u001b[38;5;33mDense\u001b[0m)                   │ (\u001b[38;5;45mNone\u001b[0m, \u001b[38;5;34m256\u001b[0m)            │        \u001b[38;5;34m65,792\u001b[0m │\n",
              "├─────────────────────────────────┼────────────────────────┼───────────────┤\n",
              "│ dropout (\u001b[38;5;33mDropout\u001b[0m)               │ (\u001b[38;5;45mNone\u001b[0m, \u001b[38;5;34m256\u001b[0m)            │             \u001b[38;5;34m0\u001b[0m │\n",
              "├─────────────────────────────────┼────────────────────────┼───────────────┤\n",
              "│ dense_1 (\u001b[38;5;33mDense\u001b[0m)                 │ (\u001b[38;5;45mNone\u001b[0m, \u001b[38;5;34m29\u001b[0m)             │         \u001b[38;5;34m7,453\u001b[0m │\n",
              "└─────────────────────────────────┴────────────────────────┴───────────────┘\n"
            ]
          },
          "metadata": {},
          "output_type": "display_data"
        },
        {
          "data": {
            "text/html": [
              "<pre style=\"white-space:pre;overflow-x:auto;line-height:normal;font-family:Menlo,'DejaVu Sans Mono',consolas,'Courier New',monospace\"><span style=\"font-weight: bold\"> Total params: </span><span style=\"color: #00af00; text-decoration-color: #00af00\">463,581</span> (1.77 MB)\n",
              "</pre>\n"
            ],
            "text/plain": [
              "\u001b[1m Total params: \u001b[0m\u001b[38;5;34m463,581\u001b[0m (1.77 MB)\n"
            ]
          },
          "metadata": {},
          "output_type": "display_data"
        },
        {
          "data": {
            "text/html": [
              "<pre style=\"white-space:pre;overflow-x:auto;line-height:normal;font-family:Menlo,'DejaVu Sans Mono',consolas,'Courier New',monospace\"><span style=\"font-weight: bold\"> Trainable params: </span><span style=\"color: #00af00; text-decoration-color: #00af00\">462,621</span> (1.76 MB)\n",
              "</pre>\n"
            ],
            "text/plain": [
              "\u001b[1m Trainable params: \u001b[0m\u001b[38;5;34m462,621\u001b[0m (1.76 MB)\n"
            ]
          },
          "metadata": {},
          "output_type": "display_data"
        },
        {
          "data": {
            "text/html": [
              "<pre style=\"white-space:pre;overflow-x:auto;line-height:normal;font-family:Menlo,'DejaVu Sans Mono',consolas,'Courier New',monospace\"><span style=\"font-weight: bold\"> Non-trainable params: </span><span style=\"color: #00af00; text-decoration-color: #00af00\">960</span> (3.75 KB)\n",
              "</pre>\n"
            ],
            "text/plain": [
              "\u001b[1m Non-trainable params: \u001b[0m\u001b[38;5;34m960\u001b[0m (3.75 KB)\n"
            ]
          },
          "metadata": {},
          "output_type": "display_data"
        }
      ],
      "source": [
        "model = Sequential([\n",
        "    tf.keras.Input(shape=(224, 224, 3)),\n",
        "    \n",
        "    Conv2D(32, (3,3), activation='relu'),\n",
        "    BatchNormalization(),\n",
        "    MaxPooling2D(2,2),\n",
        "\n",
        "    Conv2D(64, (3,3), activation='relu'),\n",
        "    BatchNormalization(),\n",
        "    MaxPooling2D(2,2),\n",
        "\n",
        "    Conv2D(128, (3,3), activation='relu'),\n",
        "    BatchNormalization(),\n",
        "    MaxPooling2D(2,2),\n",
        "\n",
        "    Conv2D(256, (3,3), activation='relu'),\n",
        "    BatchNormalization(),\n",
        "    MaxPooling2D(2,2),\n",
        "\n",
        "    GlobalAveragePooling2D(),\n",
        "    Dense(256, activation='relu'),\n",
        "    Dropout(0.5),\n",
        "    Dense(29, activation='softmax') \n",
        "])\n",
        "model.compile(optimizer='adam', loss='categorical_crossentropy', metrics=['accuracy'])\n",
        "model.summary()\n"
      ]
    },
    {
      "cell_type": "code",
      "execution_count": 4,
      "metadata": {},
      "outputs": [],
      "source": [
        "callbacks_model = [\n",
        "    EarlyStopping(monitor='val_loss', patience=5, restore_best_weights=True,verbose=1),\n",
        "    ReduceLROnPlateau(monitor='val_loss', patience=3, factor=0.5, verbose=1),\n",
        "    ModelCheckpoint('../best_model/model.h5', monitor='val_loss', save_best_only=True,verbose=1),\n",
        "    ]"
      ]
    },
    {
      "cell_type": "code",
      "execution_count": null,
      "metadata": {},
      "outputs": [
        {
          "name": "stderr",
          "output_type": "stream",
          "text": [
            "d:\\Capstone\\Capstone Model\\.venv\\lib\\site-packages\\keras\\src\\trainers\\data_adapters\\py_dataset_adapter.py:121: UserWarning: Your `PyDataset` class should call `super().__init__(**kwargs)` in its constructor. `**kwargs` can include `workers`, `use_multiprocessing`, `max_queue_size`. Do not pass these arguments to `fit()`, as they will be ignored.\n",
            "  self._warn_if_super_not_called()\n"
          ]
        },
        {
          "name": "stdout",
          "output_type": "stream",
          "text": [
            "Epoch 1/50\n",
            "\u001b[1m2175/2175\u001b[0m \u001b[32m━━━━━━━━━━━━━━━━━━━━\u001b[0m\u001b[37m\u001b[0m \u001b[1m0s\u001b[0m 2s/step - accuracy: 0.2963 - loss: 2.3705"
          ]
        },
        {
          "name": "stderr",
          "output_type": "stream",
          "text": [
            "d:\\Capstone\\Capstone Model\\.venv\\lib\\site-packages\\keras\\src\\trainers\\data_adapters\\py_dataset_adapter.py:121: UserWarning: Your `PyDataset` class should call `super().__init__(**kwargs)` in its constructor. `**kwargs` can include `workers`, `use_multiprocessing`, `max_queue_size`. Do not pass these arguments to `fit()`, as they will be ignored.\n",
            "  self._warn_if_super_not_called()\n"
          ]
        },
        {
          "name": "stdout",
          "output_type": "stream",
          "text": [
            "\u001b[1m2175/2175\u001b[0m \u001b[32m━━━━━━━━━━━━━━━━━━━━\u001b[0m\u001b[37m\u001b[0m \u001b[1m3944s\u001b[0m 2s/step - accuracy: 0.2964 - loss: 2.3702 - val_accuracy: 0.5819 - val_loss: 1.5274 - learning_rate: 0.0010\n",
            "Epoch 2/50\n",
            "\u001b[1m2175/2175\u001b[0m \u001b[32m━━━━━━━━━━━━━━━━━━━━\u001b[0m\u001b[37m\u001b[0m \u001b[1m3308s\u001b[0m 2s/step - accuracy: 0.8427 - loss: 0.4780 - val_accuracy: 0.5915 - val_loss: 1.6475 - learning_rate: 0.0010\n",
            "Epoch 3/50\n",
            "\u001b[1m1890/2175\u001b[0m \u001b[32m━━━━━━━━━━━━━━━━━\u001b[0m\u001b[37m━━━\u001b[0m \u001b[1m6:20\u001b[0m 1s/step - accuracy: 0.9173 - loss: 0.2539"
          ]
        },
        {
          "ename": "KeyboardInterrupt",
          "evalue": "",
          "output_type": "error",
          "traceback": [
            "\u001b[1;31m---------------------------------------------------------------------------\u001b[0m",
            "\u001b[1;31mKeyboardInterrupt\u001b[0m                         Traceback (most recent call last)",
            "Cell \u001b[1;32mIn[6], line 1\u001b[0m\n\u001b[1;32m----> 1\u001b[0m history \u001b[38;5;241m=\u001b[39m \u001b[43mmodel\u001b[49m\u001b[38;5;241;43m.\u001b[39;49m\u001b[43mfit\u001b[49m\u001b[43m(\u001b[49m\u001b[43mtrain_gen\u001b[49m\u001b[43m,\u001b[49m\u001b[43mvalidation_data\u001b[49m\u001b[38;5;241;43m=\u001b[39;49m\u001b[43mval_gen\u001b[49m\u001b[43m,\u001b[49m\u001b[43mepochs\u001b[49m\u001b[38;5;241;43m=\u001b[39;49m\u001b[38;5;241;43m50\u001b[39;49m\u001b[43m,\u001b[49m\u001b[43m \u001b[49m\u001b[43mcallbacks\u001b[49m\u001b[38;5;241;43m=\u001b[39;49m\u001b[43m[\u001b[49m\u001b[43mearly_stop\u001b[49m\u001b[43m,\u001b[49m\u001b[43m \u001b[49m\u001b[43mreduce_lr\u001b[49m\u001b[43m]\u001b[49m\u001b[43m)\u001b[49m\n",
            "File \u001b[1;32md:\\Capstone\\Capstone Model\\.venv\\lib\\site-packages\\keras\\src\\utils\\traceback_utils.py:117\u001b[0m, in \u001b[0;36mfilter_traceback.<locals>.error_handler\u001b[1;34m(*args, **kwargs)\u001b[0m\n\u001b[0;32m    115\u001b[0m filtered_tb \u001b[38;5;241m=\u001b[39m \u001b[38;5;28;01mNone\u001b[39;00m\n\u001b[0;32m    116\u001b[0m \u001b[38;5;28;01mtry\u001b[39;00m:\n\u001b[1;32m--> 117\u001b[0m     \u001b[38;5;28;01mreturn\u001b[39;00m fn(\u001b[38;5;241m*\u001b[39margs, \u001b[38;5;241m*\u001b[39m\u001b[38;5;241m*\u001b[39mkwargs)\n\u001b[0;32m    118\u001b[0m \u001b[38;5;28;01mexcept\u001b[39;00m \u001b[38;5;167;01mException\u001b[39;00m \u001b[38;5;28;01mas\u001b[39;00m e:\n\u001b[0;32m    119\u001b[0m     filtered_tb \u001b[38;5;241m=\u001b[39m _process_traceback_frames(e\u001b[38;5;241m.\u001b[39m__traceback__)\n",
            "File \u001b[1;32md:\\Capstone\\Capstone Model\\.venv\\lib\\site-packages\\keras\\src\\backend\\tensorflow\\trainer.py:371\u001b[0m, in \u001b[0;36mTensorFlowTrainer.fit\u001b[1;34m(self, x, y, batch_size, epochs, verbose, callbacks, validation_split, validation_data, shuffle, class_weight, sample_weight, initial_epoch, steps_per_epoch, validation_steps, validation_batch_size, validation_freq)\u001b[0m\n\u001b[0;32m    369\u001b[0m \u001b[38;5;28;01mfor\u001b[39;00m step, iterator \u001b[38;5;129;01min\u001b[39;00m epoch_iterator:\n\u001b[0;32m    370\u001b[0m     callbacks\u001b[38;5;241m.\u001b[39mon_train_batch_begin(step)\n\u001b[1;32m--> 371\u001b[0m     logs \u001b[38;5;241m=\u001b[39m \u001b[38;5;28;43mself\u001b[39;49m\u001b[38;5;241;43m.\u001b[39;49m\u001b[43mtrain_function\u001b[49m\u001b[43m(\u001b[49m\u001b[43miterator\u001b[49m\u001b[43m)\u001b[49m\n\u001b[0;32m    372\u001b[0m     callbacks\u001b[38;5;241m.\u001b[39mon_train_batch_end(step, logs)\n\u001b[0;32m    373\u001b[0m     \u001b[38;5;28;01mif\u001b[39;00m \u001b[38;5;28mself\u001b[39m\u001b[38;5;241m.\u001b[39mstop_training:\n",
            "File \u001b[1;32md:\\Capstone\\Capstone Model\\.venv\\lib\\site-packages\\keras\\src\\backend\\tensorflow\\trainer.py:219\u001b[0m, in \u001b[0;36mTensorFlowTrainer._make_function.<locals>.function\u001b[1;34m(iterator)\u001b[0m\n\u001b[0;32m    215\u001b[0m \u001b[38;5;28;01mdef\u001b[39;00m\u001b[38;5;250m \u001b[39m\u001b[38;5;21mfunction\u001b[39m(iterator):\n\u001b[0;32m    216\u001b[0m     \u001b[38;5;28;01mif\u001b[39;00m \u001b[38;5;28misinstance\u001b[39m(\n\u001b[0;32m    217\u001b[0m         iterator, (tf\u001b[38;5;241m.\u001b[39mdata\u001b[38;5;241m.\u001b[39mIterator, tf\u001b[38;5;241m.\u001b[39mdistribute\u001b[38;5;241m.\u001b[39mDistributedIterator)\n\u001b[0;32m    218\u001b[0m     ):\n\u001b[1;32m--> 219\u001b[0m         opt_outputs \u001b[38;5;241m=\u001b[39m \u001b[43mmulti_step_on_iterator\u001b[49m\u001b[43m(\u001b[49m\u001b[43miterator\u001b[49m\u001b[43m)\u001b[49m\n\u001b[0;32m    220\u001b[0m         \u001b[38;5;28;01mif\u001b[39;00m \u001b[38;5;129;01mnot\u001b[39;00m opt_outputs\u001b[38;5;241m.\u001b[39mhas_value():\n\u001b[0;32m    221\u001b[0m             \u001b[38;5;28;01mraise\u001b[39;00m \u001b[38;5;167;01mStopIteration\u001b[39;00m\n",
            "File \u001b[1;32md:\\Capstone\\Capstone Model\\.venv\\lib\\site-packages\\tensorflow\\python\\util\\traceback_utils.py:150\u001b[0m, in \u001b[0;36mfilter_traceback.<locals>.error_handler\u001b[1;34m(*args, **kwargs)\u001b[0m\n\u001b[0;32m    148\u001b[0m filtered_tb \u001b[38;5;241m=\u001b[39m \u001b[38;5;28;01mNone\u001b[39;00m\n\u001b[0;32m    149\u001b[0m \u001b[38;5;28;01mtry\u001b[39;00m:\n\u001b[1;32m--> 150\u001b[0m   \u001b[38;5;28;01mreturn\u001b[39;00m fn(\u001b[38;5;241m*\u001b[39margs, \u001b[38;5;241m*\u001b[39m\u001b[38;5;241m*\u001b[39mkwargs)\n\u001b[0;32m    151\u001b[0m \u001b[38;5;28;01mexcept\u001b[39;00m \u001b[38;5;167;01mException\u001b[39;00m \u001b[38;5;28;01mas\u001b[39;00m e:\n\u001b[0;32m    152\u001b[0m   filtered_tb \u001b[38;5;241m=\u001b[39m _process_traceback_frames(e\u001b[38;5;241m.\u001b[39m__traceback__)\n",
            "File \u001b[1;32md:\\Capstone\\Capstone Model\\.venv\\lib\\site-packages\\tensorflow\\python\\eager\\polymorphic_function\\polymorphic_function.py:833\u001b[0m, in \u001b[0;36mFunction.__call__\u001b[1;34m(self, *args, **kwds)\u001b[0m\n\u001b[0;32m    830\u001b[0m compiler \u001b[38;5;241m=\u001b[39m \u001b[38;5;124m\"\u001b[39m\u001b[38;5;124mxla\u001b[39m\u001b[38;5;124m\"\u001b[39m \u001b[38;5;28;01mif\u001b[39;00m \u001b[38;5;28mself\u001b[39m\u001b[38;5;241m.\u001b[39m_jit_compile \u001b[38;5;28;01melse\u001b[39;00m \u001b[38;5;124m\"\u001b[39m\u001b[38;5;124mnonXla\u001b[39m\u001b[38;5;124m\"\u001b[39m\n\u001b[0;32m    832\u001b[0m \u001b[38;5;28;01mwith\u001b[39;00m OptionalXlaContext(\u001b[38;5;28mself\u001b[39m\u001b[38;5;241m.\u001b[39m_jit_compile):\n\u001b[1;32m--> 833\u001b[0m   result \u001b[38;5;241m=\u001b[39m \u001b[38;5;28mself\u001b[39m\u001b[38;5;241m.\u001b[39m_call(\u001b[38;5;241m*\u001b[39margs, \u001b[38;5;241m*\u001b[39m\u001b[38;5;241m*\u001b[39mkwds)\n\u001b[0;32m    835\u001b[0m new_tracing_count \u001b[38;5;241m=\u001b[39m \u001b[38;5;28mself\u001b[39m\u001b[38;5;241m.\u001b[39mexperimental_get_tracing_count()\n\u001b[0;32m    836\u001b[0m without_tracing \u001b[38;5;241m=\u001b[39m (tracing_count \u001b[38;5;241m==\u001b[39m new_tracing_count)\n",
            "File \u001b[1;32md:\\Capstone\\Capstone Model\\.venv\\lib\\site-packages\\tensorflow\\python\\eager\\polymorphic_function\\polymorphic_function.py:878\u001b[0m, in \u001b[0;36mFunction._call\u001b[1;34m(self, *args, **kwds)\u001b[0m\n\u001b[0;32m    875\u001b[0m \u001b[38;5;28mself\u001b[39m\u001b[38;5;241m.\u001b[39m_lock\u001b[38;5;241m.\u001b[39mrelease()\n\u001b[0;32m    876\u001b[0m \u001b[38;5;66;03m# In this case we have not created variables on the first call. So we can\u001b[39;00m\n\u001b[0;32m    877\u001b[0m \u001b[38;5;66;03m# run the first trace but we should fail if variables are created.\u001b[39;00m\n\u001b[1;32m--> 878\u001b[0m results \u001b[38;5;241m=\u001b[39m \u001b[43mtracing_compilation\u001b[49m\u001b[38;5;241;43m.\u001b[39;49m\u001b[43mcall_function\u001b[49m\u001b[43m(\u001b[49m\n\u001b[0;32m    879\u001b[0m \u001b[43m    \u001b[49m\u001b[43margs\u001b[49m\u001b[43m,\u001b[49m\u001b[43m \u001b[49m\u001b[43mkwds\u001b[49m\u001b[43m,\u001b[49m\u001b[43m \u001b[49m\u001b[38;5;28;43mself\u001b[39;49m\u001b[38;5;241;43m.\u001b[39;49m\u001b[43m_variable_creation_config\u001b[49m\n\u001b[0;32m    880\u001b[0m \u001b[43m\u001b[49m\u001b[43m)\u001b[49m\n\u001b[0;32m    881\u001b[0m \u001b[38;5;28;01mif\u001b[39;00m \u001b[38;5;28mself\u001b[39m\u001b[38;5;241m.\u001b[39m_created_variables:\n\u001b[0;32m    882\u001b[0m   \u001b[38;5;28;01mraise\u001b[39;00m \u001b[38;5;167;01mValueError\u001b[39;00m(\u001b[38;5;124m\"\u001b[39m\u001b[38;5;124mCreating variables on a non-first call to a function\u001b[39m\u001b[38;5;124m\"\u001b[39m\n\u001b[0;32m    883\u001b[0m                    \u001b[38;5;124m\"\u001b[39m\u001b[38;5;124m decorated with tf.function.\u001b[39m\u001b[38;5;124m\"\u001b[39m)\n",
            "File \u001b[1;32md:\\Capstone\\Capstone Model\\.venv\\lib\\site-packages\\tensorflow\\python\\eager\\polymorphic_function\\tracing_compilation.py:139\u001b[0m, in \u001b[0;36mcall_function\u001b[1;34m(args, kwargs, tracing_options)\u001b[0m\n\u001b[0;32m    137\u001b[0m bound_args \u001b[38;5;241m=\u001b[39m function\u001b[38;5;241m.\u001b[39mfunction_type\u001b[38;5;241m.\u001b[39mbind(\u001b[38;5;241m*\u001b[39margs, \u001b[38;5;241m*\u001b[39m\u001b[38;5;241m*\u001b[39mkwargs)\n\u001b[0;32m    138\u001b[0m flat_inputs \u001b[38;5;241m=\u001b[39m function\u001b[38;5;241m.\u001b[39mfunction_type\u001b[38;5;241m.\u001b[39munpack_inputs(bound_args)\n\u001b[1;32m--> 139\u001b[0m \u001b[38;5;28;01mreturn\u001b[39;00m \u001b[43mfunction\u001b[49m\u001b[38;5;241;43m.\u001b[39;49m\u001b[43m_call_flat\u001b[49m\u001b[43m(\u001b[49m\u001b[43m  \u001b[49m\u001b[38;5;66;43;03m# pylint: disable=protected-access\u001b[39;49;00m\n\u001b[0;32m    140\u001b[0m \u001b[43m    \u001b[49m\u001b[43mflat_inputs\u001b[49m\u001b[43m,\u001b[49m\u001b[43m \u001b[49m\u001b[43mcaptured_inputs\u001b[49m\u001b[38;5;241;43m=\u001b[39;49m\u001b[43mfunction\u001b[49m\u001b[38;5;241;43m.\u001b[39;49m\u001b[43mcaptured_inputs\u001b[49m\n\u001b[0;32m    141\u001b[0m \u001b[43m\u001b[49m\u001b[43m)\u001b[49m\n",
            "File \u001b[1;32md:\\Capstone\\Capstone Model\\.venv\\lib\\site-packages\\tensorflow\\python\\eager\\polymorphic_function\\concrete_function.py:1322\u001b[0m, in \u001b[0;36mConcreteFunction._call_flat\u001b[1;34m(self, tensor_inputs, captured_inputs)\u001b[0m\n\u001b[0;32m   1318\u001b[0m possible_gradient_type \u001b[38;5;241m=\u001b[39m gradients_util\u001b[38;5;241m.\u001b[39mPossibleTapeGradientTypes(args)\n\u001b[0;32m   1319\u001b[0m \u001b[38;5;28;01mif\u001b[39;00m (possible_gradient_type \u001b[38;5;241m==\u001b[39m gradients_util\u001b[38;5;241m.\u001b[39mPOSSIBLE_GRADIENT_TYPES_NONE\n\u001b[0;32m   1320\u001b[0m     \u001b[38;5;129;01mand\u001b[39;00m executing_eagerly):\n\u001b[0;32m   1321\u001b[0m   \u001b[38;5;66;03m# No tape is watching; skip to running the function.\u001b[39;00m\n\u001b[1;32m-> 1322\u001b[0m   \u001b[38;5;28;01mreturn\u001b[39;00m \u001b[38;5;28;43mself\u001b[39;49m\u001b[38;5;241;43m.\u001b[39;49m\u001b[43m_inference_function\u001b[49m\u001b[38;5;241;43m.\u001b[39;49m\u001b[43mcall_preflattened\u001b[49m\u001b[43m(\u001b[49m\u001b[43margs\u001b[49m\u001b[43m)\u001b[49m\n\u001b[0;32m   1323\u001b[0m forward_backward \u001b[38;5;241m=\u001b[39m \u001b[38;5;28mself\u001b[39m\u001b[38;5;241m.\u001b[39m_select_forward_and_backward_functions(\n\u001b[0;32m   1324\u001b[0m     args,\n\u001b[0;32m   1325\u001b[0m     possible_gradient_type,\n\u001b[0;32m   1326\u001b[0m     executing_eagerly)\n\u001b[0;32m   1327\u001b[0m forward_function, args_with_tangents \u001b[38;5;241m=\u001b[39m forward_backward\u001b[38;5;241m.\u001b[39mforward()\n",
            "File \u001b[1;32md:\\Capstone\\Capstone Model\\.venv\\lib\\site-packages\\tensorflow\\python\\eager\\polymorphic_function\\atomic_function.py:216\u001b[0m, in \u001b[0;36mAtomicFunction.call_preflattened\u001b[1;34m(self, args)\u001b[0m\n\u001b[0;32m    214\u001b[0m \u001b[38;5;28;01mdef\u001b[39;00m\u001b[38;5;250m \u001b[39m\u001b[38;5;21mcall_preflattened\u001b[39m(\u001b[38;5;28mself\u001b[39m, args: Sequence[core\u001b[38;5;241m.\u001b[39mTensor]) \u001b[38;5;241m-\u001b[39m\u001b[38;5;241m>\u001b[39m Any:\n\u001b[0;32m    215\u001b[0m \u001b[38;5;250m  \u001b[39m\u001b[38;5;124;03m\"\"\"Calls with flattened tensor inputs and returns the structured output.\"\"\"\u001b[39;00m\n\u001b[1;32m--> 216\u001b[0m   flat_outputs \u001b[38;5;241m=\u001b[39m \u001b[38;5;28;43mself\u001b[39;49m\u001b[38;5;241;43m.\u001b[39;49m\u001b[43mcall_flat\u001b[49m\u001b[43m(\u001b[49m\u001b[38;5;241;43m*\u001b[39;49m\u001b[43margs\u001b[49m\u001b[43m)\u001b[49m\n\u001b[0;32m    217\u001b[0m   \u001b[38;5;28;01mreturn\u001b[39;00m \u001b[38;5;28mself\u001b[39m\u001b[38;5;241m.\u001b[39mfunction_type\u001b[38;5;241m.\u001b[39mpack_output(flat_outputs)\n",
            "File \u001b[1;32md:\\Capstone\\Capstone Model\\.venv\\lib\\site-packages\\tensorflow\\python\\eager\\polymorphic_function\\atomic_function.py:251\u001b[0m, in \u001b[0;36mAtomicFunction.call_flat\u001b[1;34m(self, *args)\u001b[0m\n\u001b[0;32m    249\u001b[0m \u001b[38;5;28;01mwith\u001b[39;00m record\u001b[38;5;241m.\u001b[39mstop_recording():\n\u001b[0;32m    250\u001b[0m   \u001b[38;5;28;01mif\u001b[39;00m \u001b[38;5;28mself\u001b[39m\u001b[38;5;241m.\u001b[39m_bound_context\u001b[38;5;241m.\u001b[39mexecuting_eagerly():\n\u001b[1;32m--> 251\u001b[0m     outputs \u001b[38;5;241m=\u001b[39m \u001b[38;5;28;43mself\u001b[39;49m\u001b[38;5;241;43m.\u001b[39;49m\u001b[43m_bound_context\u001b[49m\u001b[38;5;241;43m.\u001b[39;49m\u001b[43mcall_function\u001b[49m\u001b[43m(\u001b[49m\n\u001b[0;32m    252\u001b[0m \u001b[43m        \u001b[49m\u001b[38;5;28;43mself\u001b[39;49m\u001b[38;5;241;43m.\u001b[39;49m\u001b[43mname\u001b[49m\u001b[43m,\u001b[49m\n\u001b[0;32m    253\u001b[0m \u001b[43m        \u001b[49m\u001b[38;5;28;43mlist\u001b[39;49m\u001b[43m(\u001b[49m\u001b[43margs\u001b[49m\u001b[43m)\u001b[49m\u001b[43m,\u001b[49m\n\u001b[0;32m    254\u001b[0m \u001b[43m        \u001b[49m\u001b[38;5;28;43mlen\u001b[39;49m\u001b[43m(\u001b[49m\u001b[38;5;28;43mself\u001b[39;49m\u001b[38;5;241;43m.\u001b[39;49m\u001b[43mfunction_type\u001b[49m\u001b[38;5;241;43m.\u001b[39;49m\u001b[43mflat_outputs\u001b[49m\u001b[43m)\u001b[49m\u001b[43m,\u001b[49m\n\u001b[0;32m    255\u001b[0m \u001b[43m    \u001b[49m\u001b[43m)\u001b[49m\n\u001b[0;32m    256\u001b[0m   \u001b[38;5;28;01melse\u001b[39;00m:\n\u001b[0;32m    257\u001b[0m     outputs \u001b[38;5;241m=\u001b[39m make_call_op_in_graph(\n\u001b[0;32m    258\u001b[0m         \u001b[38;5;28mself\u001b[39m,\n\u001b[0;32m    259\u001b[0m         \u001b[38;5;28mlist\u001b[39m(args),\n\u001b[0;32m    260\u001b[0m         \u001b[38;5;28mself\u001b[39m\u001b[38;5;241m.\u001b[39m_bound_context\u001b[38;5;241m.\u001b[39mfunction_call_options\u001b[38;5;241m.\u001b[39mas_attrs(),\n\u001b[0;32m    261\u001b[0m     )\n",
            "File \u001b[1;32md:\\Capstone\\Capstone Model\\.venv\\lib\\site-packages\\tensorflow\\python\\eager\\context.py:1688\u001b[0m, in \u001b[0;36mContext.call_function\u001b[1;34m(self, name, tensor_inputs, num_outputs)\u001b[0m\n\u001b[0;32m   1686\u001b[0m cancellation_context \u001b[38;5;241m=\u001b[39m cancellation\u001b[38;5;241m.\u001b[39mcontext()\n\u001b[0;32m   1687\u001b[0m \u001b[38;5;28;01mif\u001b[39;00m cancellation_context \u001b[38;5;129;01mis\u001b[39;00m \u001b[38;5;28;01mNone\u001b[39;00m:\n\u001b[1;32m-> 1688\u001b[0m   outputs \u001b[38;5;241m=\u001b[39m \u001b[43mexecute\u001b[49m\u001b[38;5;241;43m.\u001b[39;49m\u001b[43mexecute\u001b[49m\u001b[43m(\u001b[49m\n\u001b[0;32m   1689\u001b[0m \u001b[43m      \u001b[49m\u001b[43mname\u001b[49m\u001b[38;5;241;43m.\u001b[39;49m\u001b[43mdecode\u001b[49m\u001b[43m(\u001b[49m\u001b[38;5;124;43m\"\u001b[39;49m\u001b[38;5;124;43mutf-8\u001b[39;49m\u001b[38;5;124;43m\"\u001b[39;49m\u001b[43m)\u001b[49m\u001b[43m,\u001b[49m\n\u001b[0;32m   1690\u001b[0m \u001b[43m      \u001b[49m\u001b[43mnum_outputs\u001b[49m\u001b[38;5;241;43m=\u001b[39;49m\u001b[43mnum_outputs\u001b[49m\u001b[43m,\u001b[49m\n\u001b[0;32m   1691\u001b[0m \u001b[43m      \u001b[49m\u001b[43minputs\u001b[49m\u001b[38;5;241;43m=\u001b[39;49m\u001b[43mtensor_inputs\u001b[49m\u001b[43m,\u001b[49m\n\u001b[0;32m   1692\u001b[0m \u001b[43m      \u001b[49m\u001b[43mattrs\u001b[49m\u001b[38;5;241;43m=\u001b[39;49m\u001b[43mattrs\u001b[49m\u001b[43m,\u001b[49m\n\u001b[0;32m   1693\u001b[0m \u001b[43m      \u001b[49m\u001b[43mctx\u001b[49m\u001b[38;5;241;43m=\u001b[39;49m\u001b[38;5;28;43mself\u001b[39;49m\u001b[43m,\u001b[49m\n\u001b[0;32m   1694\u001b[0m \u001b[43m  \u001b[49m\u001b[43m)\u001b[49m\n\u001b[0;32m   1695\u001b[0m \u001b[38;5;28;01melse\u001b[39;00m:\n\u001b[0;32m   1696\u001b[0m   outputs \u001b[38;5;241m=\u001b[39m execute\u001b[38;5;241m.\u001b[39mexecute_with_cancellation(\n\u001b[0;32m   1697\u001b[0m       name\u001b[38;5;241m.\u001b[39mdecode(\u001b[38;5;124m\"\u001b[39m\u001b[38;5;124mutf-8\u001b[39m\u001b[38;5;124m\"\u001b[39m),\n\u001b[0;32m   1698\u001b[0m       num_outputs\u001b[38;5;241m=\u001b[39mnum_outputs,\n\u001b[1;32m   (...)\u001b[0m\n\u001b[0;32m   1702\u001b[0m       cancellation_manager\u001b[38;5;241m=\u001b[39mcancellation_context,\n\u001b[0;32m   1703\u001b[0m   )\n",
            "File \u001b[1;32md:\\Capstone\\Capstone Model\\.venv\\lib\\site-packages\\tensorflow\\python\\eager\\execute.py:53\u001b[0m, in \u001b[0;36mquick_execute\u001b[1;34m(op_name, num_outputs, inputs, attrs, ctx, name)\u001b[0m\n\u001b[0;32m     51\u001b[0m \u001b[38;5;28;01mtry\u001b[39;00m:\n\u001b[0;32m     52\u001b[0m   ctx\u001b[38;5;241m.\u001b[39mensure_initialized()\n\u001b[1;32m---> 53\u001b[0m   tensors \u001b[38;5;241m=\u001b[39m \u001b[43mpywrap_tfe\u001b[49m\u001b[38;5;241;43m.\u001b[39;49m\u001b[43mTFE_Py_Execute\u001b[49m\u001b[43m(\u001b[49m\u001b[43mctx\u001b[49m\u001b[38;5;241;43m.\u001b[39;49m\u001b[43m_handle\u001b[49m\u001b[43m,\u001b[49m\u001b[43m \u001b[49m\u001b[43mdevice_name\u001b[49m\u001b[43m,\u001b[49m\u001b[43m \u001b[49m\u001b[43mop_name\u001b[49m\u001b[43m,\u001b[49m\n\u001b[0;32m     54\u001b[0m \u001b[43m                                      \u001b[49m\u001b[43minputs\u001b[49m\u001b[43m,\u001b[49m\u001b[43m \u001b[49m\u001b[43mattrs\u001b[49m\u001b[43m,\u001b[49m\u001b[43m \u001b[49m\u001b[43mnum_outputs\u001b[49m\u001b[43m)\u001b[49m\n\u001b[0;32m     55\u001b[0m \u001b[38;5;28;01mexcept\u001b[39;00m core\u001b[38;5;241m.\u001b[39m_NotOkStatusException \u001b[38;5;28;01mas\u001b[39;00m e:\n\u001b[0;32m     56\u001b[0m   \u001b[38;5;28;01mif\u001b[39;00m name \u001b[38;5;129;01mis\u001b[39;00m \u001b[38;5;129;01mnot\u001b[39;00m \u001b[38;5;28;01mNone\u001b[39;00m:\n",
            "\u001b[1;31mKeyboardInterrupt\u001b[0m: "
          ]
        }
      ],
      "source": [
        "history = model.fit(train_gen,validation_data=val_gen,epochs=50, callbacks=callbacks_model)"
      ]
    },
    {
      "cell_type": "markdown",
      "metadata": {},
      "source": [
        "- Layer Convolutional Neural Network Transfer Learning MobileNetV2"
      ]
    },
    {
      "cell_type": "code",
      "execution_count": 5,
      "metadata": {},
      "outputs": [
        {
          "data": {
            "text/html": [
              "<pre style=\"white-space:pre;overflow-x:auto;line-height:normal;font-family:Menlo,'DejaVu Sans Mono',consolas,'Courier New',monospace\"><span style=\"font-weight: bold\">Model: \"sequential\"</span>\n",
              "</pre>\n"
            ],
            "text/plain": [
              "\u001b[1mModel: \"sequential\"\u001b[0m\n"
            ]
          },
          "metadata": {},
          "output_type": "display_data"
        },
        {
          "data": {
            "text/html": [
              "<pre style=\"white-space:pre;overflow-x:auto;line-height:normal;font-family:Menlo,'DejaVu Sans Mono',consolas,'Courier New',monospace\">┏━━━━━━━━━━━━━━━━━━━━━━━━━━━━━━━━━┳━━━━━━━━━━━━━━━━━━━━━━━━┳━━━━━━━━━━━━━━━┓\n",
              "┃<span style=\"font-weight: bold\"> Layer (type)                    </span>┃<span style=\"font-weight: bold\"> Output Shape           </span>┃<span style=\"font-weight: bold\">       Param # </span>┃\n",
              "┡━━━━━━━━━━━━━━━━━━━━━━━━━━━━━━━━━╇━━━━━━━━━━━━━━━━━━━━━━━━╇━━━━━━━━━━━━━━━┩\n",
              "│ mobilenetv2_1.00_224            │ (<span style=\"color: #00d7ff; text-decoration-color: #00d7ff\">None</span>, <span style=\"color: #00af00; text-decoration-color: #00af00\">7</span>, <span style=\"color: #00af00; text-decoration-color: #00af00\">7</span>, <span style=\"color: #00af00; text-decoration-color: #00af00\">1280</span>)     │     <span style=\"color: #00af00; text-decoration-color: #00af00\">2,257,984</span> │\n",
              "│ (<span style=\"color: #0087ff; text-decoration-color: #0087ff\">Functional</span>)                    │                        │               │\n",
              "├─────────────────────────────────┼────────────────────────┼───────────────┤\n",
              "│ global_average_pooling2d        │ (<span style=\"color: #00d7ff; text-decoration-color: #00d7ff\">None</span>, <span style=\"color: #00af00; text-decoration-color: #00af00\">1280</span>)           │             <span style=\"color: #00af00; text-decoration-color: #00af00\">0</span> │\n",
              "│ (<span style=\"color: #0087ff; text-decoration-color: #0087ff\">GlobalAveragePooling2D</span>)        │                        │               │\n",
              "├─────────────────────────────────┼────────────────────────┼───────────────┤\n",
              "│ batch_normalization             │ (<span style=\"color: #00d7ff; text-decoration-color: #00d7ff\">None</span>, <span style=\"color: #00af00; text-decoration-color: #00af00\">1280</span>)           │         <span style=\"color: #00af00; text-decoration-color: #00af00\">5,120</span> │\n",
              "│ (<span style=\"color: #0087ff; text-decoration-color: #0087ff\">BatchNormalization</span>)            │                        │               │\n",
              "├─────────────────────────────────┼────────────────────────┼───────────────┤\n",
              "│ dense (<span style=\"color: #0087ff; text-decoration-color: #0087ff\">Dense</span>)                   │ (<span style=\"color: #00d7ff; text-decoration-color: #00d7ff\">None</span>, <span style=\"color: #00af00; text-decoration-color: #00af00\">256</span>)            │       <span style=\"color: #00af00; text-decoration-color: #00af00\">327,936</span> │\n",
              "├─────────────────────────────────┼────────────────────────┼───────────────┤\n",
              "│ dropout (<span style=\"color: #0087ff; text-decoration-color: #0087ff\">Dropout</span>)               │ (<span style=\"color: #00d7ff; text-decoration-color: #00d7ff\">None</span>, <span style=\"color: #00af00; text-decoration-color: #00af00\">256</span>)            │             <span style=\"color: #00af00; text-decoration-color: #00af00\">0</span> │\n",
              "├─────────────────────────────────┼────────────────────────┼───────────────┤\n",
              "│ dense_1 (<span style=\"color: #0087ff; text-decoration-color: #0087ff\">Dense</span>)                 │ (<span style=\"color: #00d7ff; text-decoration-color: #00d7ff\">None</span>, <span style=\"color: #00af00; text-decoration-color: #00af00\">27</span>)             │         <span style=\"color: #00af00; text-decoration-color: #00af00\">6,939</span> │\n",
              "└─────────────────────────────────┴────────────────────────┴───────────────┘\n",
              "</pre>\n"
            ],
            "text/plain": [
              "┏━━━━━━━━━━━━━━━━━━━━━━━━━━━━━━━━━┳━━━━━━━━━━━━━━━━━━━━━━━━┳━━━━━━━━━━━━━━━┓\n",
              "┃\u001b[1m \u001b[0m\u001b[1mLayer (type)                   \u001b[0m\u001b[1m \u001b[0m┃\u001b[1m \u001b[0m\u001b[1mOutput Shape          \u001b[0m\u001b[1m \u001b[0m┃\u001b[1m \u001b[0m\u001b[1m      Param #\u001b[0m\u001b[1m \u001b[0m┃\n",
              "┡━━━━━━━━━━━━━━━━━━━━━━━━━━━━━━━━━╇━━━━━━━━━━━━━━━━━━━━━━━━╇━━━━━━━━━━━━━━━┩\n",
              "│ mobilenetv2_1.00_224            │ (\u001b[38;5;45mNone\u001b[0m, \u001b[38;5;34m7\u001b[0m, \u001b[38;5;34m7\u001b[0m, \u001b[38;5;34m1280\u001b[0m)     │     \u001b[38;5;34m2,257,984\u001b[0m │\n",
              "│ (\u001b[38;5;33mFunctional\u001b[0m)                    │                        │               │\n",
              "├─────────────────────────────────┼────────────────────────┼───────────────┤\n",
              "│ global_average_pooling2d        │ (\u001b[38;5;45mNone\u001b[0m, \u001b[38;5;34m1280\u001b[0m)           │             \u001b[38;5;34m0\u001b[0m │\n",
              "│ (\u001b[38;5;33mGlobalAveragePooling2D\u001b[0m)        │                        │               │\n",
              "├─────────────────────────────────┼────────────────────────┼───────────────┤\n",
              "│ batch_normalization             │ (\u001b[38;5;45mNone\u001b[0m, \u001b[38;5;34m1280\u001b[0m)           │         \u001b[38;5;34m5,120\u001b[0m │\n",
              "│ (\u001b[38;5;33mBatchNormalization\u001b[0m)            │                        │               │\n",
              "├─────────────────────────────────┼────────────────────────┼───────────────┤\n",
              "│ dense (\u001b[38;5;33mDense\u001b[0m)                   │ (\u001b[38;5;45mNone\u001b[0m, \u001b[38;5;34m256\u001b[0m)            │       \u001b[38;5;34m327,936\u001b[0m │\n",
              "├─────────────────────────────────┼────────────────────────┼───────────────┤\n",
              "│ dropout (\u001b[38;5;33mDropout\u001b[0m)               │ (\u001b[38;5;45mNone\u001b[0m, \u001b[38;5;34m256\u001b[0m)            │             \u001b[38;5;34m0\u001b[0m │\n",
              "├─────────────────────────────────┼────────────────────────┼───────────────┤\n",
              "│ dense_1 (\u001b[38;5;33mDense\u001b[0m)                 │ (\u001b[38;5;45mNone\u001b[0m, \u001b[38;5;34m27\u001b[0m)             │         \u001b[38;5;34m6,939\u001b[0m │\n",
              "└─────────────────────────────────┴────────────────────────┴───────────────┘\n"
            ]
          },
          "metadata": {},
          "output_type": "display_data"
        },
        {
          "data": {
            "text/html": [
              "<pre style=\"white-space:pre;overflow-x:auto;line-height:normal;font-family:Menlo,'DejaVu Sans Mono',consolas,'Courier New',monospace\"><span style=\"font-weight: bold\"> Total params: </span><span style=\"color: #00af00; text-decoration-color: #00af00\">2,597,979</span> (9.91 MB)\n",
              "</pre>\n"
            ],
            "text/plain": [
              "\u001b[1m Total params: \u001b[0m\u001b[38;5;34m2,597,979\u001b[0m (9.91 MB)\n"
            ]
          },
          "metadata": {},
          "output_type": "display_data"
        },
        {
          "data": {
            "text/html": [
              "<pre style=\"white-space:pre;overflow-x:auto;line-height:normal;font-family:Menlo,'DejaVu Sans Mono',consolas,'Courier New',monospace\"><span style=\"font-weight: bold\"> Trainable params: </span><span style=\"color: #00af00; text-decoration-color: #00af00\">337,435</span> (1.29 MB)\n",
              "</pre>\n"
            ],
            "text/plain": [
              "\u001b[1m Trainable params: \u001b[0m\u001b[38;5;34m337,435\u001b[0m (1.29 MB)\n"
            ]
          },
          "metadata": {},
          "output_type": "display_data"
        },
        {
          "data": {
            "text/html": [
              "<pre style=\"white-space:pre;overflow-x:auto;line-height:normal;font-family:Menlo,'DejaVu Sans Mono',consolas,'Courier New',monospace\"><span style=\"font-weight: bold\"> Non-trainable params: </span><span style=\"color: #00af00; text-decoration-color: #00af00\">2,260,544</span> (8.62 MB)\n",
              "</pre>\n"
            ],
            "text/plain": [
              "\u001b[1m Non-trainable params: \u001b[0m\u001b[38;5;34m2,260,544\u001b[0m (8.62 MB)\n"
            ]
          },
          "metadata": {},
          "output_type": "display_data"
        }
      ],
      "source": [
        "base_model = MobileNetV2(\n",
        "    input_shape=(224, 224, 3),\n",
        "    include_top=False,\n",
        "    weights='imagenet'\n",
        ")\n",
        "base_model.trainable = False  # Freeze layer dulu\n",
        "model_mobile = Sequential([\n",
        "    base_model,\n",
        "    GlobalAveragePooling2D(),\n",
        "    BatchNormalization(),\n",
        "    Dense(256, activation='relu'),\n",
        "    Dropout(0.5),\n",
        "    Dense(27, activation='softmax')\n",
        "])\n",
        "model_mobile.compile(optimizer=Adam(learning_rate=1e-4), loss='categorical_crossentropy', metrics=['accuracy'])\n",
        "model_mobile.summary()"
      ]
    },
    {
      "cell_type": "code",
      "execution_count": null,
      "metadata": {},
      "outputs": [
        {
          "name": "stderr",
          "output_type": "stream",
          "text": [
            "d:\\Capstone\\Capstone Model\\.venv\\lib\\site-packages\\keras\\src\\trainers\\data_adapters\\py_dataset_adapter.py:121: UserWarning: Your `PyDataset` class should call `super().__init__(**kwargs)` in its constructor. `**kwargs` can include `workers`, `use_multiprocessing`, `max_queue_size`. Do not pass these arguments to `fit()`, as they will be ignored.\n",
            "  self._warn_if_super_not_called()\n"
          ]
        },
        {
          "name": "stdout",
          "output_type": "stream",
          "text": [
            "Epoch 1/50\n",
            "\u001b[1m380/380\u001b[0m \u001b[32m━━━━━━━━━━━━━━━━━━━━\u001b[0m\u001b[37m\u001b[0m \u001b[1m0s\u001b[0m 3s/step - accuracy: 0.1291 - loss: 3.5690\n",
            "Epoch 1: val_loss improved from inf to 1.53195, saving model to ../best_model/model.h5\n"
          ]
        },
        {
          "name": "stderr",
          "output_type": "stream",
          "text": [
            "WARNING:absl:You are saving your model as an HDF5 file via `model.save()` or `keras.saving.save_model(model)`. This file format is considered legacy. We recommend using instead the native Keras format, e.g. `model.save('my_model.keras')` or `keras.saving.save_model(model, 'my_model.keras')`. \n"
          ]
        },
        {
          "name": "stdout",
          "output_type": "stream",
          "text": [
            "\u001b[1m380/380\u001b[0m \u001b[32m━━━━━━━━━━━━━━━━━━━━\u001b[0m\u001b[37m\u001b[0m \u001b[1m1069s\u001b[0m 3s/step - accuracy: 0.1294 - loss: 3.5674 - val_accuracy: 0.5893 - val_loss: 1.5319 - learning_rate: 1.0000e-04\n",
            "Epoch 2/50\n",
            "\u001b[1m380/380\u001b[0m \u001b[32m━━━━━━━━━━━━━━━━━━━━\u001b[0m\u001b[37m\u001b[0m \u001b[1m0s\u001b[0m 2s/step - accuracy: 0.4347 - loss: 1.9218\n",
            "Epoch 2: val_loss improved from 1.53195 to 0.97807, saving model to ../best_model/model.h5\n"
          ]
        },
        {
          "name": "stderr",
          "output_type": "stream",
          "text": [
            "WARNING:absl:You are saving your model as an HDF5 file via `model.save()` or `keras.saving.save_model(model)`. This file format is considered legacy. We recommend using instead the native Keras format, e.g. `model.save('my_model.keras')` or `keras.saving.save_model(model, 'my_model.keras')`. \n"
          ]
        },
        {
          "name": "stdout",
          "output_type": "stream",
          "text": [
            "\u001b[1m380/380\u001b[0m \u001b[32m━━━━━━━━━━━━━━━━━━━━\u001b[0m\u001b[37m\u001b[0m \u001b[1m687s\u001b[0m 2s/step - accuracy: 0.4348 - loss: 1.9214 - val_accuracy: 0.7367 - val_loss: 0.9781 - learning_rate: 1.0000e-04\n",
            "Epoch 3/50\n",
            "\u001b[1m380/380\u001b[0m \u001b[32m━━━━━━━━━━━━━━━━━━━━\u001b[0m\u001b[37m\u001b[0m \u001b[1m0s\u001b[0m 2s/step - accuracy: 0.5668 - loss: 1.4395\n",
            "Epoch 3: val_loss improved from 0.97807 to 0.75974, saving model to ../best_model/model.h5\n"
          ]
        },
        {
          "name": "stderr",
          "output_type": "stream",
          "text": [
            "WARNING:absl:You are saving your model as an HDF5 file via `model.save()` or `keras.saving.save_model(model)`. This file format is considered legacy. We recommend using instead the native Keras format, e.g. `model.save('my_model.keras')` or `keras.saving.save_model(model, 'my_model.keras')`. \n"
          ]
        },
        {
          "name": "stdout",
          "output_type": "stream",
          "text": [
            "\u001b[1m380/380\u001b[0m \u001b[32m━━━━━━━━━━━━━━━━━━━━\u001b[0m\u001b[37m\u001b[0m \u001b[1m685s\u001b[0m 2s/step - accuracy: 0.5668 - loss: 1.4394 - val_accuracy: 0.7900 - val_loss: 0.7597 - learning_rate: 1.0000e-04\n",
            "Epoch 4/50\n",
            "\u001b[1m380/380\u001b[0m \u001b[32m━━━━━━━━━━━━━━━━━━━━\u001b[0m\u001b[37m\u001b[0m \u001b[1m0s\u001b[0m 2s/step - accuracy: 0.6265 - loss: 1.1994\n",
            "Epoch 4: val_loss improved from 0.75974 to 0.63136, saving model to ../best_model/model.h5\n"
          ]
        },
        {
          "name": "stderr",
          "output_type": "stream",
          "text": [
            "WARNING:absl:You are saving your model as an HDF5 file via `model.save()` or `keras.saving.save_model(model)`. This file format is considered legacy. We recommend using instead the native Keras format, e.g. `model.save('my_model.keras')` or `keras.saving.save_model(model, 'my_model.keras')`. \n"
          ]
        },
        {
          "name": "stdout",
          "output_type": "stream",
          "text": [
            "\u001b[1m380/380\u001b[0m \u001b[32m━━━━━━━━━━━━━━━━━━━━\u001b[0m\u001b[37m\u001b[0m \u001b[1m684s\u001b[0m 2s/step - accuracy: 0.6265 - loss: 1.1994 - val_accuracy: 0.8215 - val_loss: 0.6314 - learning_rate: 1.0000e-04\n",
            "Epoch 5/50\n",
            "\u001b[1m380/380\u001b[0m \u001b[32m━━━━━━━━━━━━━━━━━━━━\u001b[0m\u001b[37m\u001b[0m \u001b[1m0s\u001b[0m 2s/step - accuracy: 0.6714 - loss: 1.0592\n",
            "Epoch 5: val_loss improved from 0.63136 to 0.55666, saving model to ../best_model/model.h5\n"
          ]
        },
        {
          "name": "stderr",
          "output_type": "stream",
          "text": [
            "WARNING:absl:You are saving your model as an HDF5 file via `model.save()` or `keras.saving.save_model(model)`. This file format is considered legacy. We recommend using instead the native Keras format, e.g. `model.save('my_model.keras')` or `keras.saving.save_model(model, 'my_model.keras')`. \n"
          ]
        },
        {
          "name": "stdout",
          "output_type": "stream",
          "text": [
            "\u001b[1m380/380\u001b[0m \u001b[32m━━━━━━━━━━━━━━━━━━━━\u001b[0m\u001b[37m\u001b[0m \u001b[1m686s\u001b[0m 2s/step - accuracy: 0.6714 - loss: 1.0592 - val_accuracy: 0.8374 - val_loss: 0.5567 - learning_rate: 1.0000e-04\n",
            "Epoch 6/50\n",
            "\u001b[1m380/380\u001b[0m \u001b[32m━━━━━━━━━━━━━━━━━━━━\u001b[0m\u001b[37m\u001b[0m \u001b[1m0s\u001b[0m 2s/step - accuracy: 0.7023 - loss: 0.9458\n",
            "Epoch 6: val_loss improved from 0.55666 to 0.50104, saving model to ../best_model/model.h5\n"
          ]
        },
        {
          "name": "stderr",
          "output_type": "stream",
          "text": [
            "WARNING:absl:You are saving your model as an HDF5 file via `model.save()` or `keras.saving.save_model(model)`. This file format is considered legacy. We recommend using instead the native Keras format, e.g. `model.save('my_model.keras')` or `keras.saving.save_model(model, 'my_model.keras')`. \n"
          ]
        },
        {
          "name": "stdout",
          "output_type": "stream",
          "text": [
            "\u001b[1m380/380\u001b[0m \u001b[32m━━━━━━━━━━━━━━━━━━━━\u001b[0m\u001b[37m\u001b[0m \u001b[1m686s\u001b[0m 2s/step - accuracy: 0.7023 - loss: 0.9458 - val_accuracy: 0.8515 - val_loss: 0.5010 - learning_rate: 1.0000e-04\n",
            "Epoch 7/50\n",
            "\u001b[1m380/380\u001b[0m \u001b[32m━━━━━━━━━━━━━━━━━━━━\u001b[0m\u001b[37m\u001b[0m \u001b[1m0s\u001b[0m 2s/step - accuracy: 0.7261 - loss: 0.8625\n",
            "Epoch 7: val_loss improved from 0.50104 to 0.46145, saving model to ../best_model/model.h5\n"
          ]
        },
        {
          "name": "stderr",
          "output_type": "stream",
          "text": [
            "WARNING:absl:You are saving your model as an HDF5 file via `model.save()` or `keras.saving.save_model(model)`. This file format is considered legacy. We recommend using instead the native Keras format, e.g. `model.save('my_model.keras')` or `keras.saving.save_model(model, 'my_model.keras')`. \n"
          ]
        },
        {
          "name": "stdout",
          "output_type": "stream",
          "text": [
            "\u001b[1m380/380\u001b[0m \u001b[32m━━━━━━━━━━━━━━━━━━━━\u001b[0m\u001b[37m\u001b[0m \u001b[1m683s\u001b[0m 2s/step - accuracy: 0.7261 - loss: 0.8625 - val_accuracy: 0.8607 - val_loss: 0.4615 - learning_rate: 1.0000e-04\n",
            "Epoch 8/50\n",
            "\u001b[1m380/380\u001b[0m \u001b[32m━━━━━━━━━━━━━━━━━━━━\u001b[0m\u001b[37m\u001b[0m \u001b[1m0s\u001b[0m 2s/step - accuracy: 0.7437 - loss: 0.8027\n",
            "Epoch 8: val_loss improved from 0.46145 to 0.42935, saving model to ../best_model/model.h5\n"
          ]
        },
        {
          "name": "stderr",
          "output_type": "stream",
          "text": [
            "WARNING:absl:You are saving your model as an HDF5 file via `model.save()` or `keras.saving.save_model(model)`. This file format is considered legacy. We recommend using instead the native Keras format, e.g. `model.save('my_model.keras')` or `keras.saving.save_model(model, 'my_model.keras')`. \n"
          ]
        },
        {
          "name": "stdout",
          "output_type": "stream",
          "text": [
            "\u001b[1m380/380\u001b[0m \u001b[32m━━━━━━━━━━━━━━━━━━━━\u001b[0m\u001b[37m\u001b[0m \u001b[1m683s\u001b[0m 2s/step - accuracy: 0.7437 - loss: 0.8027 - val_accuracy: 0.8674 - val_loss: 0.4294 - learning_rate: 1.0000e-04\n",
            "Epoch 9/50\n",
            "\u001b[1m380/380\u001b[0m \u001b[32m━━━━━━━━━━━━━━━━━━━━\u001b[0m\u001b[37m\u001b[0m \u001b[1m0s\u001b[0m 2s/step - accuracy: 0.7579 - loss: 0.7587\n",
            "Epoch 9: val_loss improved from 0.42935 to 0.40463, saving model to ../best_model/model.h5\n"
          ]
        },
        {
          "name": "stderr",
          "output_type": "stream",
          "text": [
            "WARNING:absl:You are saving your model as an HDF5 file via `model.save()` or `keras.saving.save_model(model)`. This file format is considered legacy. We recommend using instead the native Keras format, e.g. `model.save('my_model.keras')` or `keras.saving.save_model(model, 'my_model.keras')`. \n"
          ]
        },
        {
          "name": "stdout",
          "output_type": "stream",
          "text": [
            "\u001b[1m380/380\u001b[0m \u001b[32m━━━━━━━━━━━━━━━━━━━━\u001b[0m\u001b[37m\u001b[0m \u001b[1m687s\u001b[0m 2s/step - accuracy: 0.7579 - loss: 0.7587 - val_accuracy: 0.8781 - val_loss: 0.4046 - learning_rate: 1.0000e-04\n",
            "Epoch 10/50\n",
            "\u001b[1m380/380\u001b[0m \u001b[32m━━━━━━━━━━━━━━━━━━━━\u001b[0m\u001b[37m\u001b[0m \u001b[1m0s\u001b[0m 2s/step - accuracy: 0.7741 - loss: 0.6962\n",
            "Epoch 10: val_loss improved from 0.40463 to 0.38686, saving model to ../best_model/model.h5\n"
          ]
        },
        {
          "name": "stderr",
          "output_type": "stream",
          "text": [
            "WARNING:absl:You are saving your model as an HDF5 file via `model.save()` or `keras.saving.save_model(model)`. This file format is considered legacy. We recommend using instead the native Keras format, e.g. `model.save('my_model.keras')` or `keras.saving.save_model(model, 'my_model.keras')`. \n"
          ]
        },
        {
          "name": "stdout",
          "output_type": "stream",
          "text": [
            "\u001b[1m380/380\u001b[0m \u001b[32m━━━━━━━━━━━━━━━━━━━━\u001b[0m\u001b[37m\u001b[0m \u001b[1m786s\u001b[0m 2s/step - accuracy: 0.7741 - loss: 0.6962 - val_accuracy: 0.8841 - val_loss: 0.3869 - learning_rate: 1.0000e-04\n",
            "Epoch 11/50\n",
            "\u001b[1m380/380\u001b[0m \u001b[32m━━━━━━━━━━━━━━━━━━━━\u001b[0m\u001b[37m\u001b[0m \u001b[1m0s\u001b[0m 2s/step - accuracy: 0.7828 - loss: 0.6824\n",
            "Epoch 11: val_loss improved from 0.38686 to 0.36822, saving model to ../best_model/model.h5\n"
          ]
        },
        {
          "name": "stderr",
          "output_type": "stream",
          "text": [
            "WARNING:absl:You are saving your model as an HDF5 file via `model.save()` or `keras.saving.save_model(model)`. This file format is considered legacy. We recommend using instead the native Keras format, e.g. `model.save('my_model.keras')` or `keras.saving.save_model(model, 'my_model.keras')`. \n"
          ]
        },
        {
          "name": "stdout",
          "output_type": "stream",
          "text": [
            "\u001b[1m380/380\u001b[0m \u001b[32m━━━━━━━━━━━━━━━━━━━━\u001b[0m\u001b[37m\u001b[0m \u001b[1m930s\u001b[0m 2s/step - accuracy: 0.7828 - loss: 0.6824 - val_accuracy: 0.8911 - val_loss: 0.3682 - learning_rate: 1.0000e-04\n",
            "Epoch 12/50\n",
            "\u001b[1m380/380\u001b[0m \u001b[32m━━━━━━━━━━━━━━━━━━━━\u001b[0m\u001b[37m\u001b[0m \u001b[1m0s\u001b[0m 2s/step - accuracy: 0.7874 - loss: 0.6586\n",
            "Epoch 12: val_loss improved from 0.36822 to 0.35375, saving model to ../best_model/model.h5\n"
          ]
        },
        {
          "name": "stderr",
          "output_type": "stream",
          "text": [
            "WARNING:absl:You are saving your model as an HDF5 file via `model.save()` or `keras.saving.save_model(model)`. This file format is considered legacy. We recommend using instead the native Keras format, e.g. `model.save('my_model.keras')` or `keras.saving.save_model(model, 'my_model.keras')`. \n"
          ]
        },
        {
          "name": "stdout",
          "output_type": "stream",
          "text": [
            "\u001b[1m380/380\u001b[0m \u001b[32m━━━━━━━━━━━━━━━━━━━━\u001b[0m\u001b[37m\u001b[0m \u001b[1m686s\u001b[0m 2s/step - accuracy: 0.7874 - loss: 0.6585 - val_accuracy: 0.8911 - val_loss: 0.3537 - learning_rate: 1.0000e-04\n",
            "Epoch 13/50\n",
            "\u001b[1m380/380\u001b[0m \u001b[32m━━━━━━━━━━━━━━━━━━━━\u001b[0m\u001b[37m\u001b[0m \u001b[1m0s\u001b[0m 2s/step - accuracy: 0.8037 - loss: 0.6234\n",
            "Epoch 13: val_loss improved from 0.35375 to 0.33960, saving model to ../best_model/model.h5\n"
          ]
        },
        {
          "name": "stderr",
          "output_type": "stream",
          "text": [
            "WARNING:absl:You are saving your model as an HDF5 file via `model.save()` or `keras.saving.save_model(model)`. This file format is considered legacy. We recommend using instead the native Keras format, e.g. `model.save('my_model.keras')` or `keras.saving.save_model(model, 'my_model.keras')`. \n"
          ]
        },
        {
          "name": "stdout",
          "output_type": "stream",
          "text": [
            "\u001b[1m380/380\u001b[0m \u001b[32m━━━━━━━━━━━━━━━━━━━━\u001b[0m\u001b[37m\u001b[0m \u001b[1m686s\u001b[0m 2s/step - accuracy: 0.8037 - loss: 0.6234 - val_accuracy: 0.8956 - val_loss: 0.3396 - learning_rate: 1.0000e-04\n",
            "Epoch 14/50\n",
            "\u001b[1m380/380\u001b[0m \u001b[32m━━━━━━━━━━━━━━━━━━━━\u001b[0m\u001b[37m\u001b[0m \u001b[1m0s\u001b[0m 2s/step - accuracy: 0.8051 - loss: 0.5942\n",
            "Epoch 14: val_loss improved from 0.33960 to 0.32644, saving model to ../best_model/model.h5\n"
          ]
        },
        {
          "name": "stderr",
          "output_type": "stream",
          "text": [
            "WARNING:absl:You are saving your model as an HDF5 file via `model.save()` or `keras.saving.save_model(model)`. This file format is considered legacy. We recommend using instead the native Keras format, e.g. `model.save('my_model.keras')` or `keras.saving.save_model(model, 'my_model.keras')`. \n"
          ]
        },
        {
          "name": "stdout",
          "output_type": "stream",
          "text": [
            "\u001b[1m380/380\u001b[0m \u001b[32m━━━━━━━━━━━━━━━━━━━━\u001b[0m\u001b[37m\u001b[0m \u001b[1m685s\u001b[0m 2s/step - accuracy: 0.8051 - loss: 0.5942 - val_accuracy: 0.9007 - val_loss: 0.3264 - learning_rate: 1.0000e-04\n",
            "Epoch 15/50\n",
            "\u001b[1m380/380\u001b[0m \u001b[32m━━━━━━━━━━━━━━━━━━━━\u001b[0m\u001b[37m\u001b[0m \u001b[1m0s\u001b[0m 2s/step - accuracy: 0.8106 - loss: 0.5897\n",
            "Epoch 15: val_loss improved from 0.32644 to 0.31856, saving model to ../best_model/model.h5\n"
          ]
        },
        {
          "name": "stderr",
          "output_type": "stream",
          "text": [
            "WARNING:absl:You are saving your model as an HDF5 file via `model.save()` or `keras.saving.save_model(model)`. This file format is considered legacy. We recommend using instead the native Keras format, e.g. `model.save('my_model.keras')` or `keras.saving.save_model(model, 'my_model.keras')`. \n"
          ]
        },
        {
          "name": "stdout",
          "output_type": "stream",
          "text": [
            "\u001b[1m380/380\u001b[0m \u001b[32m━━━━━━━━━━━━━━━━━━━━\u001b[0m\u001b[37m\u001b[0m \u001b[1m685s\u001b[0m 2s/step - accuracy: 0.8106 - loss: 0.5896 - val_accuracy: 0.8978 - val_loss: 0.3186 - learning_rate: 1.0000e-04\n",
            "Epoch 16/50\n",
            "\u001b[1m380/380\u001b[0m \u001b[32m━━━━━━━━━━━━━━━━━━━━\u001b[0m\u001b[37m\u001b[0m \u001b[1m0s\u001b[0m 2s/step - accuracy: 0.8151 - loss: 0.5751\n",
            "Epoch 16: val_loss improved from 0.31856 to 0.31230, saving model to ../best_model/model.h5\n"
          ]
        },
        {
          "name": "stderr",
          "output_type": "stream",
          "text": [
            "WARNING:absl:You are saving your model as an HDF5 file via `model.save()` or `keras.saving.save_model(model)`. This file format is considered legacy. We recommend using instead the native Keras format, e.g. `model.save('my_model.keras')` or `keras.saving.save_model(model, 'my_model.keras')`. \n"
          ]
        },
        {
          "name": "stdout",
          "output_type": "stream",
          "text": [
            "\u001b[1m380/380\u001b[0m \u001b[32m━━━━━━━━━━━━━━━━━━━━\u001b[0m\u001b[37m\u001b[0m \u001b[1m740s\u001b[0m 2s/step - accuracy: 0.8151 - loss: 0.5750 - val_accuracy: 0.9019 - val_loss: 0.3123 - learning_rate: 1.0000e-04\n",
            "Epoch 17/50\n",
            "\u001b[1m380/380\u001b[0m \u001b[32m━━━━━━━━━━━━━━━━━━━━\u001b[0m\u001b[37m\u001b[0m \u001b[1m0s\u001b[0m 2s/step - accuracy: 0.8272 - loss: 0.5321\n",
            "Epoch 17: val_loss improved from 0.31230 to 0.30315, saving model to ../best_model/model.h5\n"
          ]
        },
        {
          "name": "stderr",
          "output_type": "stream",
          "text": [
            "WARNING:absl:You are saving your model as an HDF5 file via `model.save()` or `keras.saving.save_model(model)`. This file format is considered legacy. We recommend using instead the native Keras format, e.g. `model.save('my_model.keras')` or `keras.saving.save_model(model, 'my_model.keras')`. \n"
          ]
        },
        {
          "name": "stdout",
          "output_type": "stream",
          "text": [
            "\u001b[1m380/380\u001b[0m \u001b[32m━━━━━━━━━━━━━━━━━━━━\u001b[0m\u001b[37m\u001b[0m \u001b[1m777s\u001b[0m 2s/step - accuracy: 0.8272 - loss: 0.5321 - val_accuracy: 0.9041 - val_loss: 0.3032 - learning_rate: 1.0000e-04\n",
            "Epoch 18/50\n",
            "\u001b[1m380/380\u001b[0m \u001b[32m━━━━━━━━━━━━━━━━━━━━\u001b[0m\u001b[37m\u001b[0m \u001b[1m0s\u001b[0m 2s/step - accuracy: 0.8327 - loss: 0.5316\n",
            "Epoch 18: val_loss improved from 0.30315 to 0.29757, saving model to ../best_model/model.h5\n"
          ]
        },
        {
          "name": "stderr",
          "output_type": "stream",
          "text": [
            "WARNING:absl:You are saving your model as an HDF5 file via `model.save()` or `keras.saving.save_model(model)`. This file format is considered legacy. We recommend using instead the native Keras format, e.g. `model.save('my_model.keras')` or `keras.saving.save_model(model, 'my_model.keras')`. \n"
          ]
        },
        {
          "name": "stdout",
          "output_type": "stream",
          "text": [
            "\u001b[1m380/380\u001b[0m \u001b[32m━━━━━━━━━━━━━━━━━━━━\u001b[0m\u001b[37m\u001b[0m \u001b[1m695s\u001b[0m 2s/step - accuracy: 0.8327 - loss: 0.5316 - val_accuracy: 0.9033 - val_loss: 0.2976 - learning_rate: 1.0000e-04\n",
            "Epoch 19/50\n",
            "\u001b[1m380/380\u001b[0m \u001b[32m━━━━━━━━━━━━━━━━━━━━\u001b[0m\u001b[37m\u001b[0m \u001b[1m0s\u001b[0m 2s/step - accuracy: 0.8364 - loss: 0.5057\n",
            "Epoch 19: val_loss improved from 0.29757 to 0.28936, saving model to ../best_model/model.h5\n"
          ]
        },
        {
          "name": "stderr",
          "output_type": "stream",
          "text": [
            "WARNING:absl:You are saving your model as an HDF5 file via `model.save()` or `keras.saving.save_model(model)`. This file format is considered legacy. We recommend using instead the native Keras format, e.g. `model.save('my_model.keras')` or `keras.saving.save_model(model, 'my_model.keras')`. \n"
          ]
        },
        {
          "name": "stdout",
          "output_type": "stream",
          "text": [
            "\u001b[1m380/380\u001b[0m \u001b[32m━━━━━━━━━━━━━━━━━━━━\u001b[0m\u001b[37m\u001b[0m \u001b[1m690s\u001b[0m 2s/step - accuracy: 0.8364 - loss: 0.5057 - val_accuracy: 0.9063 - val_loss: 0.2894 - learning_rate: 1.0000e-04\n",
            "Epoch 20/50\n",
            "\u001b[1m380/380\u001b[0m \u001b[32m━━━━━━━━━━━━━━━━━━━━\u001b[0m\u001b[37m\u001b[0m \u001b[1m0s\u001b[0m 2s/step - accuracy: 0.8332 - loss: 0.5130\n",
            "Epoch 20: val_loss improved from 0.28936 to 0.28608, saving model to ../best_model/model.h5\n"
          ]
        },
        {
          "name": "stderr",
          "output_type": "stream",
          "text": [
            "WARNING:absl:You are saving your model as an HDF5 file via `model.save()` or `keras.saving.save_model(model)`. This file format is considered legacy. We recommend using instead the native Keras format, e.g. `model.save('my_model.keras')` or `keras.saving.save_model(model, 'my_model.keras')`. \n"
          ]
        },
        {
          "name": "stdout",
          "output_type": "stream",
          "text": [
            "\u001b[1m380/380\u001b[0m \u001b[32m━━━━━━━━━━━━━━━━━━━━\u001b[0m\u001b[37m\u001b[0m \u001b[1m692s\u001b[0m 2s/step - accuracy: 0.8332 - loss: 0.5130 - val_accuracy: 0.9089 - val_loss: 0.2861 - learning_rate: 1.0000e-04\n",
            "Epoch 21/50\n",
            "\u001b[1m380/380\u001b[0m \u001b[32m━━━━━━━━━━━━━━━━━━━━\u001b[0m\u001b[37m\u001b[0m \u001b[1m0s\u001b[0m 2s/step - accuracy: 0.8349 - loss: 0.4988\n",
            "Epoch 21: val_loss improved from 0.28608 to 0.28086, saving model to ../best_model/model.h5\n"
          ]
        },
        {
          "name": "stderr",
          "output_type": "stream",
          "text": [
            "WARNING:absl:You are saving your model as an HDF5 file via `model.save()` or `keras.saving.save_model(model)`. This file format is considered legacy. We recommend using instead the native Keras format, e.g. `model.save('my_model.keras')` or `keras.saving.save_model(model, 'my_model.keras')`. \n"
          ]
        },
        {
          "name": "stdout",
          "output_type": "stream",
          "text": [
            "\u001b[1m380/380\u001b[0m \u001b[32m━━━━━━━━━━━━━━━━━━━━\u001b[0m\u001b[37m\u001b[0m \u001b[1m695s\u001b[0m 2s/step - accuracy: 0.8349 - loss: 0.4988 - val_accuracy: 0.9137 - val_loss: 0.2809 - learning_rate: 1.0000e-04\n",
            "Epoch 22/50\n",
            "\u001b[1m380/380\u001b[0m \u001b[32m━━━━━━━━━━━━━━━━━━━━\u001b[0m\u001b[37m\u001b[0m \u001b[1m0s\u001b[0m 2s/step - accuracy: 0.8422 - loss: 0.4783\n",
            "Epoch 22: val_loss improved from 0.28086 to 0.27620, saving model to ../best_model/model.h5\n"
          ]
        },
        {
          "name": "stderr",
          "output_type": "stream",
          "text": [
            "WARNING:absl:You are saving your model as an HDF5 file via `model.save()` or `keras.saving.save_model(model)`. This file format is considered legacy. We recommend using instead the native Keras format, e.g. `model.save('my_model.keras')` or `keras.saving.save_model(model, 'my_model.keras')`. \n"
          ]
        },
        {
          "name": "stdout",
          "output_type": "stream",
          "text": [
            "\u001b[1m380/380\u001b[0m \u001b[32m━━━━━━━━━━━━━━━━━━━━\u001b[0m\u001b[37m\u001b[0m \u001b[1m691s\u001b[0m 2s/step - accuracy: 0.8421 - loss: 0.4783 - val_accuracy: 0.9111 - val_loss: 0.2762 - learning_rate: 1.0000e-04\n",
            "Epoch 23/50\n",
            "\u001b[1m380/380\u001b[0m \u001b[32m━━━━━━━━━━━━━━━━━━━━\u001b[0m\u001b[37m\u001b[0m \u001b[1m0s\u001b[0m 3s/step - accuracy: 0.8436 - loss: 0.4809\n",
            "Epoch 23: val_loss did not improve from 0.27620\n",
            "\u001b[1m380/380\u001b[0m \u001b[32m━━━━━━━━━━━━━━━━━━━━\u001b[0m\u001b[37m\u001b[0m \u001b[1m1100s\u001b[0m 3s/step - accuracy: 0.8436 - loss: 0.4809 - val_accuracy: 0.9119 - val_loss: 0.2763 - learning_rate: 1.0000e-04\n",
            "Epoch 24/50\n",
            "\u001b[1m205/380\u001b[0m \u001b[32m━━━━━━━━━━\u001b[0m\u001b[37m━━━━━━━━━━\u001b[0m \u001b[1m8:49\u001b[0m 3s/step - accuracy: 0.8535 - loss: 0.4420"
          ]
        }
      ],
      "source": [
        "history_mobile = model_mobile.fit(train_gen,validation_data=val_gen,epochs=50, callbacks=callbacks_model)"
      ]
    },
    {
      "cell_type": "code",
      "execution_count": null,
      "metadata": {},
      "outputs": [],
      "source": [
        "base_model.trainable = True\n",
        "for layer in base_model.layers[:-30]:\n",
        "    layer.trainable = False                                                                                                                                                                                                                                                                   \n",
        "\n",
        "model_mobile.compile(optimizer=Adam(learning_rate=1e-5), loss='categorical_crossentropy', metrics=['accuracy'])"
      ]
    },
    {
      "cell_type": "code",
      "execution_count": null,
      "metadata": {},
      "outputs": [
        {
          "name": "stdout",
          "output_type": "stream",
          "text": [
            "Epoch 1/50\n",
            "\u001b[1m1088/1088\u001b[0m \u001b[32m━━━━━━━━━━━━━━━━━━━━\u001b[0m\u001b[37m\u001b[0m \u001b[1m0s\u001b[0m 1s/step - accuracy: 0.8247 - loss: 0.5799\n",
            "Epoch 1: val_loss did not improve from 0.56957\n",
            "\u001b[1m1088/1088\u001b[0m \u001b[32m━━━━━━━━━━━━━━━━━━━━\u001b[0m\u001b[37m\u001b[0m \u001b[1m1822s\u001b[0m 2s/step - accuracy: 0.8248 - loss: 0.5797 - val_accuracy: 0.8318 - val_loss: 0.6114 - learning_rate: 1.0000e-05\n",
            "Epoch 2/50\n",
            "\u001b[1m1088/1088\u001b[0m \u001b[32m━━━━━━━━━━━━━━━━━━━━\u001b[0m\u001b[37m\u001b[0m \u001b[1m0s\u001b[0m 1s/step - accuracy: 0.9286 - loss: 0.2227\n",
            "Epoch 2: val_loss improved from 0.56957 to 0.46921, saving model to ../best_model/model.h5\n"
          ]
        },
        {
          "name": "stderr",
          "output_type": "stream",
          "text": [
            "WARNING:absl:You are saving your model as an HDF5 file via `model.save()` or `keras.saving.save_model(model)`. This file format is considered legacy. We recommend using instead the native Keras format, e.g. `model.save('my_model.keras')` or `keras.saving.save_model(model, 'my_model.keras')`. \n"
          ]
        },
        {
          "name": "stdout",
          "output_type": "stream",
          "text": [
            "\u001b[1m1088/1088\u001b[0m \u001b[32m━━━━━━━━━━━━━━━━━━━━\u001b[0m\u001b[37m\u001b[0m \u001b[1m1804s\u001b[0m 2s/step - accuracy: 0.9286 - loss: 0.2227 - val_accuracy: 0.8601 - val_loss: 0.4692 - learning_rate: 1.0000e-05\n",
            "Epoch 3/50\n",
            "\u001b[1m1088/1088\u001b[0m \u001b[32m━━━━━━━━━━━━━━━━━━━━\u001b[0m\u001b[37m\u001b[0m \u001b[1m0s\u001b[0m 1s/step - accuracy: 0.9525 - loss: 0.1489\n",
            "Epoch 3: val_loss improved from 0.46921 to 0.40730, saving model to ../best_model/model.h5\n"
          ]
        },
        {
          "name": "stderr",
          "output_type": "stream",
          "text": [
            "WARNING:absl:You are saving your model as an HDF5 file via `model.save()` or `keras.saving.save_model(model)`. This file format is considered legacy. We recommend using instead the native Keras format, e.g. `model.save('my_model.keras')` or `keras.saving.save_model(model, 'my_model.keras')`. \n"
          ]
        },
        {
          "name": "stdout",
          "output_type": "stream",
          "text": [
            "\u001b[1m1088/1088\u001b[0m \u001b[32m━━━━━━━━━━━━━━━━━━━━\u001b[0m\u001b[37m\u001b[0m \u001b[1m1805s\u001b[0m 2s/step - accuracy: 0.9525 - loss: 0.1489 - val_accuracy: 0.8754 - val_loss: 0.4073 - learning_rate: 1.0000e-05\n",
            "Epoch 4/50\n",
            "\u001b[1m1088/1088\u001b[0m \u001b[32m━━━━━━━━━━━━━━━━━━━━\u001b[0m\u001b[37m\u001b[0m \u001b[1m0s\u001b[0m 1s/step - accuracy: 0.9598 - loss: 0.1225\n",
            "Epoch 4: val_loss improved from 0.40730 to 0.39138, saving model to ../best_model/model.h5\n"
          ]
        },
        {
          "name": "stderr",
          "output_type": "stream",
          "text": [
            "WARNING:absl:You are saving your model as an HDF5 file via `model.save()` or `keras.saving.save_model(model)`. This file format is considered legacy. We recommend using instead the native Keras format, e.g. `model.save('my_model.keras')` or `keras.saving.save_model(model, 'my_model.keras')`. \n"
          ]
        },
        {
          "name": "stdout",
          "output_type": "stream",
          "text": [
            "\u001b[1m1088/1088\u001b[0m \u001b[32m━━━━━━━━━━━━━━━━━━━━\u001b[0m\u001b[37m\u001b[0m \u001b[1m1967s\u001b[0m 2s/step - accuracy: 0.9598 - loss: 0.1225 - val_accuracy: 0.8833 - val_loss: 0.3914 - learning_rate: 1.0000e-05\n",
            "Epoch 5/50\n",
            "\u001b[1m1088/1088\u001b[0m \u001b[32m━━━━━━━━━━━━━━━━━━━━\u001b[0m\u001b[37m\u001b[0m \u001b[1m0s\u001b[0m 1s/step - accuracy: 0.9676 - loss: 0.1015\n",
            "Epoch 5: val_loss did not improve from 0.39138\n",
            "\u001b[1m1088/1088\u001b[0m \u001b[32m━━━━━━━━━━━━━━━━━━━━\u001b[0m\u001b[37m\u001b[0m \u001b[1m1952s\u001b[0m 2s/step - accuracy: 0.9676 - loss: 0.1015 - val_accuracy: 0.8887 - val_loss: 0.3923 - learning_rate: 1.0000e-05\n",
            "Epoch 6/50\n",
            "\u001b[1m1088/1088\u001b[0m \u001b[32m━━━━━━━━━━━━━━━━━━━━\u001b[0m\u001b[37m\u001b[0m \u001b[1m0s\u001b[0m 1s/step - accuracy: 0.9726 - loss: 0.0849\n",
            "Epoch 6: val_loss improved from 0.39138 to 0.35968, saving model to ../best_model/model.h5\n"
          ]
        },
        {
          "name": "stderr",
          "output_type": "stream",
          "text": [
            "WARNING:absl:You are saving your model as an HDF5 file via `model.save()` or `keras.saving.save_model(model)`. This file format is considered legacy. We recommend using instead the native Keras format, e.g. `model.save('my_model.keras')` or `keras.saving.save_model(model, 'my_model.keras')`. \n"
          ]
        },
        {
          "name": "stdout",
          "output_type": "stream",
          "text": [
            "\u001b[1m1088/1088\u001b[0m \u001b[32m━━━━━━━━━━━━━━━━━━━━\u001b[0m\u001b[37m\u001b[0m \u001b[1m1928s\u001b[0m 2s/step - accuracy: 0.9726 - loss: 0.0849 - val_accuracy: 0.8936 - val_loss: 0.3597 - learning_rate: 1.0000e-05\n",
            "Epoch 7/50\n",
            "\u001b[1m1088/1088\u001b[0m \u001b[32m━━━━━━━━━━━━━━━━━━━━\u001b[0m\u001b[37m\u001b[0m \u001b[1m0s\u001b[0m 2s/step - accuracy: 0.9766 - loss: 0.0732\n",
            "Epoch 7: val_loss improved from 0.35968 to 0.34918, saving model to ../best_model/model.h5\n"
          ]
        },
        {
          "name": "stderr",
          "output_type": "stream",
          "text": [
            "WARNING:absl:You are saving your model as an HDF5 file via `model.save()` or `keras.saving.save_model(model)`. This file format is considered legacy. We recommend using instead the native Keras format, e.g. `model.save('my_model.keras')` or `keras.saving.save_model(model, 'my_model.keras')`. \n"
          ]
        },
        {
          "name": "stdout",
          "output_type": "stream",
          "text": [
            "\u001b[1m1088/1088\u001b[0m \u001b[32m━━━━━━━━━━━━━━━━━━━━\u001b[0m\u001b[37m\u001b[0m \u001b[1m2169s\u001b[0m 2s/step - accuracy: 0.9766 - loss: 0.0732 - val_accuracy: 0.9008 - val_loss: 0.3492 - learning_rate: 1.0000e-05\n",
            "Epoch 8/50\n",
            "\u001b[1m1088/1088\u001b[0m \u001b[32m━━━━━━━━━━━━━━━━━━━━\u001b[0m\u001b[37m\u001b[0m \u001b[1m0s\u001b[0m 1s/step - accuracy: 0.9798 - loss: 0.0627\n",
            "Epoch 8: val_loss improved from 0.34918 to 0.32757, saving model to ../best_model/model.h5\n"
          ]
        },
        {
          "name": "stderr",
          "output_type": "stream",
          "text": [
            "WARNING:absl:You are saving your model as an HDF5 file via `model.save()` or `keras.saving.save_model(model)`. This file format is considered legacy. We recommend using instead the native Keras format, e.g. `model.save('my_model.keras')` or `keras.saving.save_model(model, 'my_model.keras')`. \n"
          ]
        },
        {
          "name": "stdout",
          "output_type": "stream",
          "text": [
            "\u001b[1m1088/1088\u001b[0m \u001b[32m━━━━━━━━━━━━━━━━━━━━\u001b[0m\u001b[37m\u001b[0m \u001b[1m2019s\u001b[0m 2s/step - accuracy: 0.9798 - loss: 0.0627 - val_accuracy: 0.9022 - val_loss: 0.3276 - learning_rate: 1.0000e-05\n",
            "Epoch 9/50\n",
            "\u001b[1m1088/1088\u001b[0m \u001b[32m━━━━━━━━━━━━━━━━━━━━\u001b[0m\u001b[37m\u001b[0m \u001b[1m0s\u001b[0m 2s/step - accuracy: 0.9819 - loss: 0.0553\n",
            "Epoch 9: val_loss did not improve from 0.32757\n",
            "\u001b[1m1088/1088\u001b[0m \u001b[32m━━━━━━━━━━━━━━━━━━━━\u001b[0m\u001b[37m\u001b[0m \u001b[1m2276s\u001b[0m 2s/step - accuracy: 0.9819 - loss: 0.0553 - val_accuracy: 0.9060 - val_loss: 0.3326 - learning_rate: 1.0000e-05\n",
            "Epoch 10/50\n",
            "\u001b[1m1088/1088\u001b[0m \u001b[32m━━━━━━━━━━━━━━━━━━━━\u001b[0m\u001b[37m\u001b[0m \u001b[1m0s\u001b[0m 2s/step - accuracy: 0.9835 - loss: 0.0522\n",
            "Epoch 10: val_loss improved from 0.32757 to 0.31907, saving model to ../best_model/model.h5\n"
          ]
        },
        {
          "name": "stderr",
          "output_type": "stream",
          "text": [
            "WARNING:absl:You are saving your model as an HDF5 file via `model.save()` or `keras.saving.save_model(model)`. This file format is considered legacy. We recommend using instead the native Keras format, e.g. `model.save('my_model.keras')` or `keras.saving.save_model(model, 'my_model.keras')`. \n"
          ]
        },
        {
          "name": "stdout",
          "output_type": "stream",
          "text": [
            "\u001b[1m1088/1088\u001b[0m \u001b[32m━━━━━━━━━━━━━━━━━━━━\u001b[0m\u001b[37m\u001b[0m \u001b[1m2042s\u001b[0m 2s/step - accuracy: 0.9835 - loss: 0.0522 - val_accuracy: 0.9080 - val_loss: 0.3191 - learning_rate: 1.0000e-05\n",
            "Epoch 11/50\n",
            "\u001b[1m1088/1088\u001b[0m \u001b[32m━━━━━━━━━━━━━━━━━━━━\u001b[0m\u001b[37m\u001b[0m \u001b[1m0s\u001b[0m 1s/step - accuracy: 0.9846 - loss: 0.0466\n",
            "Epoch 11: val_loss did not improve from 0.31907\n",
            "\u001b[1m1088/1088\u001b[0m \u001b[32m━━━━━━━━━━━━━━━━━━━━\u001b[0m\u001b[37m\u001b[0m \u001b[1m1834s\u001b[0m 2s/step - accuracy: 0.9846 - loss: 0.0466 - val_accuracy: 0.9048 - val_loss: 0.3414 - learning_rate: 1.0000e-05\n",
            "Epoch 12/50\n",
            "\u001b[1m1088/1088\u001b[0m \u001b[32m━━━━━━━━━━━━━━━━━━━━\u001b[0m\u001b[37m\u001b[0m \u001b[1m0s\u001b[0m 2s/step - accuracy: 0.9864 - loss: 0.0412\n",
            "Epoch 12: val_loss did not improve from 0.31907\n",
            "\u001b[1m1088/1088\u001b[0m \u001b[32m━━━━━━━━━━━━━━━━━━━━\u001b[0m\u001b[37m\u001b[0m \u001b[1m3337s\u001b[0m 3s/step - accuracy: 0.9864 - loss: 0.0412 - val_accuracy: 0.9107 - val_loss: 0.3191 - learning_rate: 1.0000e-05\n",
            "Epoch 13/50\n",
            "\u001b[1m1088/1088\u001b[0m \u001b[32m━━━━━━━━━━━━━━━━━━━━\u001b[0m\u001b[37m\u001b[0m \u001b[1m0s\u001b[0m 2s/step - accuracy: 0.9879 - loss: 0.0384\n",
            "Epoch 13: val_loss improved from 0.31907 to 0.31595, saving model to ../best_model/model.h5\n"
          ]
        },
        {
          "name": "stderr",
          "output_type": "stream",
          "text": [
            "WARNING:absl:You are saving your model as an HDF5 file via `model.save()` or `keras.saving.save_model(model)`. This file format is considered legacy. We recommend using instead the native Keras format, e.g. `model.save('my_model.keras')` or `keras.saving.save_model(model, 'my_model.keras')`. \n"
          ]
        },
        {
          "name": "stdout",
          "output_type": "stream",
          "text": [
            "\u001b[1m1088/1088\u001b[0m \u001b[32m━━━━━━━━━━━━━━━━━━━━\u001b[0m\u001b[37m\u001b[0m \u001b[1m2015s\u001b[0m 2s/step - accuracy: 0.9879 - loss: 0.0384 - val_accuracy: 0.9107 - val_loss: 0.3160 - learning_rate: 1.0000e-05\n",
            "Epoch 14/50\n",
            "\u001b[1m1088/1088\u001b[0m \u001b[32m━━━━━━━━━━━━━━━━━━━━\u001b[0m\u001b[37m\u001b[0m \u001b[1m0s\u001b[0m 1s/step - accuracy: 0.9885 - loss: 0.0345\n",
            "Epoch 14: val_loss did not improve from 0.31595\n",
            "\u001b[1m1088/1088\u001b[0m \u001b[32m━━━━━━━━━━━━━━━━━━━━\u001b[0m\u001b[37m\u001b[0m \u001b[1m1796s\u001b[0m 2s/step - accuracy: 0.9885 - loss: 0.0345 - val_accuracy: 0.9110 - val_loss: 0.3202 - learning_rate: 1.0000e-05\n",
            "Epoch 15/50\n",
            "\u001b[1m1088/1088\u001b[0m \u001b[32m━━━━━━━━━━━━━━━━━━━━\u001b[0m\u001b[37m\u001b[0m \u001b[1m0s\u001b[0m 1s/step - accuracy: 0.9896 - loss: 0.0335\n",
            "Epoch 15: val_loss improved from 0.31595 to 0.30206, saving model to ../best_model/model.h5\n"
          ]
        },
        {
          "name": "stderr",
          "output_type": "stream",
          "text": [
            "WARNING:absl:You are saving your model as an HDF5 file via `model.save()` or `keras.saving.save_model(model)`. This file format is considered legacy. We recommend using instead the native Keras format, e.g. `model.save('my_model.keras')` or `keras.saving.save_model(model, 'my_model.keras')`. \n"
          ]
        },
        {
          "name": "stdout",
          "output_type": "stream",
          "text": [
            "\u001b[1m1088/1088\u001b[0m \u001b[32m━━━━━━━━━━━━━━━━━━━━\u001b[0m\u001b[37m\u001b[0m \u001b[1m1794s\u001b[0m 2s/step - accuracy: 0.9896 - loss: 0.0335 - val_accuracy: 0.9151 - val_loss: 0.3021 - learning_rate: 1.0000e-05\n",
            "Epoch 16/50\n",
            "\u001b[1m1088/1088\u001b[0m \u001b[32m━━━━━━━━━━━━━━━━━━━━\u001b[0m\u001b[37m\u001b[0m \u001b[1m0s\u001b[0m 1s/step - accuracy: 0.9893 - loss: 0.0339\n",
            "Epoch 16: val_loss did not improve from 0.30206\n",
            "\u001b[1m1088/1088\u001b[0m \u001b[32m━━━━━━━━━━━━━━━━━━━━\u001b[0m\u001b[37m\u001b[0m \u001b[1m1795s\u001b[0m 2s/step - accuracy: 0.9893 - loss: 0.0339 - val_accuracy: 0.9140 - val_loss: 0.3173 - learning_rate: 1.0000e-05\n",
            "Epoch 17/50\n",
            "\u001b[1m1088/1088\u001b[0m \u001b[32m━━━━━━━━━━━━━━━━━━━━\u001b[0m\u001b[37m\u001b[0m \u001b[1m0s\u001b[0m 1s/step - accuracy: 0.9902 - loss: 0.0291\n",
            "Epoch 17: val_loss did not improve from 0.30206\n",
            "\u001b[1m1088/1088\u001b[0m \u001b[32m━━━━━━━━━━━━━━━━━━━━\u001b[0m\u001b[37m\u001b[0m \u001b[1m1795s\u001b[0m 2s/step - accuracy: 0.9902 - loss: 0.0291 - val_accuracy: 0.9156 - val_loss: 0.3055 - learning_rate: 1.0000e-05\n",
            "Epoch 18/50\n",
            "\u001b[1m1088/1088\u001b[0m \u001b[32m━━━━━━━━━━━━━━━━━━━━\u001b[0m\u001b[37m\u001b[0m \u001b[1m0s\u001b[0m 2s/step - accuracy: 0.9917 - loss: 0.0278\n",
            "Epoch 18: val_loss improved from 0.30206 to 0.30157, saving model to ../best_model/model.h5\n"
          ]
        },
        {
          "name": "stderr",
          "output_type": "stream",
          "text": [
            "WARNING:absl:You are saving your model as an HDF5 file via `model.save()` or `keras.saving.save_model(model)`. This file format is considered legacy. We recommend using instead the native Keras format, e.g. `model.save('my_model.keras')` or `keras.saving.save_model(model, 'my_model.keras')`. \n"
          ]
        },
        {
          "name": "stdout",
          "output_type": "stream",
          "text": [
            "\u001b[1m1088/1088\u001b[0m \u001b[32m━━━━━━━━━━━━━━━━━━━━\u001b[0m\u001b[37m\u001b[0m \u001b[1m2257s\u001b[0m 2s/step - accuracy: 0.9917 - loss: 0.0278 - val_accuracy: 0.9202 - val_loss: 0.3016 - learning_rate: 1.0000e-05\n",
            "Epoch 19/50\n",
            "\u001b[1m1088/1088\u001b[0m \u001b[32m━━━━━━━━━━━━━━━━━━━━\u001b[0m\u001b[37m\u001b[0m \u001b[1m0s\u001b[0m 2s/step - accuracy: 0.9908 - loss: 0.0290\n",
            "Epoch 19: val_loss did not improve from 0.30157\n",
            "\u001b[1m1088/1088\u001b[0m \u001b[32m━━━━━━━━━━━━━━━━━━━━\u001b[0m\u001b[37m\u001b[0m \u001b[1m3049s\u001b[0m 3s/step - accuracy: 0.9908 - loss: 0.0290 - val_accuracy: 0.9157 - val_loss: 0.3158 - learning_rate: 1.0000e-05\n",
            "Epoch 20/50\n",
            "\u001b[1m1088/1088\u001b[0m \u001b[32m━━━━━━━━━━━━━━━━━━━━\u001b[0m\u001b[37m\u001b[0m \u001b[1m0s\u001b[0m 2s/step - accuracy: 0.9896 - loss: 0.0311\n",
            "Epoch 20: val_loss did not improve from 0.30157\n",
            "\u001b[1m1088/1088\u001b[0m \u001b[32m━━━━━━━━━━━━━━━━━━━━\u001b[0m\u001b[37m\u001b[0m \u001b[1m2883s\u001b[0m 3s/step - accuracy: 0.9896 - loss: 0.0311 - val_accuracy: 0.9168 - val_loss: 0.3091 - learning_rate: 1.0000e-05\n",
            "Epoch 21/50\n",
            "\u001b[1m1088/1088\u001b[0m \u001b[32m━━━━━━━━━━━━━━━━━━━━\u001b[0m\u001b[37m\u001b[0m \u001b[1m0s\u001b[0m 2s/step - accuracy: 0.9927 - loss: 0.0237\n",
            "Epoch 21: ReduceLROnPlateau reducing learning rate to 4.999999873689376e-06.\n",
            "\n",
            "Epoch 21: val_loss did not improve from 0.30157\n",
            "\u001b[1m1088/1088\u001b[0m \u001b[32m━━━━━━━━━━━━━━━━━━━━\u001b[0m\u001b[37m\u001b[0m \u001b[1m2983s\u001b[0m 3s/step - accuracy: 0.9927 - loss: 0.0237 - val_accuracy: 0.9172 - val_loss: 0.3108 - learning_rate: 1.0000e-05\n",
            "Epoch 22/50\n",
            "\u001b[1m1088/1088\u001b[0m \u001b[32m━━━━━━━━━━━━━━━━━━━━\u001b[0m\u001b[37m\u001b[0m \u001b[1m0s\u001b[0m 2s/step - accuracy: 0.9929 - loss: 0.0236\n",
            "Epoch 22: val_loss did not improve from 0.30157\n",
            "\u001b[1m1088/1088\u001b[0m \u001b[32m━━━━━━━━━━━━━━━━━━━━\u001b[0m\u001b[37m\u001b[0m \u001b[1m3048s\u001b[0m 3s/step - accuracy: 0.9929 - loss: 0.0236 - val_accuracy: 0.9171 - val_loss: 0.3145 - learning_rate: 5.0000e-06\n",
            "Epoch 23/50\n",
            "\u001b[1m1088/1088\u001b[0m \u001b[32m━━━━━━━━━━━━━━━━━━━━\u001b[0m\u001b[37m\u001b[0m \u001b[1m0s\u001b[0m 1s/step - accuracy: 0.9933 - loss: 0.0227\n",
            "Epoch 23: val_loss did not improve from 0.30157\n",
            "\u001b[1m1088/1088\u001b[0m \u001b[32m━━━━━━━━━━━━━━━━━━━━\u001b[0m\u001b[37m\u001b[0m \u001b[1m1884s\u001b[0m 2s/step - accuracy: 0.9933 - loss: 0.0227 - val_accuracy: 0.9162 - val_loss: 0.3147 - learning_rate: 5.0000e-06\n",
            "Epoch 23: early stopping\n",
            "Restoring model weights from the end of the best epoch: 18.\n"
          ]
        }
      ],
      "source": [
        "history_mobile_finetuned = model_mobile.fit(train_gen, validation_data=val_gen, epochs=50, callbacks=callbacks_model)"
      ]
    },
    {
      "cell_type": "markdown",
      "metadata": {},
      "source": [
        "- Visualization about Accuracy and Val Accuracy"
      ]
    },
    {
      "cell_type": "code",
      "execution_count": null,
      "metadata": {},
      "outputs": [
        {
          "data": {
            "image/png": "[encoded data removed]",
            "text/plain": [
              "<Figure size 640x480 with 1 Axes>"
            ]
          },
          "metadata": {},
          "output_type": "display_data"
        },
        {
          "data": {
            "image/png": "[encoded data removed]",
            "text/plain": [
              "<Figure size 640x480 with 1 Axes>"
            ]
          },
          "metadata": {},
          "output_type": "display_data"
        }
      ],
      "source": [
        "plt.plot(history_mobile_finetuned.history['accuracy'], label = 'Training Accuracy')\n",
        "plt.plot(history_mobile_finetuned.history['val_accuracy'], label='Validation Accuracy')\n",
        "plt.title('Training and Validation Accuracy')\n",
        "plt.xlabel('Epoch')\n",
        "plt.ylabel('Accuracy')\n",
        "plt.legend()\n",
        "plt.show()\n",
        "\n",
        "plt.plot(history_mobile_finetuned.history['loss'], label='Training Loss')\n",
        "plt.plot(history_mobile_finetuned.history['val_loss'], label='Validation Loss')\n",
        "plt.title('Training and Validation Loss')\n",
        "plt.xlabel('Epoch')\n",
        "plt.ylabel('Loss')\n",
        "plt.legend()\n",
        "plt.show()"
      ]
    },
    {
      "cell_type": "code",
      "execution_count": null,
      "metadata": {},
      "outputs": [
        {
          "name": "stdout",
          "output_type": "stream",
          "text": [
            "\u001b[1m272/272\u001b[0m \u001b[32m━━━━━━━━━━━━━━━━━━━━\u001b[0m\u001b[37m\u001b[0m \u001b[1m342s\u001b[0m 1s/step\n"
          ]
        },
        {
          "data": {
            "image/png": "[encoded data removed]",
            "text/plain": [
              "<Figure size 640x480 with 2 Axes>"
            ]
          },
          "metadata": {},
          "output_type": "display_data"
        }
      ],
      "source": [
        "nb_samples= val_gen.samples\n",
        "y_pred_net = model_mobile.predict(val_gen, steps=int(np.ceil(nb_samples/val_gen.batch_size)))\n",
        "y_pred_classes = np.argmax(y_pred_net, axis=1)\n",
        "y_true = val_gen.classes\n",
        "cm = confusion_matrix(y_true, y_pred_classes)\n",
        "class_names = list(val_gen.class_indices.keys())\n",
        "disp = ConfusionMatrixDisplay(confusion_matrix=cm, display_labels=class_names)\n",
        "disp.plot(cmap=plt.cm.Blues)\n",
        "plt.title(\"Confusion Matrix\")\n",
        "plt.show()"
      ]
    },
    {
      "cell_type": "markdown",
      "metadata": {},
      "source": [
        "# Export Model"
      ]
    },
    {
      "cell_type": "markdown",
      "metadata": {},
      "source": [
        "- Export Model to Save Model"
      ]
    },
    {
      "cell_type": "code",
      "execution_count": null,
      "metadata": {},
      "outputs": [
        {
          "name": "stdout",
          "output_type": "stream",
          "text": [
            "INFO:tensorflow:Assets written to: ../save_model/assets\n"
          ]
        },
        {
          "name": "stderr",
          "output_type": "stream",
          "text": [
            "INFO:tensorflow:Assets written to: ../save_model/assets\n"
          ]
        },
        {
          "name": "stdout",
          "output_type": "stream",
          "text": [
            "Saved artifact at '../save_model/'. The following endpoints are available:\n",
            "\n",
            "* Endpoint 'serve'\n",
            "  args_0 (POSITIONAL_ONLY): TensorSpec(shape=(None, 224, 224, 3), dtype=tf.float32, name='keras_tensor_315')\n",
            "Output Type:\n",
            "  TensorSpec(shape=(None, 29), dtype=tf.float32, name=None)\n",
            "Captures:\n",
            "  1488772873232: TensorSpec(shape=(), dtype=tf.resource, name=None)\n",
            "  1488782163488: TensorSpec(shape=(), dtype=tf.resource, name=None)\n",
            "  1488782157504: TensorSpec(shape=(), dtype=tf.resource, name=None)\n",
            "  1488782159616: TensorSpec(shape=(), dtype=tf.resource, name=None)\n",
            "  1488782156272: TensorSpec(shape=(), dtype=tf.resource, name=None)\n",
            "  1488782158384: TensorSpec(shape=(), dtype=tf.resource, name=None)\n",
            "  1488787730176: TensorSpec(shape=(), dtype=tf.resource, name=None)\n",
            "  1488787732816: TensorSpec(shape=(), dtype=tf.resource, name=None)\n",
            "  1488787719440: TensorSpec(shape=(), dtype=tf.resource, name=None)\n",
            "  1488787729824: TensorSpec(shape=(), dtype=tf.resource, name=None)\n",
            "  1488787731760: TensorSpec(shape=(), dtype=tf.resource, name=None)\n",
            "  1488787731936: TensorSpec(shape=(), dtype=tf.resource, name=None)\n",
            "  1488787727008: TensorSpec(shape=(), dtype=tf.resource, name=None)\n",
            "  1488787720144: TensorSpec(shape=(), dtype=tf.resource, name=None)\n",
            "  1488787732112: TensorSpec(shape=(), dtype=tf.resource, name=None)\n",
            "  1488787722608: TensorSpec(shape=(), dtype=tf.resource, name=None)\n",
            "  1488961397232: TensorSpec(shape=(), dtype=tf.resource, name=None)\n",
            "  1488961394768: TensorSpec(shape=(), dtype=tf.resource, name=None)\n",
            "  1488961401984: TensorSpec(shape=(), dtype=tf.resource, name=None)\n",
            "  1488961396176: TensorSpec(shape=(), dtype=tf.resource, name=None)\n",
            "  1488961399168: TensorSpec(shape=(), dtype=tf.resource, name=None)\n",
            "  1488961388960: TensorSpec(shape=(), dtype=tf.resource, name=None)\n",
            "  1488961403568: TensorSpec(shape=(), dtype=tf.resource, name=None)\n",
            "  1488961398640: TensorSpec(shape=(), dtype=tf.resource, name=None)\n",
            "  1488961402688: TensorSpec(shape=(), dtype=tf.resource, name=None)\n",
            "  1488961391424: TensorSpec(shape=(), dtype=tf.resource, name=None)\n",
            "  1488975007232: TensorSpec(shape=(), dtype=tf.resource, name=None)\n",
            "  1488975009872: TensorSpec(shape=(), dtype=tf.resource, name=None)\n",
            "  1488975005824: TensorSpec(shape=(), dtype=tf.resource, name=None)\n",
            "  1488975007760: TensorSpec(shape=(), dtype=tf.resource, name=None)\n",
            "  1488975014448: TensorSpec(shape=(), dtype=tf.resource, name=None)\n",
            "  1488975013392: TensorSpec(shape=(), dtype=tf.resource, name=None)\n",
            "  1488975016032: TensorSpec(shape=(), dtype=tf.resource, name=None)\n",
            "  1488975011984: TensorSpec(shape=(), dtype=tf.resource, name=None)\n",
            "  1488975013920: TensorSpec(shape=(), dtype=tf.resource, name=None)\n",
            "  1488975018496: TensorSpec(shape=(), dtype=tf.resource, name=None)\n",
            "  1488975071184: TensorSpec(shape=(), dtype=tf.resource, name=None)\n",
            "  1488975069424: TensorSpec(shape=(), dtype=tf.resource, name=None)\n",
            "  1488975017792: TensorSpec(shape=(), dtype=tf.resource, name=None)\n",
            "  1488975071536: TensorSpec(shape=(), dtype=tf.resource, name=None)\n",
            "  1488975078576: TensorSpec(shape=(), dtype=tf.resource, name=None)\n",
            "  1488975077520: TensorSpec(shape=(), dtype=tf.resource, name=None)\n",
            "  1488975080160: TensorSpec(shape=(), dtype=tf.resource, name=None)\n",
            "  1488975076112: TensorSpec(shape=(), dtype=tf.resource, name=None)\n",
            "  1488975078048: TensorSpec(shape=(), dtype=tf.resource, name=None)\n",
            "  1488975082976: TensorSpec(shape=(), dtype=tf.resource, name=None)\n",
            "  1488975118928: TensorSpec(shape=(), dtype=tf.resource, name=None)\n",
            "  1488975082800: TensorSpec(shape=(), dtype=tf.resource, name=None)\n",
            "  1488975084032: TensorSpec(shape=(), dtype=tf.resource, name=None)\n",
            "  1488975118400: TensorSpec(shape=(), dtype=tf.resource, name=None)\n",
            "  1488975084560: TensorSpec(shape=(), dtype=tf.resource, name=None)\n",
            "  1488975126672: TensorSpec(shape=(), dtype=tf.resource, name=None)\n",
            "  1488975129488: TensorSpec(shape=(), dtype=tf.resource, name=None)\n",
            "  1488975125264: TensorSpec(shape=(), dtype=tf.resource, name=None)\n",
            "  1488975127728: TensorSpec(shape=(), dtype=tf.resource, name=None)\n",
            "  1488975132128: TensorSpec(shape=(), dtype=tf.resource, name=None)\n",
            "  1488975217232: TensorSpec(shape=(), dtype=tf.resource, name=None)\n",
            "  1488975131952: TensorSpec(shape=(), dtype=tf.resource, name=None)\n",
            "  1488975133184: TensorSpec(shape=(), dtype=tf.resource, name=None)\n",
            "  1488975216704: TensorSpec(shape=(), dtype=tf.resource, name=None)\n",
            "  1488975125616: TensorSpec(shape=(), dtype=tf.resource, name=None)\n",
            "  1488975222512: TensorSpec(shape=(), dtype=tf.resource, name=None)\n",
            "  1488975225152: TensorSpec(shape=(), dtype=tf.resource, name=None)\n",
            "  1488975221104: TensorSpec(shape=(), dtype=tf.resource, name=None)\n",
            "  1488975223040: TensorSpec(shape=(), dtype=tf.resource, name=None)\n",
            "  1488975231488: TensorSpec(shape=(), dtype=tf.resource, name=None)\n",
            "  1488975229728: TensorSpec(shape=(), dtype=tf.resource, name=None)\n",
            "  1488975232544: TensorSpec(shape=(), dtype=tf.resource, name=None)\n",
            "  1488975221456: TensorSpec(shape=(), dtype=tf.resource, name=None)\n",
            "  1488975230784: TensorSpec(shape=(), dtype=tf.resource, name=None)\n",
            "  1488975227440: TensorSpec(shape=(), dtype=tf.resource, name=None)\n",
            "  1488975253872: TensorSpec(shape=(), dtype=tf.resource, name=None)\n",
            "  1488975256512: TensorSpec(shape=(), dtype=tf.resource, name=None)\n",
            "  1488975252464: TensorSpec(shape=(), dtype=tf.resource, name=None)\n",
            "  1488975254400: TensorSpec(shape=(), dtype=tf.resource, name=None)\n",
            "  1488975262496: TensorSpec(shape=(), dtype=tf.resource, name=None)\n",
            "  1488975261440: TensorSpec(shape=(), dtype=tf.resource, name=None)\n",
            "  1488975264080: TensorSpec(shape=(), dtype=tf.resource, name=None)\n",
            "  1488975260032: TensorSpec(shape=(), dtype=tf.resource, name=None)\n",
            "  1488975261968: TensorSpec(shape=(), dtype=tf.resource, name=None)\n",
            "  1488975260384: TensorSpec(shape=(), dtype=tf.resource, name=None)\n",
            "  1488975334560: TensorSpec(shape=(), dtype=tf.resource, name=None)\n",
            "  1488975336672: TensorSpec(shape=(), dtype=tf.resource, name=None)\n",
            "  1488975332448: TensorSpec(shape=(), dtype=tf.resource, name=None)\n",
            "  1488975335968: TensorSpec(shape=(), dtype=tf.resource, name=None)\n",
            "  1488975343008: TensorSpec(shape=(), dtype=tf.resource, name=None)\n",
            "  1488975341952: TensorSpec(shape=(), dtype=tf.resource, name=None)\n",
            "  1488975344592: TensorSpec(shape=(), dtype=tf.resource, name=None)\n",
            "  1488975332096: TensorSpec(shape=(), dtype=tf.resource, name=None)\n",
            "  1488975342480: TensorSpec(shape=(), dtype=tf.resource, name=None)\n",
            "  1488975347408: TensorSpec(shape=(), dtype=tf.resource, name=None)\n",
            "  1488975398688: TensorSpec(shape=(), dtype=tf.resource, name=None)\n",
            "  1488975400800: TensorSpec(shape=(), dtype=tf.resource, name=None)\n",
            "  1488975396928: TensorSpec(shape=(), dtype=tf.resource, name=None)\n",
            "  1488975400448: TensorSpec(shape=(), dtype=tf.resource, name=None)\n",
            "  1488975409248: TensorSpec(shape=(), dtype=tf.resource, name=None)\n",
            "  1488975407488: TensorSpec(shape=(), dtype=tf.resource, name=None)\n",
            "  1488975410304: TensorSpec(shape=(), dtype=tf.resource, name=None)\n",
            "  1488975397104: TensorSpec(shape=(), dtype=tf.resource, name=None)\n",
            "  1488975408544: TensorSpec(shape=(), dtype=tf.resource, name=None)\n",
            "  1488975412944: TensorSpec(shape=(), dtype=tf.resource, name=None)\n",
            "  1488975480608: TensorSpec(shape=(), dtype=tf.resource, name=None)\n",
            "  1488975482720: TensorSpec(shape=(), dtype=tf.resource, name=None)\n",
            "  1488975478848: TensorSpec(shape=(), dtype=tf.resource, name=None)\n",
            "  1488975482368: TensorSpec(shape=(), dtype=tf.resource, name=None)\n",
            "  1488975488000: TensorSpec(shape=(), dtype=tf.resource, name=None)\n",
            "  1488975486944: TensorSpec(shape=(), dtype=tf.resource, name=None)\n",
            "  1488975489584: TensorSpec(shape=(), dtype=tf.resource, name=None)\n",
            "  1488975485536: TensorSpec(shape=(), dtype=tf.resource, name=None)\n",
            "  1488975487472: TensorSpec(shape=(), dtype=tf.resource, name=None)\n",
            "  1488975492048: TensorSpec(shape=(), dtype=tf.resource, name=None)\n",
            "  1488975491168: TensorSpec(shape=(), dtype=tf.resource, name=None)\n",
            "  1488975490816: TensorSpec(shape=(), dtype=tf.resource, name=None)\n",
            "  1488975493104: TensorSpec(shape=(), dtype=tf.resource, name=None)\n",
            "  1488975545264: TensorSpec(shape=(), dtype=tf.resource, name=None)\n",
            "  1488975491872: TensorSpec(shape=(), dtype=tf.resource, name=None)\n",
            "  1488975551072: TensorSpec(shape=(), dtype=tf.resource, name=None)\n",
            "  1488975553712: TensorSpec(shape=(), dtype=tf.resource, name=None)\n",
            "  1488975549664: TensorSpec(shape=(), dtype=tf.resource, name=None)\n",
            "  1488975551600: TensorSpec(shape=(), dtype=tf.resource, name=None)\n",
            "  1488975559696: TensorSpec(shape=(), dtype=tf.resource, name=None)\n",
            "  1488975556176: TensorSpec(shape=(), dtype=tf.resource, name=None)\n",
            "  1488975555472: TensorSpec(shape=(), dtype=tf.resource, name=None)\n",
            "  1488975556880: TensorSpec(shape=(), dtype=tf.resource, name=None)\n",
            "  1488975559872: TensorSpec(shape=(), dtype=tf.resource, name=None)\n",
            "  1488975558816: TensorSpec(shape=(), dtype=tf.resource, name=None)\n",
            "  1488975615200: TensorSpec(shape=(), dtype=tf.resource, name=None)\n",
            "  1488975618016: TensorSpec(shape=(), dtype=tf.resource, name=None)\n",
            "  1488975613792: TensorSpec(shape=(), dtype=tf.resource, name=None)\n",
            "  1488975616256: TensorSpec(shape=(), dtype=tf.resource, name=None)\n",
            "  1488975623824: TensorSpec(shape=(), dtype=tf.resource, name=None)\n",
            "  1488975622768: TensorSpec(shape=(), dtype=tf.resource, name=None)\n",
            "  1488975625408: TensorSpec(shape=(), dtype=tf.resource, name=None)\n",
            "  1488975612912: TensorSpec(shape=(), dtype=tf.resource, name=None)\n",
            "  1488975623296: TensorSpec(shape=(), dtype=tf.resource, name=None)\n",
            "  1488975614144: TensorSpec(shape=(), dtype=tf.resource, name=None)\n",
            "  1488975679680: TensorSpec(shape=(), dtype=tf.resource, name=None)\n",
            "  1488975682320: TensorSpec(shape=(), dtype=tf.resource, name=None)\n",
            "  1488975678272: TensorSpec(shape=(), dtype=tf.resource, name=None)\n",
            "  1488975680208: TensorSpec(shape=(), dtype=tf.resource, name=None)\n",
            "  1488975688656: TensorSpec(shape=(), dtype=tf.resource, name=None)\n",
            "  1488975686896: TensorSpec(shape=(), dtype=tf.resource, name=None)\n",
            "  1488975689712: TensorSpec(shape=(), dtype=tf.resource, name=None)\n",
            "  1488975678624: TensorSpec(shape=(), dtype=tf.resource, name=None)\n",
            "  1488975687952: TensorSpec(shape=(), dtype=tf.resource, name=None)\n",
            "  1488975684608: TensorSpec(shape=(), dtype=tf.resource, name=None)\n",
            "  1488975743984: TensorSpec(shape=(), dtype=tf.resource, name=None)\n",
            "  1488975746448: TensorSpec(shape=(), dtype=tf.resource, name=None)\n",
            "  1488975741872: TensorSpec(shape=(), dtype=tf.resource, name=None)\n",
            "  1488975745392: TensorSpec(shape=(), dtype=tf.resource, name=None)\n",
            "  1488975752432: TensorSpec(shape=(), dtype=tf.resource, name=None)\n",
            "  1488975751376: TensorSpec(shape=(), dtype=tf.resource, name=None)\n",
            "  1488975754016: TensorSpec(shape=(), dtype=tf.resource, name=None)\n",
            "  1488975749968: TensorSpec(shape=(), dtype=tf.resource, name=None)\n",
            "  1488975751904: TensorSpec(shape=(), dtype=tf.resource, name=None)\n",
            "  1488975756480: TensorSpec(shape=(), dtype=tf.resource, name=None)\n",
            "  1488975792784: TensorSpec(shape=(), dtype=tf.resource, name=None)\n",
            "  1488975790496: TensorSpec(shape=(), dtype=tf.resource, name=None)\n",
            "  1488975793840: TensorSpec(shape=(), dtype=tf.resource, name=None)\n",
            "  1488975793136: TensorSpec(shape=(), dtype=tf.resource, name=None)\n",
            "  1488975800176: TensorSpec(shape=(), dtype=tf.resource, name=None)\n",
            "  1488975799120: TensorSpec(shape=(), dtype=tf.resource, name=None)\n",
            "  1488975801760: TensorSpec(shape=(), dtype=tf.resource, name=None)\n",
            "  1488975797712: TensorSpec(shape=(), dtype=tf.resource, name=None)\n",
            "  1488975799648: TensorSpec(shape=(), dtype=tf.resource, name=None)\n",
            "  1488975803168: TensorSpec(shape=(), dtype=tf.resource, name=None)\n",
            "  1488975802816: TensorSpec(shape=(), dtype=tf.resource, name=None)\n",
            "  1488975800352: TensorSpec(shape=(), dtype=tf.resource, name=None)\n",
            "  1488975804224: TensorSpec(shape=(), dtype=tf.resource, name=None)\n",
            "  1488975840176: TensorSpec(shape=(), dtype=tf.resource, name=None)\n",
            "  1488975805280: TensorSpec(shape=(), dtype=tf.resource, name=None)\n",
            "  1488975845456: TensorSpec(shape=(), dtype=tf.resource, name=None)\n",
            "  1488975848272: TensorSpec(shape=(), dtype=tf.resource, name=None)\n",
            "  1488975844048: TensorSpec(shape=(), dtype=tf.resource, name=None)\n",
            "  1488975846512: TensorSpec(shape=(), dtype=tf.resource, name=None)\n",
            "  1488975854080: TensorSpec(shape=(), dtype=tf.resource, name=None)\n",
            "  1488975853024: TensorSpec(shape=(), dtype=tf.resource, name=None)\n",
            "  1488975849856: TensorSpec(shape=(), dtype=tf.resource, name=None)\n",
            "  1488975843168: TensorSpec(shape=(), dtype=tf.resource, name=None)\n",
            "  1488975853552: TensorSpec(shape=(), dtype=tf.resource, name=None)\n",
            "  1488975844400: TensorSpec(shape=(), dtype=tf.resource, name=None)\n",
            "  1488975959088: TensorSpec(shape=(), dtype=tf.resource, name=None)\n",
            "  1488975961728: TensorSpec(shape=(), dtype=tf.resource, name=None)\n",
            "  1488975957680: TensorSpec(shape=(), dtype=tf.resource, name=None)\n",
            "  1488975959616: TensorSpec(shape=(), dtype=tf.resource, name=None)\n",
            "  1488975968064: TensorSpec(shape=(), dtype=tf.resource, name=None)\n",
            "  1488975966304: TensorSpec(shape=(), dtype=tf.resource, name=None)\n",
            "  1488975969120: TensorSpec(shape=(), dtype=tf.resource, name=None)\n",
            "  1488975958032: TensorSpec(shape=(), dtype=tf.resource, name=None)\n",
            "  1488975967360: TensorSpec(shape=(), dtype=tf.resource, name=None)\n",
            "  1488975964016: TensorSpec(shape=(), dtype=tf.resource, name=None)\n",
            "  1488976006832: TensorSpec(shape=(), dtype=tf.resource, name=None)\n",
            "  1488976009472: TensorSpec(shape=(), dtype=tf.resource, name=None)\n",
            "  1488976005424: TensorSpec(shape=(), dtype=tf.resource, name=None)\n",
            "  1488976007360: TensorSpec(shape=(), dtype=tf.resource, name=None)\n",
            "  1488976015456: TensorSpec(shape=(), dtype=tf.resource, name=None)\n",
            "  1488976014400: TensorSpec(shape=(), dtype=tf.resource, name=None)\n",
            "  1488976017040: TensorSpec(shape=(), dtype=tf.resource, name=None)\n",
            "  1488976012992: TensorSpec(shape=(), dtype=tf.resource, name=None)\n",
            "  1488976014928: TensorSpec(shape=(), dtype=tf.resource, name=None)\n",
            "  1488976013344: TensorSpec(shape=(), dtype=tf.resource, name=None)\n",
            "  1488976121520: TensorSpec(shape=(), dtype=tf.resource, name=None)\n",
            "  1488976124336: TensorSpec(shape=(), dtype=tf.resource, name=None)\n",
            "  1488976120112: TensorSpec(shape=(), dtype=tf.resource, name=None)\n",
            "  1488976122576: TensorSpec(shape=(), dtype=tf.resource, name=None)\n",
            "  1488976130144: TensorSpec(shape=(), dtype=tf.resource, name=None)\n",
            "  1488976129088: TensorSpec(shape=(), dtype=tf.resource, name=None)\n",
            "  1488976131728: TensorSpec(shape=(), dtype=tf.resource, name=None)\n",
            "  1488976119232: TensorSpec(shape=(), dtype=tf.resource, name=None)\n",
            "  1488976129616: TensorSpec(shape=(), dtype=tf.resource, name=None)\n",
            "  1488976133136: TensorSpec(shape=(), dtype=tf.resource, name=None)\n",
            "  1488976151648: TensorSpec(shape=(), dtype=tf.resource, name=None)\n",
            "  1488976151296: TensorSpec(shape=(), dtype=tf.resource, name=None)\n",
            "  1488976153760: TensorSpec(shape=(), dtype=tf.resource, name=None)\n",
            "  1488976153408: TensorSpec(shape=(), dtype=tf.resource, name=None)\n",
            "  1488976160800: TensorSpec(shape=(), dtype=tf.resource, name=None)\n",
            "  1488976159040: TensorSpec(shape=(), dtype=tf.resource, name=None)\n",
            "  1488976161856: TensorSpec(shape=(), dtype=tf.resource, name=None)\n",
            "  1488976150592: TensorSpec(shape=(), dtype=tf.resource, name=None)\n",
            "  1488976160096: TensorSpec(shape=(), dtype=tf.resource, name=None)\n",
            "  1488976164496: TensorSpec(shape=(), dtype=tf.resource, name=None)\n",
            "  1488976233216: TensorSpec(shape=(), dtype=tf.resource, name=None)\n",
            "  1488976234272: TensorSpec(shape=(), dtype=tf.resource, name=None)\n",
            "  1488976165552: TensorSpec(shape=(), dtype=tf.resource, name=None)\n",
            "  1488976232512: TensorSpec(shape=(), dtype=tf.resource, name=None)\n",
            "  1488976157984: TensorSpec(shape=(), dtype=tf.resource, name=None)\n",
            "  1488976239904: TensorSpec(shape=(), dtype=tf.resource, name=None)\n",
            "  1488976242544: TensorSpec(shape=(), dtype=tf.resource, name=None)\n",
            "  1488976238496: TensorSpec(shape=(), dtype=tf.resource, name=None)\n",
            "  1488976240432: TensorSpec(shape=(), dtype=tf.resource, name=None)\n",
            "  1488976245008: TensorSpec(shape=(), dtype=tf.resource, name=None)\n",
            "  1488976244128: TensorSpec(shape=(), dtype=tf.resource, name=None)\n",
            "  1488976244480: TensorSpec(shape=(), dtype=tf.resource, name=None)\n",
            "  1488976246064: TensorSpec(shape=(), dtype=tf.resource, name=None)\n",
            "  1488976248352: TensorSpec(shape=(), dtype=tf.resource, name=None)\n",
            "  1488976244832: TensorSpec(shape=(), dtype=tf.resource, name=None)\n",
            "  1488976304032: TensorSpec(shape=(), dtype=tf.resource, name=None)\n",
            "  1488976306672: TensorSpec(shape=(), dtype=tf.resource, name=None)\n",
            "  1488976302624: TensorSpec(shape=(), dtype=tf.resource, name=None)\n",
            "  1488976304560: TensorSpec(shape=(), dtype=tf.resource, name=None)\n",
            "  1488976312656: TensorSpec(shape=(), dtype=tf.resource, name=None)\n",
            "  1488976311600: TensorSpec(shape=(), dtype=tf.resource, name=None)\n",
            "  1488976308432: TensorSpec(shape=(), dtype=tf.resource, name=None)\n",
            "  1488976310192: TensorSpec(shape=(), dtype=tf.resource, name=None)\n",
            "  1488976312128: TensorSpec(shape=(), dtype=tf.resource, name=None)\n",
            "  1488976310544: TensorSpec(shape=(), dtype=tf.resource, name=None)\n",
            "  1488976351776: TensorSpec(shape=(), dtype=tf.resource, name=None)\n",
            "  1488976354592: TensorSpec(shape=(), dtype=tf.resource, name=None)\n",
            "  1488976350368: TensorSpec(shape=(), dtype=tf.resource, name=None)\n",
            "  1488976352832: TensorSpec(shape=(), dtype=tf.resource, name=None)\n",
            "  1488976360400: TensorSpec(shape=(), dtype=tf.resource, name=None)\n",
            "  1488976359344: TensorSpec(shape=(), dtype=tf.resource, name=None)\n",
            "  1488976361984: TensorSpec(shape=(), dtype=tf.resource, name=None)\n",
            "  1488976349488: TensorSpec(shape=(), dtype=tf.resource, name=None)\n",
            "  1488976359872: TensorSpec(shape=(), dtype=tf.resource, name=None)\n",
            "  1488976350720: TensorSpec(shape=(), dtype=tf.resource, name=None)\n",
            "  1488976431232: TensorSpec(shape=(), dtype=tf.resource, name=None)\n",
            "  1488976434048: TensorSpec(shape=(), dtype=tf.resource, name=None)\n",
            "  1488976429472: TensorSpec(shape=(), dtype=tf.resource, name=None)\n",
            "  1488976432992: TensorSpec(shape=(), dtype=tf.resource, name=None)\n",
            "  1488976628192: TensorSpec(shape=(), dtype=tf.resource, name=None)\n",
            "  1488976627312: TensorSpec(shape=(), dtype=tf.resource, name=None)\n",
            "  1488976626080: TensorSpec(shape=(), dtype=tf.resource, name=None)\n",
            "  1488976627488: TensorSpec(shape=(), dtype=tf.resource, name=None)\n",
            "  1488976442848: TensorSpec(shape=(), dtype=tf.resource, name=None)\n",
            "  1488976631536: TensorSpec(shape=(), dtype=tf.resource, name=None)\n",
            "  1488976633296: TensorSpec(shape=(), dtype=tf.resource, name=None)\n",
            "  1488976629952: TensorSpec(shape=(), dtype=tf.resource, name=None)\n"
          ]
        }
      ],
      "source": [
        "# model.export('../save_model/')\n",
        "model_mobile.export('../save_model/')\n"
      ]
    },
    {
      "cell_type": "markdown",
      "metadata": {},
      "source": [
        "- Export to tensorflowlite"
      ]
    },
    {
      "cell_type": "code",
      "execution_count": null,
      "metadata": {},
      "outputs": [],
      "source": [
        "converter = tf.lite.TFLiteConverter.from_saved_model('../save_model/')\n",
        "\n",
        "tflite_model = converter.convert()\n",
        "\n",
        "with open('../tflite_model/Model_SignLang.tflite','wb') as f:\n",
        "    f.write(tflite_model)"
      ]
    }
  ],
  "metadata": {
    "accelerator": "GPU",
    "colab": {
      "gpuType": "T4",
      "provenance": []
    },
    "kernelspec": {
      "display_name": ".venv",
      "language": "python",
      "name": "python3"
    },
    "language_info": {
      "codemirror_mode": {
        "name": "ipython",
        "version": 3
      },
      "file_extension": ".py",
      "mimetype": "text/x-python",
      "name": "python",
      "nbconvert_exporter": "python",
      "pygments_lexer": "ipython3",
      "version": "3.10.0"
    }
  },
  "nbformat": 4,
  "nbformat_minor": 0
}

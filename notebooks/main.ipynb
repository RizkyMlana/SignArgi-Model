{
  "cells": [
    {
      "cell_type": "markdown",
      "metadata": {
        "id": "66zGG0XlE8Es"
      },
      "source": [
        "# Import Library"
      ]
    },
    {
      "cell_type": "code",
      "execution_count": 1,
      "metadata": {
        "id": "3Iy0xzAiEzM2"
      },
      "outputs": [],
      "source": [
        "import numpy as np\n",
        "import tensorflow as tf\n",
        "import os\n",
        "import pandas as pd\n",
        "from sklearn.preprocessing import LabelEncoder\n",
        "from tensorflow.keras.preprocessing.image import ImageDataGenerator\n",
        "from tensorflow.keras.models import Sequential\n",
        "from tensorflow.keras.layers import Conv2D, MaxPooling2D, Dense, BatchNormalization, GlobalAveragePooling2D, Dropout\n",
        "from tensorflow.keras.applications import MobileNetV2\n",
        "from tensorflow.keras.applications.mobilenet import preprocess_input\n",
        "from tensorflow.keras.optimizers import Adam\n",
        "import matplotlib.pyplot as plt\n",
        "from sklearn.model_selection import StratifiedKFold\n",
        "from tensorflow.keras.preprocessing import image\n",
        "from tensorflow.keras.callbacks import EarlyStopping, ReduceLROnPlateau, ModelCheckpoint\n",
        "from sklearn.metrics import confusion_matrix, ConfusionMatrixDisplay"
      ]
    },
    {
      "cell_type": "markdown",
      "metadata": {
        "id": "tAo_WQaVFZa0"
      },
      "source": [
        "# Dataset"
      ]
    },
    {
      "cell_type": "markdown",
      "metadata": {},
      "source": [
        "- Load Data\n"
      ]
    },
    {
      "cell_type": "code",
      "execution_count": 9,
      "metadata": {},
      "outputs": [],
      "source": [
        "dataset_path = '../dataset/img'\n",
        "train_path = '../dataset/train_alphabet'\n",
        "test_path = '../dataset/test_alphabet'"
      ]
    },
    {
      "cell_type": "markdown",
      "metadata": {},
      "source": [
        "- Augmentasi Data & Splitting Data Menjadi train, validation dan test"
      ]
    },
    {
      "cell_type": "code",
      "execution_count": 10,
      "metadata": {
        "colab": {
          "base_uri": "https://localhost:8080/"
        },
        "id": "PzfI2D0bEi59",
        "outputId": "406b7d3b-0e26-4ea0-c481-961ca7c24dec"
      },
      "outputs": [
        {
          "name": "stdout",
          "output_type": "stream",
          "text": [
            "Found 24300 images belonging to 27 classes.\n",
            "Found 2700 images belonging to 27 classes.\n",
            "{'A': 0, 'B': 1, 'Blank': 2, 'C': 3, 'D': 4, 'E': 5, 'F': 6, 'G': 7, 'H': 8, 'I': 9, 'J': 10, 'K': 11, 'L': 12, 'M': 13, 'N': 14, 'O': 15, 'P': 16, 'Q': 17, 'R': 18, 'S': 19, 'T': 20, 'U': 21, 'V': 22, 'W': 23, 'X': 24, 'Y': 25, 'Z': 26}\n",
            "{'A': 0, 'B': 1, 'Blank': 2, 'C': 3, 'D': 4, 'E': 5, 'F': 6, 'G': 7, 'H': 8, 'I': 9, 'J': 10, 'K': 11, 'L': 12, 'M': 13, 'N': 14, 'O': 15, 'P': 16, 'Q': 17, 'R': 18, 'S': 19, 'T': 20, 'U': 21, 'V': 22, 'W': 23, 'X': 24, 'Y': 25, 'Z': 26}\n"
          ]
        }
      ],
      "source": [
        "datagen = ImageDataGenerator(\n",
        "    preprocessing_function=preprocess_input,\n",
        "    brightness_range=[0.7,1.3],\n",
        "    rotation_range=15,\n",
        "    zoom_range=0.1,\n",
        "    shear_range=0.1,\n",
        "    horizontal_flip=False,\n",
        "    )\n",
        "val_datagen = ImageDataGenerator(\n",
        "    preprocessing_function=preprocess_input,\n",
        ")\n",
        "train_gen = datagen.flow_from_directory(\n",
        "    train_path,\n",
        "    target_size = (224,224),\n",
        "    batch_size = 64,\n",
        "    class_mode = 'categorical',\n",
        "    # subset = 'training',\n",
        "    shuffle=True\n",
        ")\n",
        "val_gen = val_datagen.flow_from_directory(\n",
        "    test_path,\n",
        "    target_size = (224,224),\n",
        "    batch_size = 64,\n",
        "    class_mode ='categorical',\n",
        "    # subset = 'validation',\n",
        "    shuffle=False\n",
        ")\n",
        "print(train_gen.class_indices)\n",
        "print(val_gen.class_indices)"
      ]
    },
    {
      "cell_type": "markdown",
      "metadata": {},
      "source": [
        "- Layer Convolutional Neural Network Scratch From Zero"
      ]
    },
    {
      "cell_type": "code",
      "execution_count": null,
      "metadata": {
        "colab": {
          "base_uri": "https://localhost:8080/"
        },
        "id": "ngONIEkLSIRw",
        "outputId": "910343a2-7c98-43e1-e83a-80a0f6d10b9e"
      },
      "outputs": [
        {
          "data": {
            "text/html": [
              "<pre style=\"white-space:pre;overflow-x:auto;line-height:normal;font-family:Menlo,'DejaVu Sans Mono',consolas,'Courier New',monospace\"><span style=\"font-weight: bold\">Model: \"sequential\"</span>\n",
              "</pre>\n"
            ],
            "text/plain": [
              "\u001b[1mModel: \"sequential\"\u001b[0m\n"
            ]
          },
          "metadata": {},
          "output_type": "display_data"
        },
        {
          "data": {
            "text/html": [
              "<pre style=\"white-space:pre;overflow-x:auto;line-height:normal;font-family:Menlo,'DejaVu Sans Mono',consolas,'Courier New',monospace\">┏━━━━━━━━━━━━━━━━━━━━━━━━━━━━━━━━━┳━━━━━━━━━━━━━━━━━━━━━━━━┳━━━━━━━━━━━━━━━┓\n",
              "┃<span style=\"font-weight: bold\"> Layer (type)                    </span>┃<span style=\"font-weight: bold\"> Output Shape           </span>┃<span style=\"font-weight: bold\">       Param # </span>┃\n",
              "┡━━━━━━━━━━━━━━━━━━━━━━━━━━━━━━━━━╇━━━━━━━━━━━━━━━━━━━━━━━━╇━━━━━━━━━━━━━━━┩\n",
              "│ conv2d (<span style=\"color: #0087ff; text-decoration-color: #0087ff\">Conv2D</span>)                 │ (<span style=\"color: #00d7ff; text-decoration-color: #00d7ff\">None</span>, <span style=\"color: #00af00; text-decoration-color: #00af00\">222</span>, <span style=\"color: #00af00; text-decoration-color: #00af00\">222</span>, <span style=\"color: #00af00; text-decoration-color: #00af00\">32</span>)   │           <span style=\"color: #00af00; text-decoration-color: #00af00\">896</span> │\n",
              "├─────────────────────────────────┼────────────────────────┼───────────────┤\n",
              "│ batch_normalization             │ (<span style=\"color: #00d7ff; text-decoration-color: #00d7ff\">None</span>, <span style=\"color: #00af00; text-decoration-color: #00af00\">222</span>, <span style=\"color: #00af00; text-decoration-color: #00af00\">222</span>, <span style=\"color: #00af00; text-decoration-color: #00af00\">32</span>)   │           <span style=\"color: #00af00; text-decoration-color: #00af00\">128</span> │\n",
              "│ (<span style=\"color: #0087ff; text-decoration-color: #0087ff\">BatchNormalization</span>)            │                        │               │\n",
              "├─────────────────────────────────┼────────────────────────┼───────────────┤\n",
              "│ max_pooling2d (<span style=\"color: #0087ff; text-decoration-color: #0087ff\">MaxPooling2D</span>)    │ (<span style=\"color: #00d7ff; text-decoration-color: #00d7ff\">None</span>, <span style=\"color: #00af00; text-decoration-color: #00af00\">111</span>, <span style=\"color: #00af00; text-decoration-color: #00af00\">111</span>, <span style=\"color: #00af00; text-decoration-color: #00af00\">32</span>)   │             <span style=\"color: #00af00; text-decoration-color: #00af00\">0</span> │\n",
              "├─────────────────────────────────┼────────────────────────┼───────────────┤\n",
              "│ conv2d_1 (<span style=\"color: #0087ff; text-decoration-color: #0087ff\">Conv2D</span>)               │ (<span style=\"color: #00d7ff; text-decoration-color: #00d7ff\">None</span>, <span style=\"color: #00af00; text-decoration-color: #00af00\">109</span>, <span style=\"color: #00af00; text-decoration-color: #00af00\">109</span>, <span style=\"color: #00af00; text-decoration-color: #00af00\">64</span>)   │        <span style=\"color: #00af00; text-decoration-color: #00af00\">18,496</span> │\n",
              "├─────────────────────────────────┼────────────────────────┼───────────────┤\n",
              "│ batch_normalization_1           │ (<span style=\"color: #00d7ff; text-decoration-color: #00d7ff\">None</span>, <span style=\"color: #00af00; text-decoration-color: #00af00\">109</span>, <span style=\"color: #00af00; text-decoration-color: #00af00\">109</span>, <span style=\"color: #00af00; text-decoration-color: #00af00\">64</span>)   │           <span style=\"color: #00af00; text-decoration-color: #00af00\">256</span> │\n",
              "│ (<span style=\"color: #0087ff; text-decoration-color: #0087ff\">BatchNormalization</span>)            │                        │               │\n",
              "├─────────────────────────────────┼────────────────────────┼───────────────┤\n",
              "│ max_pooling2d_1 (<span style=\"color: #0087ff; text-decoration-color: #0087ff\">MaxPooling2D</span>)  │ (<span style=\"color: #00d7ff; text-decoration-color: #00d7ff\">None</span>, <span style=\"color: #00af00; text-decoration-color: #00af00\">54</span>, <span style=\"color: #00af00; text-decoration-color: #00af00\">54</span>, <span style=\"color: #00af00; text-decoration-color: #00af00\">64</span>)     │             <span style=\"color: #00af00; text-decoration-color: #00af00\">0</span> │\n",
              "├─────────────────────────────────┼────────────────────────┼───────────────┤\n",
              "│ conv2d_2 (<span style=\"color: #0087ff; text-decoration-color: #0087ff\">Conv2D</span>)               │ (<span style=\"color: #00d7ff; text-decoration-color: #00d7ff\">None</span>, <span style=\"color: #00af00; text-decoration-color: #00af00\">52</span>, <span style=\"color: #00af00; text-decoration-color: #00af00\">52</span>, <span style=\"color: #00af00; text-decoration-color: #00af00\">128</span>)    │        <span style=\"color: #00af00; text-decoration-color: #00af00\">73,856</span> │\n",
              "├─────────────────────────────────┼────────────────────────┼───────────────┤\n",
              "│ batch_normalization_2           │ (<span style=\"color: #00d7ff; text-decoration-color: #00d7ff\">None</span>, <span style=\"color: #00af00; text-decoration-color: #00af00\">52</span>, <span style=\"color: #00af00; text-decoration-color: #00af00\">52</span>, <span style=\"color: #00af00; text-decoration-color: #00af00\">128</span>)    │           <span style=\"color: #00af00; text-decoration-color: #00af00\">512</span> │\n",
              "│ (<span style=\"color: #0087ff; text-decoration-color: #0087ff\">BatchNormalization</span>)            │                        │               │\n",
              "├─────────────────────────────────┼────────────────────────┼───────────────┤\n",
              "│ max_pooling2d_2 (<span style=\"color: #0087ff; text-decoration-color: #0087ff\">MaxPooling2D</span>)  │ (<span style=\"color: #00d7ff; text-decoration-color: #00d7ff\">None</span>, <span style=\"color: #00af00; text-decoration-color: #00af00\">26</span>, <span style=\"color: #00af00; text-decoration-color: #00af00\">26</span>, <span style=\"color: #00af00; text-decoration-color: #00af00\">128</span>)    │             <span style=\"color: #00af00; text-decoration-color: #00af00\">0</span> │\n",
              "├─────────────────────────────────┼────────────────────────┼───────────────┤\n",
              "│ conv2d_3 (<span style=\"color: #0087ff; text-decoration-color: #0087ff\">Conv2D</span>)               │ (<span style=\"color: #00d7ff; text-decoration-color: #00d7ff\">None</span>, <span style=\"color: #00af00; text-decoration-color: #00af00\">24</span>, <span style=\"color: #00af00; text-decoration-color: #00af00\">24</span>, <span style=\"color: #00af00; text-decoration-color: #00af00\">256</span>)    │       <span style=\"color: #00af00; text-decoration-color: #00af00\">295,168</span> │\n",
              "├─────────────────────────────────┼────────────────────────┼───────────────┤\n",
              "│ batch_normalization_3           │ (<span style=\"color: #00d7ff; text-decoration-color: #00d7ff\">None</span>, <span style=\"color: #00af00; text-decoration-color: #00af00\">24</span>, <span style=\"color: #00af00; text-decoration-color: #00af00\">24</span>, <span style=\"color: #00af00; text-decoration-color: #00af00\">256</span>)    │         <span style=\"color: #00af00; text-decoration-color: #00af00\">1,024</span> │\n",
              "│ (<span style=\"color: #0087ff; text-decoration-color: #0087ff\">BatchNormalization</span>)            │                        │               │\n",
              "├─────────────────────────────────┼────────────────────────┼───────────────┤\n",
              "│ max_pooling2d_3 (<span style=\"color: #0087ff; text-decoration-color: #0087ff\">MaxPooling2D</span>)  │ (<span style=\"color: #00d7ff; text-decoration-color: #00d7ff\">None</span>, <span style=\"color: #00af00; text-decoration-color: #00af00\">12</span>, <span style=\"color: #00af00; text-decoration-color: #00af00\">12</span>, <span style=\"color: #00af00; text-decoration-color: #00af00\">256</span>)    │             <span style=\"color: #00af00; text-decoration-color: #00af00\">0</span> │\n",
              "├─────────────────────────────────┼────────────────────────┼───────────────┤\n",
              "│ global_average_pooling2d        │ (<span style=\"color: #00d7ff; text-decoration-color: #00d7ff\">None</span>, <span style=\"color: #00af00; text-decoration-color: #00af00\">256</span>)            │             <span style=\"color: #00af00; text-decoration-color: #00af00\">0</span> │\n",
              "│ (<span style=\"color: #0087ff; text-decoration-color: #0087ff\">GlobalAveragePooling2D</span>)        │                        │               │\n",
              "├─────────────────────────────────┼────────────────────────┼───────────────┤\n",
              "│ dense (<span style=\"color: #0087ff; text-decoration-color: #0087ff\">Dense</span>)                   │ (<span style=\"color: #00d7ff; text-decoration-color: #00d7ff\">None</span>, <span style=\"color: #00af00; text-decoration-color: #00af00\">256</span>)            │        <span style=\"color: #00af00; text-decoration-color: #00af00\">65,792</span> │\n",
              "├─────────────────────────────────┼────────────────────────┼───────────────┤\n",
              "│ dropout (<span style=\"color: #0087ff; text-decoration-color: #0087ff\">Dropout</span>)               │ (<span style=\"color: #00d7ff; text-decoration-color: #00d7ff\">None</span>, <span style=\"color: #00af00; text-decoration-color: #00af00\">256</span>)            │             <span style=\"color: #00af00; text-decoration-color: #00af00\">0</span> │\n",
              "├─────────────────────────────────┼────────────────────────┼───────────────┤\n",
              "│ dense_1 (<span style=\"color: #0087ff; text-decoration-color: #0087ff\">Dense</span>)                 │ (<span style=\"color: #00d7ff; text-decoration-color: #00d7ff\">None</span>, <span style=\"color: #00af00; text-decoration-color: #00af00\">29</span>)             │         <span style=\"color: #00af00; text-decoration-color: #00af00\">7,453</span> │\n",
              "└─────────────────────────────────┴────────────────────────┴───────────────┘\n",
              "</pre>\n"
            ],
            "text/plain": [
              "┏━━━━━━━━━━━━━━━━━━━━━━━━━━━━━━━━━┳━━━━━━━━━━━━━━━━━━━━━━━━┳━━━━━━━━━━━━━━━┓\n",
              "┃\u001b[1m \u001b[0m\u001b[1mLayer (type)                   \u001b[0m\u001b[1m \u001b[0m┃\u001b[1m \u001b[0m\u001b[1mOutput Shape          \u001b[0m\u001b[1m \u001b[0m┃\u001b[1m \u001b[0m\u001b[1m      Param #\u001b[0m\u001b[1m \u001b[0m┃\n",
              "┡━━━━━━━━━━━━━━━━━━━━━━━━━━━━━━━━━╇━━━━━━━━━━━━━━━━━━━━━━━━╇━━━━━━━━━━━━━━━┩\n",
              "│ conv2d (\u001b[38;5;33mConv2D\u001b[0m)                 │ (\u001b[38;5;45mNone\u001b[0m, \u001b[38;5;34m222\u001b[0m, \u001b[38;5;34m222\u001b[0m, \u001b[38;5;34m32\u001b[0m)   │           \u001b[38;5;34m896\u001b[0m │\n",
              "├─────────────────────────────────┼────────────────────────┼───────────────┤\n",
              "│ batch_normalization             │ (\u001b[38;5;45mNone\u001b[0m, \u001b[38;5;34m222\u001b[0m, \u001b[38;5;34m222\u001b[0m, \u001b[38;5;34m32\u001b[0m)   │           \u001b[38;5;34m128\u001b[0m │\n",
              "│ (\u001b[38;5;33mBatchNormalization\u001b[0m)            │                        │               │\n",
              "├─────────────────────────────────┼────────────────────────┼───────────────┤\n",
              "│ max_pooling2d (\u001b[38;5;33mMaxPooling2D\u001b[0m)    │ (\u001b[38;5;45mNone\u001b[0m, \u001b[38;5;34m111\u001b[0m, \u001b[38;5;34m111\u001b[0m, \u001b[38;5;34m32\u001b[0m)   │             \u001b[38;5;34m0\u001b[0m │\n",
              "├─────────────────────────────────┼────────────────────────┼───────────────┤\n",
              "│ conv2d_1 (\u001b[38;5;33mConv2D\u001b[0m)               │ (\u001b[38;5;45mNone\u001b[0m, \u001b[38;5;34m109\u001b[0m, \u001b[38;5;34m109\u001b[0m, \u001b[38;5;34m64\u001b[0m)   │        \u001b[38;5;34m18,496\u001b[0m │\n",
              "├─────────────────────────────────┼────────────────────────┼───────────────┤\n",
              "│ batch_normalization_1           │ (\u001b[38;5;45mNone\u001b[0m, \u001b[38;5;34m109\u001b[0m, \u001b[38;5;34m109\u001b[0m, \u001b[38;5;34m64\u001b[0m)   │           \u001b[38;5;34m256\u001b[0m │\n",
              "│ (\u001b[38;5;33mBatchNormalization\u001b[0m)            │                        │               │\n",
              "├─────────────────────────────────┼────────────────────────┼───────────────┤\n",
              "│ max_pooling2d_1 (\u001b[38;5;33mMaxPooling2D\u001b[0m)  │ (\u001b[38;5;45mNone\u001b[0m, \u001b[38;5;34m54\u001b[0m, \u001b[38;5;34m54\u001b[0m, \u001b[38;5;34m64\u001b[0m)     │             \u001b[38;5;34m0\u001b[0m │\n",
              "├─────────────────────────────────┼────────────────────────┼───────────────┤\n",
              "│ conv2d_2 (\u001b[38;5;33mConv2D\u001b[0m)               │ (\u001b[38;5;45mNone\u001b[0m, \u001b[38;5;34m52\u001b[0m, \u001b[38;5;34m52\u001b[0m, \u001b[38;5;34m128\u001b[0m)    │        \u001b[38;5;34m73,856\u001b[0m │\n",
              "├─────────────────────────────────┼────────────────────────┼───────────────┤\n",
              "│ batch_normalization_2           │ (\u001b[38;5;45mNone\u001b[0m, \u001b[38;5;34m52\u001b[0m, \u001b[38;5;34m52\u001b[0m, \u001b[38;5;34m128\u001b[0m)    │           \u001b[38;5;34m512\u001b[0m │\n",
              "│ (\u001b[38;5;33mBatchNormalization\u001b[0m)            │                        │               │\n",
              "├─────────────────────────────────┼────────────────────────┼───────────────┤\n",
              "│ max_pooling2d_2 (\u001b[38;5;33mMaxPooling2D\u001b[0m)  │ (\u001b[38;5;45mNone\u001b[0m, \u001b[38;5;34m26\u001b[0m, \u001b[38;5;34m26\u001b[0m, \u001b[38;5;34m128\u001b[0m)    │             \u001b[38;5;34m0\u001b[0m │\n",
              "├─────────────────────────────────┼────────────────────────┼───────────────┤\n",
              "│ conv2d_3 (\u001b[38;5;33mConv2D\u001b[0m)               │ (\u001b[38;5;45mNone\u001b[0m, \u001b[38;5;34m24\u001b[0m, \u001b[38;5;34m24\u001b[0m, \u001b[38;5;34m256\u001b[0m)    │       \u001b[38;5;34m295,168\u001b[0m │\n",
              "├─────────────────────────────────┼────────────────────────┼───────────────┤\n",
              "│ batch_normalization_3           │ (\u001b[38;5;45mNone\u001b[0m, \u001b[38;5;34m24\u001b[0m, \u001b[38;5;34m24\u001b[0m, \u001b[38;5;34m256\u001b[0m)    │         \u001b[38;5;34m1,024\u001b[0m │\n",
              "│ (\u001b[38;5;33mBatchNormalization\u001b[0m)            │                        │               │\n",
              "├─────────────────────────────────┼────────────────────────┼───────────────┤\n",
              "│ max_pooling2d_3 (\u001b[38;5;33mMaxPooling2D\u001b[0m)  │ (\u001b[38;5;45mNone\u001b[0m, \u001b[38;5;34m12\u001b[0m, \u001b[38;5;34m12\u001b[0m, \u001b[38;5;34m256\u001b[0m)    │             \u001b[38;5;34m0\u001b[0m │\n",
              "├─────────────────────────────────┼────────────────────────┼───────────────┤\n",
              "│ global_average_pooling2d        │ (\u001b[38;5;45mNone\u001b[0m, \u001b[38;5;34m256\u001b[0m)            │             \u001b[38;5;34m0\u001b[0m │\n",
              "│ (\u001b[38;5;33mGlobalAveragePooling2D\u001b[0m)        │                        │               │\n",
              "├─────────────────────────────────┼────────────────────────┼───────────────┤\n",
              "│ dense (\u001b[38;5;33mDense\u001b[0m)                   │ (\u001b[38;5;45mNone\u001b[0m, \u001b[38;5;34m256\u001b[0m)            │        \u001b[38;5;34m65,792\u001b[0m │\n",
              "├─────────────────────────────────┼────────────────────────┼───────────────┤\n",
              "│ dropout (\u001b[38;5;33mDropout\u001b[0m)               │ (\u001b[38;5;45mNone\u001b[0m, \u001b[38;5;34m256\u001b[0m)            │             \u001b[38;5;34m0\u001b[0m │\n",
              "├─────────────────────────────────┼────────────────────────┼───────────────┤\n",
              "│ dense_1 (\u001b[38;5;33mDense\u001b[0m)                 │ (\u001b[38;5;45mNone\u001b[0m, \u001b[38;5;34m29\u001b[0m)             │         \u001b[38;5;34m7,453\u001b[0m │\n",
              "└─────────────────────────────────┴────────────────────────┴───────────────┘\n"
            ]
          },
          "metadata": {},
          "output_type": "display_data"
        },
        {
          "data": {
            "text/html": [
              "<pre style=\"white-space:pre;overflow-x:auto;line-height:normal;font-family:Menlo,'DejaVu Sans Mono',consolas,'Courier New',monospace\"><span style=\"font-weight: bold\"> Total params: </span><span style=\"color: #00af00; text-decoration-color: #00af00\">463,581</span> (1.77 MB)\n",
              "</pre>\n"
            ],
            "text/plain": [
              "\u001b[1m Total params: \u001b[0m\u001b[38;5;34m463,581\u001b[0m (1.77 MB)\n"
            ]
          },
          "metadata": {},
          "output_type": "display_data"
        },
        {
          "data": {
            "text/html": [
              "<pre style=\"white-space:pre;overflow-x:auto;line-height:normal;font-family:Menlo,'DejaVu Sans Mono',consolas,'Courier New',monospace\"><span style=\"font-weight: bold\"> Trainable params: </span><span style=\"color: #00af00; text-decoration-color: #00af00\">462,621</span> (1.76 MB)\n",
              "</pre>\n"
            ],
            "text/plain": [
              "\u001b[1m Trainable params: \u001b[0m\u001b[38;5;34m462,621\u001b[0m (1.76 MB)\n"
            ]
          },
          "metadata": {},
          "output_type": "display_data"
        },
        {
          "data": {
            "text/html": [
              "<pre style=\"white-space:pre;overflow-x:auto;line-height:normal;font-family:Menlo,'DejaVu Sans Mono',consolas,'Courier New',monospace\"><span style=\"font-weight: bold\"> Non-trainable params: </span><span style=\"color: #00af00; text-decoration-color: #00af00\">960</span> (3.75 KB)\n",
              "</pre>\n"
            ],
            "text/plain": [
              "\u001b[1m Non-trainable params: \u001b[0m\u001b[38;5;34m960\u001b[0m (3.75 KB)\n"
            ]
          },
          "metadata": {},
          "output_type": "display_data"
        }
      ],
      "source": [
        "model = Sequential([\n",
        "    tf.keras.Input(shape=(224, 224, 3)),\n",
        "    \n",
        "    Conv2D(32, (3,3), activation='relu'),\n",
        "    BatchNormalization(),\n",
        "    MaxPooling2D(2,2),\n",
        "\n",
        "    Conv2D(64, (3,3), activation='relu'),\n",
        "    BatchNormalization(),\n",
        "    MaxPooling2D(2,2),\n",
        "\n",
        "    Conv2D(128, (3,3), activation='relu'),\n",
        "    BatchNormalization(),\n",
        "    MaxPooling2D(2,2),\n",
        "\n",
        "    Conv2D(256, (3,3), activation='relu'),\n",
        "    BatchNormalization(),\n",
        "    MaxPooling2D(2,2),\n",
        "\n",
        "    GlobalAveragePooling2D(),\n",
        "    Dense(256, activation='relu'),\n",
        "    Dropout(0.5),\n",
        "    Dense(29, activation='softmax') \n",
        "])\n",
        "model.compile(optimizer='adam', loss='categorical_crossentropy', metrics=['accuracy'])\n",
        "model.summary()\n"
      ]
    },
    {
      "cell_type": "code",
      "execution_count": 11,
      "metadata": {},
      "outputs": [],
      "source": [
        "callbacks_model = [\n",
        "    EarlyStopping(monitor='val_loss', patience=5, restore_best_weights=True,verbose=1),\n",
        "    ReduceLROnPlateau(monitor='val_loss', patience=3, factor=0.5, verbose=1),\n",
        "    ModelCheckpoint('../best_model/model.h5', monitor='val_loss', save_best_only=True,verbose=1),\n",
        "    ]"
      ]
    },
    {
      "cell_type": "code",
      "execution_count": null,
      "metadata": {},
      "outputs": [
        {
          "name": "stderr",
          "output_type": "stream",
          "text": [
            "d:\\Capstone\\Capstone Model\\.venv\\lib\\site-packages\\keras\\src\\trainers\\data_adapters\\py_dataset_adapter.py:121: UserWarning: Your `PyDataset` class should call `super().__init__(**kwargs)` in its constructor. `**kwargs` can include `workers`, `use_multiprocessing`, `max_queue_size`. Do not pass these arguments to `fit()`, as they will be ignored.\n",
            "  self._warn_if_super_not_called()\n"
          ]
        },
        {
          "name": "stdout",
          "output_type": "stream",
          "text": [
            "Epoch 1/50\n",
            "\u001b[1m2175/2175\u001b[0m \u001b[32m━━━━━━━━━━━━━━━━━━━━\u001b[0m\u001b[37m\u001b[0m \u001b[1m0s\u001b[0m 2s/step - accuracy: 0.2963 - loss: 2.3705"
          ]
        },
        {
          "name": "stderr",
          "output_type": "stream",
          "text": [
            "d:\\Capstone\\Capstone Model\\.venv\\lib\\site-packages\\keras\\src\\trainers\\data_adapters\\py_dataset_adapter.py:121: UserWarning: Your `PyDataset` class should call `super().__init__(**kwargs)` in its constructor. `**kwargs` can include `workers`, `use_multiprocessing`, `max_queue_size`. Do not pass these arguments to `fit()`, as they will be ignored.\n",
            "  self._warn_if_super_not_called()\n"
          ]
        },
        {
          "name": "stdout",
          "output_type": "stream",
          "text": [
            "\u001b[1m2175/2175\u001b[0m \u001b[32m━━━━━━━━━━━━━━━━━━━━\u001b[0m\u001b[37m\u001b[0m \u001b[1m3944s\u001b[0m 2s/step - accuracy: 0.2964 - loss: 2.3702 - val_accuracy: 0.5819 - val_loss: 1.5274 - learning_rate: 0.0010\n",
            "Epoch 2/50\n",
            "\u001b[1m2175/2175\u001b[0m \u001b[32m━━━━━━━━━━━━━━━━━━━━\u001b[0m\u001b[37m\u001b[0m \u001b[1m3308s\u001b[0m 2s/step - accuracy: 0.8427 - loss: 0.4780 - val_accuracy: 0.5915 - val_loss: 1.6475 - learning_rate: 0.0010\n",
            "Epoch 3/50\n",
            "\u001b[1m1890/2175\u001b[0m \u001b[32m━━━━━━━━━━━━━━━━━\u001b[0m\u001b[37m━━━\u001b[0m \u001b[1m6:20\u001b[0m 1s/step - accuracy: 0.9173 - loss: 0.2539"
          ]
        },
        {
          "ename": "KeyboardInterrupt",
          "evalue": "",
          "output_type": "error",
          "traceback": [
            "\u001b[1;31m---------------------------------------------------------------------------\u001b[0m",
            "\u001b[1;31mKeyboardInterrupt\u001b[0m                         Traceback (most recent call last)",
            "Cell \u001b[1;32mIn[6], line 1\u001b[0m\n\u001b[1;32m----> 1\u001b[0m history \u001b[38;5;241m=\u001b[39m \u001b[43mmodel\u001b[49m\u001b[38;5;241;43m.\u001b[39;49m\u001b[43mfit\u001b[49m\u001b[43m(\u001b[49m\u001b[43mtrain_gen\u001b[49m\u001b[43m,\u001b[49m\u001b[43mvalidation_data\u001b[49m\u001b[38;5;241;43m=\u001b[39;49m\u001b[43mval_gen\u001b[49m\u001b[43m,\u001b[49m\u001b[43mepochs\u001b[49m\u001b[38;5;241;43m=\u001b[39;49m\u001b[38;5;241;43m50\u001b[39;49m\u001b[43m,\u001b[49m\u001b[43m \u001b[49m\u001b[43mcallbacks\u001b[49m\u001b[38;5;241;43m=\u001b[39;49m\u001b[43m[\u001b[49m\u001b[43mearly_stop\u001b[49m\u001b[43m,\u001b[49m\u001b[43m \u001b[49m\u001b[43mreduce_lr\u001b[49m\u001b[43m]\u001b[49m\u001b[43m)\u001b[49m\n",
            "File \u001b[1;32md:\\Capstone\\Capstone Model\\.venv\\lib\\site-packages\\keras\\src\\utils\\traceback_utils.py:117\u001b[0m, in \u001b[0;36mfilter_traceback.<locals>.error_handler\u001b[1;34m(*args, **kwargs)\u001b[0m\n\u001b[0;32m    115\u001b[0m filtered_tb \u001b[38;5;241m=\u001b[39m \u001b[38;5;28;01mNone\u001b[39;00m\n\u001b[0;32m    116\u001b[0m \u001b[38;5;28;01mtry\u001b[39;00m:\n\u001b[1;32m--> 117\u001b[0m     \u001b[38;5;28;01mreturn\u001b[39;00m fn(\u001b[38;5;241m*\u001b[39margs, \u001b[38;5;241m*\u001b[39m\u001b[38;5;241m*\u001b[39mkwargs)\n\u001b[0;32m    118\u001b[0m \u001b[38;5;28;01mexcept\u001b[39;00m \u001b[38;5;167;01mException\u001b[39;00m \u001b[38;5;28;01mas\u001b[39;00m e:\n\u001b[0;32m    119\u001b[0m     filtered_tb \u001b[38;5;241m=\u001b[39m _process_traceback_frames(e\u001b[38;5;241m.\u001b[39m__traceback__)\n",
            "File \u001b[1;32md:\\Capstone\\Capstone Model\\.venv\\lib\\site-packages\\keras\\src\\backend\\tensorflow\\trainer.py:371\u001b[0m, in \u001b[0;36mTensorFlowTrainer.fit\u001b[1;34m(self, x, y, batch_size, epochs, verbose, callbacks, validation_split, validation_data, shuffle, class_weight, sample_weight, initial_epoch, steps_per_epoch, validation_steps, validation_batch_size, validation_freq)\u001b[0m\n\u001b[0;32m    369\u001b[0m \u001b[38;5;28;01mfor\u001b[39;00m step, iterator \u001b[38;5;129;01min\u001b[39;00m epoch_iterator:\n\u001b[0;32m    370\u001b[0m     callbacks\u001b[38;5;241m.\u001b[39mon_train_batch_begin(step)\n\u001b[1;32m--> 371\u001b[0m     logs \u001b[38;5;241m=\u001b[39m \u001b[38;5;28;43mself\u001b[39;49m\u001b[38;5;241;43m.\u001b[39;49m\u001b[43mtrain_function\u001b[49m\u001b[43m(\u001b[49m\u001b[43miterator\u001b[49m\u001b[43m)\u001b[49m\n\u001b[0;32m    372\u001b[0m     callbacks\u001b[38;5;241m.\u001b[39mon_train_batch_end(step, logs)\n\u001b[0;32m    373\u001b[0m     \u001b[38;5;28;01mif\u001b[39;00m \u001b[38;5;28mself\u001b[39m\u001b[38;5;241m.\u001b[39mstop_training:\n",
            "File \u001b[1;32md:\\Capstone\\Capstone Model\\.venv\\lib\\site-packages\\keras\\src\\backend\\tensorflow\\trainer.py:219\u001b[0m, in \u001b[0;36mTensorFlowTrainer._make_function.<locals>.function\u001b[1;34m(iterator)\u001b[0m\n\u001b[0;32m    215\u001b[0m \u001b[38;5;28;01mdef\u001b[39;00m\u001b[38;5;250m \u001b[39m\u001b[38;5;21mfunction\u001b[39m(iterator):\n\u001b[0;32m    216\u001b[0m     \u001b[38;5;28;01mif\u001b[39;00m \u001b[38;5;28misinstance\u001b[39m(\n\u001b[0;32m    217\u001b[0m         iterator, (tf\u001b[38;5;241m.\u001b[39mdata\u001b[38;5;241m.\u001b[39mIterator, tf\u001b[38;5;241m.\u001b[39mdistribute\u001b[38;5;241m.\u001b[39mDistributedIterator)\n\u001b[0;32m    218\u001b[0m     ):\n\u001b[1;32m--> 219\u001b[0m         opt_outputs \u001b[38;5;241m=\u001b[39m \u001b[43mmulti_step_on_iterator\u001b[49m\u001b[43m(\u001b[49m\u001b[43miterator\u001b[49m\u001b[43m)\u001b[49m\n\u001b[0;32m    220\u001b[0m         \u001b[38;5;28;01mif\u001b[39;00m \u001b[38;5;129;01mnot\u001b[39;00m opt_outputs\u001b[38;5;241m.\u001b[39mhas_value():\n\u001b[0;32m    221\u001b[0m             \u001b[38;5;28;01mraise\u001b[39;00m \u001b[38;5;167;01mStopIteration\u001b[39;00m\n",
            "File \u001b[1;32md:\\Capstone\\Capstone Model\\.venv\\lib\\site-packages\\tensorflow\\python\\util\\traceback_utils.py:150\u001b[0m, in \u001b[0;36mfilter_traceback.<locals>.error_handler\u001b[1;34m(*args, **kwargs)\u001b[0m\n\u001b[0;32m    148\u001b[0m filtered_tb \u001b[38;5;241m=\u001b[39m \u001b[38;5;28;01mNone\u001b[39;00m\n\u001b[0;32m    149\u001b[0m \u001b[38;5;28;01mtry\u001b[39;00m:\n\u001b[1;32m--> 150\u001b[0m   \u001b[38;5;28;01mreturn\u001b[39;00m fn(\u001b[38;5;241m*\u001b[39margs, \u001b[38;5;241m*\u001b[39m\u001b[38;5;241m*\u001b[39mkwargs)\n\u001b[0;32m    151\u001b[0m \u001b[38;5;28;01mexcept\u001b[39;00m \u001b[38;5;167;01mException\u001b[39;00m \u001b[38;5;28;01mas\u001b[39;00m e:\n\u001b[0;32m    152\u001b[0m   filtered_tb \u001b[38;5;241m=\u001b[39m _process_traceback_frames(e\u001b[38;5;241m.\u001b[39m__traceback__)\n",
            "File \u001b[1;32md:\\Capstone\\Capstone Model\\.venv\\lib\\site-packages\\tensorflow\\python\\eager\\polymorphic_function\\polymorphic_function.py:833\u001b[0m, in \u001b[0;36mFunction.__call__\u001b[1;34m(self, *args, **kwds)\u001b[0m\n\u001b[0;32m    830\u001b[0m compiler \u001b[38;5;241m=\u001b[39m \u001b[38;5;124m\"\u001b[39m\u001b[38;5;124mxla\u001b[39m\u001b[38;5;124m\"\u001b[39m \u001b[38;5;28;01mif\u001b[39;00m \u001b[38;5;28mself\u001b[39m\u001b[38;5;241m.\u001b[39m_jit_compile \u001b[38;5;28;01melse\u001b[39;00m \u001b[38;5;124m\"\u001b[39m\u001b[38;5;124mnonXla\u001b[39m\u001b[38;5;124m\"\u001b[39m\n\u001b[0;32m    832\u001b[0m \u001b[38;5;28;01mwith\u001b[39;00m OptionalXlaContext(\u001b[38;5;28mself\u001b[39m\u001b[38;5;241m.\u001b[39m_jit_compile):\n\u001b[1;32m--> 833\u001b[0m   result \u001b[38;5;241m=\u001b[39m \u001b[38;5;28mself\u001b[39m\u001b[38;5;241m.\u001b[39m_call(\u001b[38;5;241m*\u001b[39margs, \u001b[38;5;241m*\u001b[39m\u001b[38;5;241m*\u001b[39mkwds)\n\u001b[0;32m    835\u001b[0m new_tracing_count \u001b[38;5;241m=\u001b[39m \u001b[38;5;28mself\u001b[39m\u001b[38;5;241m.\u001b[39mexperimental_get_tracing_count()\n\u001b[0;32m    836\u001b[0m without_tracing \u001b[38;5;241m=\u001b[39m (tracing_count \u001b[38;5;241m==\u001b[39m new_tracing_count)\n",
            "File \u001b[1;32md:\\Capstone\\Capstone Model\\.venv\\lib\\site-packages\\tensorflow\\python\\eager\\polymorphic_function\\polymorphic_function.py:878\u001b[0m, in \u001b[0;36mFunction._call\u001b[1;34m(self, *args, **kwds)\u001b[0m\n\u001b[0;32m    875\u001b[0m \u001b[38;5;28mself\u001b[39m\u001b[38;5;241m.\u001b[39m_lock\u001b[38;5;241m.\u001b[39mrelease()\n\u001b[0;32m    876\u001b[0m \u001b[38;5;66;03m# In this case we have not created variables on the first call. So we can\u001b[39;00m\n\u001b[0;32m    877\u001b[0m \u001b[38;5;66;03m# run the first trace but we should fail if variables are created.\u001b[39;00m\n\u001b[1;32m--> 878\u001b[0m results \u001b[38;5;241m=\u001b[39m \u001b[43mtracing_compilation\u001b[49m\u001b[38;5;241;43m.\u001b[39;49m\u001b[43mcall_function\u001b[49m\u001b[43m(\u001b[49m\n\u001b[0;32m    879\u001b[0m \u001b[43m    \u001b[49m\u001b[43margs\u001b[49m\u001b[43m,\u001b[49m\u001b[43m \u001b[49m\u001b[43mkwds\u001b[49m\u001b[43m,\u001b[49m\u001b[43m \u001b[49m\u001b[38;5;28;43mself\u001b[39;49m\u001b[38;5;241;43m.\u001b[39;49m\u001b[43m_variable_creation_config\u001b[49m\n\u001b[0;32m    880\u001b[0m \u001b[43m\u001b[49m\u001b[43m)\u001b[49m\n\u001b[0;32m    881\u001b[0m \u001b[38;5;28;01mif\u001b[39;00m \u001b[38;5;28mself\u001b[39m\u001b[38;5;241m.\u001b[39m_created_variables:\n\u001b[0;32m    882\u001b[0m   \u001b[38;5;28;01mraise\u001b[39;00m \u001b[38;5;167;01mValueError\u001b[39;00m(\u001b[38;5;124m\"\u001b[39m\u001b[38;5;124mCreating variables on a non-first call to a function\u001b[39m\u001b[38;5;124m\"\u001b[39m\n\u001b[0;32m    883\u001b[0m                    \u001b[38;5;124m\"\u001b[39m\u001b[38;5;124m decorated with tf.function.\u001b[39m\u001b[38;5;124m\"\u001b[39m)\n",
            "File \u001b[1;32md:\\Capstone\\Capstone Model\\.venv\\lib\\site-packages\\tensorflow\\python\\eager\\polymorphic_function\\tracing_compilation.py:139\u001b[0m, in \u001b[0;36mcall_function\u001b[1;34m(args, kwargs, tracing_options)\u001b[0m\n\u001b[0;32m    137\u001b[0m bound_args \u001b[38;5;241m=\u001b[39m function\u001b[38;5;241m.\u001b[39mfunction_type\u001b[38;5;241m.\u001b[39mbind(\u001b[38;5;241m*\u001b[39margs, \u001b[38;5;241m*\u001b[39m\u001b[38;5;241m*\u001b[39mkwargs)\n\u001b[0;32m    138\u001b[0m flat_inputs \u001b[38;5;241m=\u001b[39m function\u001b[38;5;241m.\u001b[39mfunction_type\u001b[38;5;241m.\u001b[39munpack_inputs(bound_args)\n\u001b[1;32m--> 139\u001b[0m \u001b[38;5;28;01mreturn\u001b[39;00m \u001b[43mfunction\u001b[49m\u001b[38;5;241;43m.\u001b[39;49m\u001b[43m_call_flat\u001b[49m\u001b[43m(\u001b[49m\u001b[43m  \u001b[49m\u001b[38;5;66;43;03m# pylint: disable=protected-access\u001b[39;49;00m\n\u001b[0;32m    140\u001b[0m \u001b[43m    \u001b[49m\u001b[43mflat_inputs\u001b[49m\u001b[43m,\u001b[49m\u001b[43m \u001b[49m\u001b[43mcaptured_inputs\u001b[49m\u001b[38;5;241;43m=\u001b[39;49m\u001b[43mfunction\u001b[49m\u001b[38;5;241;43m.\u001b[39;49m\u001b[43mcaptured_inputs\u001b[49m\n\u001b[0;32m    141\u001b[0m \u001b[43m\u001b[49m\u001b[43m)\u001b[49m\n",
            "File \u001b[1;32md:\\Capstone\\Capstone Model\\.venv\\lib\\site-packages\\tensorflow\\python\\eager\\polymorphic_function\\concrete_function.py:1322\u001b[0m, in \u001b[0;36mConcreteFunction._call_flat\u001b[1;34m(self, tensor_inputs, captured_inputs)\u001b[0m\n\u001b[0;32m   1318\u001b[0m possible_gradient_type \u001b[38;5;241m=\u001b[39m gradients_util\u001b[38;5;241m.\u001b[39mPossibleTapeGradientTypes(args)\n\u001b[0;32m   1319\u001b[0m \u001b[38;5;28;01mif\u001b[39;00m (possible_gradient_type \u001b[38;5;241m==\u001b[39m gradients_util\u001b[38;5;241m.\u001b[39mPOSSIBLE_GRADIENT_TYPES_NONE\n\u001b[0;32m   1320\u001b[0m     \u001b[38;5;129;01mand\u001b[39;00m executing_eagerly):\n\u001b[0;32m   1321\u001b[0m   \u001b[38;5;66;03m# No tape is watching; skip to running the function.\u001b[39;00m\n\u001b[1;32m-> 1322\u001b[0m   \u001b[38;5;28;01mreturn\u001b[39;00m \u001b[38;5;28;43mself\u001b[39;49m\u001b[38;5;241;43m.\u001b[39;49m\u001b[43m_inference_function\u001b[49m\u001b[38;5;241;43m.\u001b[39;49m\u001b[43mcall_preflattened\u001b[49m\u001b[43m(\u001b[49m\u001b[43margs\u001b[49m\u001b[43m)\u001b[49m\n\u001b[0;32m   1323\u001b[0m forward_backward \u001b[38;5;241m=\u001b[39m \u001b[38;5;28mself\u001b[39m\u001b[38;5;241m.\u001b[39m_select_forward_and_backward_functions(\n\u001b[0;32m   1324\u001b[0m     args,\n\u001b[0;32m   1325\u001b[0m     possible_gradient_type,\n\u001b[0;32m   1326\u001b[0m     executing_eagerly)\n\u001b[0;32m   1327\u001b[0m forward_function, args_with_tangents \u001b[38;5;241m=\u001b[39m forward_backward\u001b[38;5;241m.\u001b[39mforward()\n",
            "File \u001b[1;32md:\\Capstone\\Capstone Model\\.venv\\lib\\site-packages\\tensorflow\\python\\eager\\polymorphic_function\\atomic_function.py:216\u001b[0m, in \u001b[0;36mAtomicFunction.call_preflattened\u001b[1;34m(self, args)\u001b[0m\n\u001b[0;32m    214\u001b[0m \u001b[38;5;28;01mdef\u001b[39;00m\u001b[38;5;250m \u001b[39m\u001b[38;5;21mcall_preflattened\u001b[39m(\u001b[38;5;28mself\u001b[39m, args: Sequence[core\u001b[38;5;241m.\u001b[39mTensor]) \u001b[38;5;241m-\u001b[39m\u001b[38;5;241m>\u001b[39m Any:\n\u001b[0;32m    215\u001b[0m \u001b[38;5;250m  \u001b[39m\u001b[38;5;124;03m\"\"\"Calls with flattened tensor inputs and returns the structured output.\"\"\"\u001b[39;00m\n\u001b[1;32m--> 216\u001b[0m   flat_outputs \u001b[38;5;241m=\u001b[39m \u001b[38;5;28;43mself\u001b[39;49m\u001b[38;5;241;43m.\u001b[39;49m\u001b[43mcall_flat\u001b[49m\u001b[43m(\u001b[49m\u001b[38;5;241;43m*\u001b[39;49m\u001b[43margs\u001b[49m\u001b[43m)\u001b[49m\n\u001b[0;32m    217\u001b[0m   \u001b[38;5;28;01mreturn\u001b[39;00m \u001b[38;5;28mself\u001b[39m\u001b[38;5;241m.\u001b[39mfunction_type\u001b[38;5;241m.\u001b[39mpack_output(flat_outputs)\n",
            "File \u001b[1;32md:\\Capstone\\Capstone Model\\.venv\\lib\\site-packages\\tensorflow\\python\\eager\\polymorphic_function\\atomic_function.py:251\u001b[0m, in \u001b[0;36mAtomicFunction.call_flat\u001b[1;34m(self, *args)\u001b[0m\n\u001b[0;32m    249\u001b[0m \u001b[38;5;28;01mwith\u001b[39;00m record\u001b[38;5;241m.\u001b[39mstop_recording():\n\u001b[0;32m    250\u001b[0m   \u001b[38;5;28;01mif\u001b[39;00m \u001b[38;5;28mself\u001b[39m\u001b[38;5;241m.\u001b[39m_bound_context\u001b[38;5;241m.\u001b[39mexecuting_eagerly():\n\u001b[1;32m--> 251\u001b[0m     outputs \u001b[38;5;241m=\u001b[39m \u001b[38;5;28;43mself\u001b[39;49m\u001b[38;5;241;43m.\u001b[39;49m\u001b[43m_bound_context\u001b[49m\u001b[38;5;241;43m.\u001b[39;49m\u001b[43mcall_function\u001b[49m\u001b[43m(\u001b[49m\n\u001b[0;32m    252\u001b[0m \u001b[43m        \u001b[49m\u001b[38;5;28;43mself\u001b[39;49m\u001b[38;5;241;43m.\u001b[39;49m\u001b[43mname\u001b[49m\u001b[43m,\u001b[49m\n\u001b[0;32m    253\u001b[0m \u001b[43m        \u001b[49m\u001b[38;5;28;43mlist\u001b[39;49m\u001b[43m(\u001b[49m\u001b[43margs\u001b[49m\u001b[43m)\u001b[49m\u001b[43m,\u001b[49m\n\u001b[0;32m    254\u001b[0m \u001b[43m        \u001b[49m\u001b[38;5;28;43mlen\u001b[39;49m\u001b[43m(\u001b[49m\u001b[38;5;28;43mself\u001b[39;49m\u001b[38;5;241;43m.\u001b[39;49m\u001b[43mfunction_type\u001b[49m\u001b[38;5;241;43m.\u001b[39;49m\u001b[43mflat_outputs\u001b[49m\u001b[43m)\u001b[49m\u001b[43m,\u001b[49m\n\u001b[0;32m    255\u001b[0m \u001b[43m    \u001b[49m\u001b[43m)\u001b[49m\n\u001b[0;32m    256\u001b[0m   \u001b[38;5;28;01melse\u001b[39;00m:\n\u001b[0;32m    257\u001b[0m     outputs \u001b[38;5;241m=\u001b[39m make_call_op_in_graph(\n\u001b[0;32m    258\u001b[0m         \u001b[38;5;28mself\u001b[39m,\n\u001b[0;32m    259\u001b[0m         \u001b[38;5;28mlist\u001b[39m(args),\n\u001b[0;32m    260\u001b[0m         \u001b[38;5;28mself\u001b[39m\u001b[38;5;241m.\u001b[39m_bound_context\u001b[38;5;241m.\u001b[39mfunction_call_options\u001b[38;5;241m.\u001b[39mas_attrs(),\n\u001b[0;32m    261\u001b[0m     )\n",
            "File \u001b[1;32md:\\Capstone\\Capstone Model\\.venv\\lib\\site-packages\\tensorflow\\python\\eager\\context.py:1688\u001b[0m, in \u001b[0;36mContext.call_function\u001b[1;34m(self, name, tensor_inputs, num_outputs)\u001b[0m\n\u001b[0;32m   1686\u001b[0m cancellation_context \u001b[38;5;241m=\u001b[39m cancellation\u001b[38;5;241m.\u001b[39mcontext()\n\u001b[0;32m   1687\u001b[0m \u001b[38;5;28;01mif\u001b[39;00m cancellation_context \u001b[38;5;129;01mis\u001b[39;00m \u001b[38;5;28;01mNone\u001b[39;00m:\n\u001b[1;32m-> 1688\u001b[0m   outputs \u001b[38;5;241m=\u001b[39m \u001b[43mexecute\u001b[49m\u001b[38;5;241;43m.\u001b[39;49m\u001b[43mexecute\u001b[49m\u001b[43m(\u001b[49m\n\u001b[0;32m   1689\u001b[0m \u001b[43m      \u001b[49m\u001b[43mname\u001b[49m\u001b[38;5;241;43m.\u001b[39;49m\u001b[43mdecode\u001b[49m\u001b[43m(\u001b[49m\u001b[38;5;124;43m\"\u001b[39;49m\u001b[38;5;124;43mutf-8\u001b[39;49m\u001b[38;5;124;43m\"\u001b[39;49m\u001b[43m)\u001b[49m\u001b[43m,\u001b[49m\n\u001b[0;32m   1690\u001b[0m \u001b[43m      \u001b[49m\u001b[43mnum_outputs\u001b[49m\u001b[38;5;241;43m=\u001b[39;49m\u001b[43mnum_outputs\u001b[49m\u001b[43m,\u001b[49m\n\u001b[0;32m   1691\u001b[0m \u001b[43m      \u001b[49m\u001b[43minputs\u001b[49m\u001b[38;5;241;43m=\u001b[39;49m\u001b[43mtensor_inputs\u001b[49m\u001b[43m,\u001b[49m\n\u001b[0;32m   1692\u001b[0m \u001b[43m      \u001b[49m\u001b[43mattrs\u001b[49m\u001b[38;5;241;43m=\u001b[39;49m\u001b[43mattrs\u001b[49m\u001b[43m,\u001b[49m\n\u001b[0;32m   1693\u001b[0m \u001b[43m      \u001b[49m\u001b[43mctx\u001b[49m\u001b[38;5;241;43m=\u001b[39;49m\u001b[38;5;28;43mself\u001b[39;49m\u001b[43m,\u001b[49m\n\u001b[0;32m   1694\u001b[0m \u001b[43m  \u001b[49m\u001b[43m)\u001b[49m\n\u001b[0;32m   1695\u001b[0m \u001b[38;5;28;01melse\u001b[39;00m:\n\u001b[0;32m   1696\u001b[0m   outputs \u001b[38;5;241m=\u001b[39m execute\u001b[38;5;241m.\u001b[39mexecute_with_cancellation(\n\u001b[0;32m   1697\u001b[0m       name\u001b[38;5;241m.\u001b[39mdecode(\u001b[38;5;124m\"\u001b[39m\u001b[38;5;124mutf-8\u001b[39m\u001b[38;5;124m\"\u001b[39m),\n\u001b[0;32m   1698\u001b[0m       num_outputs\u001b[38;5;241m=\u001b[39mnum_outputs,\n\u001b[1;32m   (...)\u001b[0m\n\u001b[0;32m   1702\u001b[0m       cancellation_manager\u001b[38;5;241m=\u001b[39mcancellation_context,\n\u001b[0;32m   1703\u001b[0m   )\n",
            "File \u001b[1;32md:\\Capstone\\Capstone Model\\.venv\\lib\\site-packages\\tensorflow\\python\\eager\\execute.py:53\u001b[0m, in \u001b[0;36mquick_execute\u001b[1;34m(op_name, num_outputs, inputs, attrs, ctx, name)\u001b[0m\n\u001b[0;32m     51\u001b[0m \u001b[38;5;28;01mtry\u001b[39;00m:\n\u001b[0;32m     52\u001b[0m   ctx\u001b[38;5;241m.\u001b[39mensure_initialized()\n\u001b[1;32m---> 53\u001b[0m   tensors \u001b[38;5;241m=\u001b[39m \u001b[43mpywrap_tfe\u001b[49m\u001b[38;5;241;43m.\u001b[39;49m\u001b[43mTFE_Py_Execute\u001b[49m\u001b[43m(\u001b[49m\u001b[43mctx\u001b[49m\u001b[38;5;241;43m.\u001b[39;49m\u001b[43m_handle\u001b[49m\u001b[43m,\u001b[49m\u001b[43m \u001b[49m\u001b[43mdevice_name\u001b[49m\u001b[43m,\u001b[49m\u001b[43m \u001b[49m\u001b[43mop_name\u001b[49m\u001b[43m,\u001b[49m\n\u001b[0;32m     54\u001b[0m \u001b[43m                                      \u001b[49m\u001b[43minputs\u001b[49m\u001b[43m,\u001b[49m\u001b[43m \u001b[49m\u001b[43mattrs\u001b[49m\u001b[43m,\u001b[49m\u001b[43m \u001b[49m\u001b[43mnum_outputs\u001b[49m\u001b[43m)\u001b[49m\n\u001b[0;32m     55\u001b[0m \u001b[38;5;28;01mexcept\u001b[39;00m core\u001b[38;5;241m.\u001b[39m_NotOkStatusException \u001b[38;5;28;01mas\u001b[39;00m e:\n\u001b[0;32m     56\u001b[0m   \u001b[38;5;28;01mif\u001b[39;00m name \u001b[38;5;129;01mis\u001b[39;00m \u001b[38;5;129;01mnot\u001b[39;00m \u001b[38;5;28;01mNone\u001b[39;00m:\n",
            "\u001b[1;31mKeyboardInterrupt\u001b[0m: "
          ]
        }
      ],
      "source": [
        "history = model.fit(train_gen,validation_data=val_gen,epochs=50, callbacks=callbacks_model)"
      ]
    },
    {
      "cell_type": "markdown",
      "metadata": {},
      "source": [
        "- Layer Convolutional Neural Network Transfer Learning MobileNetV2"
      ]
    },
    {
      "cell_type": "code",
      "execution_count": 12,
      "metadata": {},
      "outputs": [
        {
          "data": {
            "text/html": [
              "<pre style=\"white-space:pre;overflow-x:auto;line-height:normal;font-family:Menlo,'DejaVu Sans Mono',consolas,'Courier New',monospace\"><span style=\"font-weight: bold\">Model: \"sequential_2\"</span>\n",
              "</pre>\n"
            ],
            "text/plain": [
              "\u001b[1mModel: \"sequential_2\"\u001b[0m\n"
            ]
          },
          "metadata": {},
          "output_type": "display_data"
        },
        {
          "data": {
            "text/html": [
              "<pre style=\"white-space:pre;overflow-x:auto;line-height:normal;font-family:Menlo,'DejaVu Sans Mono',consolas,'Courier New',monospace\">┏━━━━━━━━━━━━━━━━━━━━━━━━━━━━━━━━━┳━━━━━━━━━━━━━━━━━━━━━━━━┳━━━━━━━━━━━━━━━┓\n",
              "┃<span style=\"font-weight: bold\"> Layer (type)                    </span>┃<span style=\"font-weight: bold\"> Output Shape           </span>┃<span style=\"font-weight: bold\">       Param # </span>┃\n",
              "┡━━━━━━━━━━━━━━━━━━━━━━━━━━━━━━━━━╇━━━━━━━━━━━━━━━━━━━━━━━━╇━━━━━━━━━━━━━━━┩\n",
              "│ mobilenetv2_1.00_224            │ (<span style=\"color: #00d7ff; text-decoration-color: #00d7ff\">None</span>, <span style=\"color: #00af00; text-decoration-color: #00af00\">7</span>, <span style=\"color: #00af00; text-decoration-color: #00af00\">7</span>, <span style=\"color: #00af00; text-decoration-color: #00af00\">1280</span>)     │     <span style=\"color: #00af00; text-decoration-color: #00af00\">2,257,984</span> │\n",
              "│ (<span style=\"color: #0087ff; text-decoration-color: #0087ff\">Functional</span>)                    │                        │               │\n",
              "├─────────────────────────────────┼────────────────────────┼───────────────┤\n",
              "│ global_average_pooling2d_2      │ (<span style=\"color: #00d7ff; text-decoration-color: #00d7ff\">None</span>, <span style=\"color: #00af00; text-decoration-color: #00af00\">1280</span>)           │             <span style=\"color: #00af00; text-decoration-color: #00af00\">0</span> │\n",
              "│ (<span style=\"color: #0087ff; text-decoration-color: #0087ff\">GlobalAveragePooling2D</span>)        │                        │               │\n",
              "├─────────────────────────────────┼────────────────────────┼───────────────┤\n",
              "│ batch_normalization_2           │ (<span style=\"color: #00d7ff; text-decoration-color: #00d7ff\">None</span>, <span style=\"color: #00af00; text-decoration-color: #00af00\">1280</span>)           │         <span style=\"color: #00af00; text-decoration-color: #00af00\">5,120</span> │\n",
              "│ (<span style=\"color: #0087ff; text-decoration-color: #0087ff\">BatchNormalization</span>)            │                        │               │\n",
              "├─────────────────────────────────┼────────────────────────┼───────────────┤\n",
              "│ dense_4 (<span style=\"color: #0087ff; text-decoration-color: #0087ff\">Dense</span>)                 │ (<span style=\"color: #00d7ff; text-decoration-color: #00d7ff\">None</span>, <span style=\"color: #00af00; text-decoration-color: #00af00\">256</span>)            │       <span style=\"color: #00af00; text-decoration-color: #00af00\">327,936</span> │\n",
              "├─────────────────────────────────┼────────────────────────┼───────────────┤\n",
              "│ dropout_1 (<span style=\"color: #0087ff; text-decoration-color: #0087ff\">Dropout</span>)             │ (<span style=\"color: #00d7ff; text-decoration-color: #00d7ff\">None</span>, <span style=\"color: #00af00; text-decoration-color: #00af00\">256</span>)            │             <span style=\"color: #00af00; text-decoration-color: #00af00\">0</span> │\n",
              "├─────────────────────────────────┼────────────────────────┼───────────────┤\n",
              "│ dense_5 (<span style=\"color: #0087ff; text-decoration-color: #0087ff\">Dense</span>)                 │ (<span style=\"color: #00d7ff; text-decoration-color: #00d7ff\">None</span>, <span style=\"color: #00af00; text-decoration-color: #00af00\">27</span>)             │         <span style=\"color: #00af00; text-decoration-color: #00af00\">6,939</span> │\n",
              "└─────────────────────────────────┴────────────────────────┴───────────────┘\n",
              "</pre>\n"
            ],
            "text/plain": [
              "┏━━━━━━━━━━━━━━━━━━━━━━━━━━━━━━━━━┳━━━━━━━━━━━━━━━━━━━━━━━━┳━━━━━━━━━━━━━━━┓\n",
              "┃\u001b[1m \u001b[0m\u001b[1mLayer (type)                   \u001b[0m\u001b[1m \u001b[0m┃\u001b[1m \u001b[0m\u001b[1mOutput Shape          \u001b[0m\u001b[1m \u001b[0m┃\u001b[1m \u001b[0m\u001b[1m      Param #\u001b[0m\u001b[1m \u001b[0m┃\n",
              "┡━━━━━━━━━━━━━━━━━━━━━━━━━━━━━━━━━╇━━━━━━━━━━━━━━━━━━━━━━━━╇━━━━━━━━━━━━━━━┩\n",
              "│ mobilenetv2_1.00_224            │ (\u001b[38;5;45mNone\u001b[0m, \u001b[38;5;34m7\u001b[0m, \u001b[38;5;34m7\u001b[0m, \u001b[38;5;34m1280\u001b[0m)     │     \u001b[38;5;34m2,257,984\u001b[0m │\n",
              "│ (\u001b[38;5;33mFunctional\u001b[0m)                    │                        │               │\n",
              "├─────────────────────────────────┼────────────────────────┼───────────────┤\n",
              "│ global_average_pooling2d_2      │ (\u001b[38;5;45mNone\u001b[0m, \u001b[38;5;34m1280\u001b[0m)           │             \u001b[38;5;34m0\u001b[0m │\n",
              "│ (\u001b[38;5;33mGlobalAveragePooling2D\u001b[0m)        │                        │               │\n",
              "├─────────────────────────────────┼────────────────────────┼───────────────┤\n",
              "│ batch_normalization_2           │ (\u001b[38;5;45mNone\u001b[0m, \u001b[38;5;34m1280\u001b[0m)           │         \u001b[38;5;34m5,120\u001b[0m │\n",
              "│ (\u001b[38;5;33mBatchNormalization\u001b[0m)            │                        │               │\n",
              "├─────────────────────────────────┼────────────────────────┼───────────────┤\n",
              "│ dense_4 (\u001b[38;5;33mDense\u001b[0m)                 │ (\u001b[38;5;45mNone\u001b[0m, \u001b[38;5;34m256\u001b[0m)            │       \u001b[38;5;34m327,936\u001b[0m │\n",
              "├─────────────────────────────────┼────────────────────────┼───────────────┤\n",
              "│ dropout_1 (\u001b[38;5;33mDropout\u001b[0m)             │ (\u001b[38;5;45mNone\u001b[0m, \u001b[38;5;34m256\u001b[0m)            │             \u001b[38;5;34m0\u001b[0m │\n",
              "├─────────────────────────────────┼────────────────────────┼───────────────┤\n",
              "│ dense_5 (\u001b[38;5;33mDense\u001b[0m)                 │ (\u001b[38;5;45mNone\u001b[0m, \u001b[38;5;34m27\u001b[0m)             │         \u001b[38;5;34m6,939\u001b[0m │\n",
              "└─────────────────────────────────┴────────────────────────┴───────────────┘\n"
            ]
          },
          "metadata": {},
          "output_type": "display_data"
        },
        {
          "data": {
            "text/html": [
              "<pre style=\"white-space:pre;overflow-x:auto;line-height:normal;font-family:Menlo,'DejaVu Sans Mono',consolas,'Courier New',monospace\"><span style=\"font-weight: bold\"> Total params: </span><span style=\"color: #00af00; text-decoration-color: #00af00\">2,597,979</span> (9.91 MB)\n",
              "</pre>\n"
            ],
            "text/plain": [
              "\u001b[1m Total params: \u001b[0m\u001b[38;5;34m2,597,979\u001b[0m (9.91 MB)\n"
            ]
          },
          "metadata": {},
          "output_type": "display_data"
        },
        {
          "data": {
            "text/html": [
              "<pre style=\"white-space:pre;overflow-x:auto;line-height:normal;font-family:Menlo,'DejaVu Sans Mono',consolas,'Courier New',monospace\"><span style=\"font-weight: bold\"> Trainable params: </span><span style=\"color: #00af00; text-decoration-color: #00af00\">337,435</span> (1.29 MB)\n",
              "</pre>\n"
            ],
            "text/plain": [
              "\u001b[1m Trainable params: \u001b[0m\u001b[38;5;34m337,435\u001b[0m (1.29 MB)\n"
            ]
          },
          "metadata": {},
          "output_type": "display_data"
        },
        {
          "data": {
            "text/html": [
              "<pre style=\"white-space:pre;overflow-x:auto;line-height:normal;font-family:Menlo,'DejaVu Sans Mono',consolas,'Courier New',monospace\"><span style=\"font-weight: bold\"> Non-trainable params: </span><span style=\"color: #00af00; text-decoration-color: #00af00\">2,260,544</span> (8.62 MB)\n",
              "</pre>\n"
            ],
            "text/plain": [
              "\u001b[1m Non-trainable params: \u001b[0m\u001b[38;5;34m2,260,544\u001b[0m (8.62 MB)\n"
            ]
          },
          "metadata": {},
          "output_type": "display_data"
        }
      ],
      "source": [
        "base_model = MobileNetV2(\n",
        "    input_shape=(224, 224, 3),\n",
        "    include_top=False,\n",
        "    weights='imagenet'\n",
        ")\n",
        "base_model.trainable = False  # Freeze layer dulu\n",
        "model_mobile = Sequential([\n",
        "    base_model,\n",
        "    GlobalAveragePooling2D(),\n",
        "    BatchNormalization(),\n",
        "    Dense(256, activation='relu'),\n",
        "    Dropout(0.2),\n",
        "    Dense(27, activation='softmax')\n",
        "])\n",
        "model_mobile.compile(optimizer=Adam(learning_rate=1e-4), loss='categorical_crossentropy', metrics=['accuracy'])\n",
        "model_mobile.summary()"
      ]
    },
    {
      "cell_type": "code",
      "execution_count": 13,
      "metadata": {},
      "outputs": [
        {
          "name": "stdout",
          "output_type": "stream",
          "text": [
            "Epoch 1/100\n",
            "\u001b[1m380/380\u001b[0m \u001b[32m━━━━━━━━━━━━━━━━━━━━\u001b[0m\u001b[37m\u001b[0m \u001b[1m0s\u001b[0m 3s/step - accuracy: 0.1875 - loss: 3.0785\n",
            "Epoch 1: val_loss improved from inf to 1.29385, saving model to ../best_model/model.h5\n"
          ]
        },
        {
          "name": "stderr",
          "output_type": "stream",
          "text": [
            "WARNING:absl:You are saving your model as an HDF5 file via `model.save()` or `keras.saving.save_model(model)`. This file format is considered legacy. We recommend using instead the native Keras format, e.g. `model.save('my_model.keras')` or `keras.saving.save_model(model, 'my_model.keras')`. \n"
          ]
        },
        {
          "name": "stdout",
          "output_type": "stream",
          "text": [
            "\u001b[1m380/380\u001b[0m \u001b[32m━━━━━━━━━━━━━━━━━━━━\u001b[0m\u001b[37m\u001b[0m \u001b[1m1065s\u001b[0m 3s/step - accuracy: 0.1879 - loss: 3.0768 - val_accuracy: 0.6426 - val_loss: 1.2938 - learning_rate: 1.0000e-04\n",
            "Epoch 2/100\n",
            "\u001b[1m380/380\u001b[0m \u001b[32m━━━━━━━━━━━━━━━━━━━━\u001b[0m\u001b[37m\u001b[0m \u001b[1m0s\u001b[0m 2s/step - accuracy: 0.5834 - loss: 1.4024\n",
            "Epoch 2: val_loss improved from 1.29385 to 0.82087, saving model to ../best_model/model.h5\n"
          ]
        },
        {
          "name": "stderr",
          "output_type": "stream",
          "text": [
            "WARNING:absl:You are saving your model as an HDF5 file via `model.save()` or `keras.saving.save_model(model)`. This file format is considered legacy. We recommend using instead the native Keras format, e.g. `model.save('my_model.keras')` or `keras.saving.save_model(model, 'my_model.keras')`. \n"
          ]
        },
        {
          "name": "stdout",
          "output_type": "stream",
          "text": [
            "\u001b[1m380/380\u001b[0m \u001b[32m━━━━━━━━━━━━━━━━━━━━\u001b[0m\u001b[37m\u001b[0m \u001b[1m685s\u001b[0m 2s/step - accuracy: 0.5835 - loss: 1.4021 - val_accuracy: 0.7633 - val_loss: 0.8209 - learning_rate: 1.0000e-04\n",
            "Epoch 3/100\n",
            "\u001b[1m380/380\u001b[0m \u001b[32m━━━━━━━━━━━━━━━━━━━━\u001b[0m\u001b[37m\u001b[0m \u001b[1m0s\u001b[0m 2s/step - accuracy: 0.6877 - loss: 1.0274\n",
            "Epoch 3: val_loss improved from 0.82087 to 0.63920, saving model to ../best_model/model.h5\n"
          ]
        },
        {
          "name": "stderr",
          "output_type": "stream",
          "text": [
            "WARNING:absl:You are saving your model as an HDF5 file via `model.save()` or `keras.saving.save_model(model)`. This file format is considered legacy. We recommend using instead the native Keras format, e.g. `model.save('my_model.keras')` or `keras.saving.save_model(model, 'my_model.keras')`. \n"
          ]
        },
        {
          "name": "stdout",
          "output_type": "stream",
          "text": [
            "\u001b[1m380/380\u001b[0m \u001b[32m━━━━━━━━━━━━━━━━━━━━\u001b[0m\u001b[37m\u001b[0m \u001b[1m688s\u001b[0m 2s/step - accuracy: 0.6878 - loss: 1.0273 - val_accuracy: 0.8074 - val_loss: 0.6392 - learning_rate: 1.0000e-04\n",
            "Epoch 4/100\n",
            "\u001b[1m380/380\u001b[0m \u001b[32m━━━━━━━━━━━━━━━━━━━━\u001b[0m\u001b[37m\u001b[0m \u001b[1m0s\u001b[0m 2s/step - accuracy: 0.7434 - loss: 0.8293\n",
            "Epoch 4: val_loss improved from 0.63920 to 0.53656, saving model to ../best_model/model.h5\n"
          ]
        },
        {
          "name": "stderr",
          "output_type": "stream",
          "text": [
            "WARNING:absl:You are saving your model as an HDF5 file via `model.save()` or `keras.saving.save_model(model)`. This file format is considered legacy. We recommend using instead the native Keras format, e.g. `model.save('my_model.keras')` or `keras.saving.save_model(model, 'my_model.keras')`. \n"
          ]
        },
        {
          "name": "stdout",
          "output_type": "stream",
          "text": [
            "\u001b[1m380/380\u001b[0m \u001b[32m━━━━━━━━━━━━━━━━━━━━\u001b[0m\u001b[37m\u001b[0m \u001b[1m687s\u001b[0m 2s/step - accuracy: 0.7434 - loss: 0.8292 - val_accuracy: 0.8348 - val_loss: 0.5366 - learning_rate: 1.0000e-04\n",
            "Epoch 5/100\n",
            "\u001b[1m380/380\u001b[0m \u001b[32m━━━━━━━━━━━━━━━━━━━━\u001b[0m\u001b[37m\u001b[0m \u001b[1m0s\u001b[0m 2s/step - accuracy: 0.7800 - loss: 0.7207\n",
            "Epoch 5: val_loss improved from 0.53656 to 0.47352, saving model to ../best_model/model.h5\n"
          ]
        },
        {
          "name": "stderr",
          "output_type": "stream",
          "text": [
            "WARNING:absl:You are saving your model as an HDF5 file via `model.save()` or `keras.saving.save_model(model)`. This file format is considered legacy. We recommend using instead the native Keras format, e.g. `model.save('my_model.keras')` or `keras.saving.save_model(model, 'my_model.keras')`. \n"
          ]
        },
        {
          "name": "stdout",
          "output_type": "stream",
          "text": [
            "\u001b[1m380/380\u001b[0m \u001b[32m━━━━━━━━━━━━━━━━━━━━\u001b[0m\u001b[37m\u001b[0m \u001b[1m686s\u001b[0m 2s/step - accuracy: 0.7800 - loss: 0.7206 - val_accuracy: 0.8578 - val_loss: 0.4735 - learning_rate: 1.0000e-04\n",
            "Epoch 6/100\n",
            "\u001b[1m380/380\u001b[0m \u001b[32m━━━━━━━━━━━━━━━━━━━━\u001b[0m\u001b[37m\u001b[0m \u001b[1m0s\u001b[0m 2s/step - accuracy: 0.7983 - loss: 0.6472\n",
            "Epoch 6: val_loss improved from 0.47352 to 0.42955, saving model to ../best_model/model.h5\n"
          ]
        },
        {
          "name": "stderr",
          "output_type": "stream",
          "text": [
            "WARNING:absl:You are saving your model as an HDF5 file via `model.save()` or `keras.saving.save_model(model)`. This file format is considered legacy. We recommend using instead the native Keras format, e.g. `model.save('my_model.keras')` or `keras.saving.save_model(model, 'my_model.keras')`. \n"
          ]
        },
        {
          "name": "stdout",
          "output_type": "stream",
          "text": [
            "\u001b[1m380/380\u001b[0m \u001b[32m━━━━━━━━━━━━━━━━━━━━\u001b[0m\u001b[37m\u001b[0m \u001b[1m686s\u001b[0m 2s/step - accuracy: 0.7984 - loss: 0.6472 - val_accuracy: 0.8678 - val_loss: 0.4295 - learning_rate: 1.0000e-04\n",
            "Epoch 7/100\n",
            "\u001b[1m380/380\u001b[0m \u001b[32m━━━━━━━━━━━━━━━━━━━━\u001b[0m\u001b[37m\u001b[0m \u001b[1m0s\u001b[0m 2s/step - accuracy: 0.8156 - loss: 0.5846\n",
            "Epoch 7: val_loss improved from 0.42955 to 0.40004, saving model to ../best_model/model.h5\n"
          ]
        },
        {
          "name": "stderr",
          "output_type": "stream",
          "text": [
            "WARNING:absl:You are saving your model as an HDF5 file via `model.save()` or `keras.saving.save_model(model)`. This file format is considered legacy. We recommend using instead the native Keras format, e.g. `model.save('my_model.keras')` or `keras.saving.save_model(model, 'my_model.keras')`. \n"
          ]
        },
        {
          "name": "stdout",
          "output_type": "stream",
          "text": [
            "\u001b[1m380/380\u001b[0m \u001b[32m━━━━━━━━━━━━━━━━━━━━\u001b[0m\u001b[37m\u001b[0m \u001b[1m684s\u001b[0m 2s/step - accuracy: 0.8156 - loss: 0.5846 - val_accuracy: 0.8722 - val_loss: 0.4000 - learning_rate: 1.0000e-04\n",
            "Epoch 8/100\n",
            "\u001b[1m380/380\u001b[0m \u001b[32m━━━━━━━━━━━━━━━━━━━━\u001b[0m\u001b[37m\u001b[0m \u001b[1m0s\u001b[0m 2s/step - accuracy: 0.8256 - loss: 0.5496\n",
            "Epoch 8: val_loss improved from 0.40004 to 0.37413, saving model to ../best_model/model.h5\n"
          ]
        },
        {
          "name": "stderr",
          "output_type": "stream",
          "text": [
            "WARNING:absl:You are saving your model as an HDF5 file via `model.save()` or `keras.saving.save_model(model)`. This file format is considered legacy. We recommend using instead the native Keras format, e.g. `model.save('my_model.keras')` or `keras.saving.save_model(model, 'my_model.keras')`. \n"
          ]
        },
        {
          "name": "stdout",
          "output_type": "stream",
          "text": [
            "\u001b[1m380/380\u001b[0m \u001b[32m━━━━━━━━━━━━━━━━━━━━\u001b[0m\u001b[37m\u001b[0m \u001b[1m685s\u001b[0m 2s/step - accuracy: 0.8256 - loss: 0.5496 - val_accuracy: 0.8833 - val_loss: 0.3741 - learning_rate: 1.0000e-04\n",
            "Epoch 9/100\n",
            "\u001b[1m380/380\u001b[0m \u001b[32m━━━━━━━━━━━━━━━━━━━━\u001b[0m\u001b[37m\u001b[0m \u001b[1m0s\u001b[0m 2s/step - accuracy: 0.8394 - loss: 0.5064\n",
            "Epoch 9: val_loss improved from 0.37413 to 0.35670, saving model to ../best_model/model.h5\n"
          ]
        },
        {
          "name": "stderr",
          "output_type": "stream",
          "text": [
            "WARNING:absl:You are saving your model as an HDF5 file via `model.save()` or `keras.saving.save_model(model)`. This file format is considered legacy. We recommend using instead the native Keras format, e.g. `model.save('my_model.keras')` or `keras.saving.save_model(model, 'my_model.keras')`. \n"
          ]
        },
        {
          "name": "stdout",
          "output_type": "stream",
          "text": [
            "\u001b[1m380/380\u001b[0m \u001b[32m━━━━━━━━━━━━━━━━━━━━\u001b[0m\u001b[37m\u001b[0m \u001b[1m684s\u001b[0m 2s/step - accuracy: 0.8394 - loss: 0.5064 - val_accuracy: 0.8900 - val_loss: 0.3567 - learning_rate: 1.0000e-04\n",
            "Epoch 10/100\n",
            "\u001b[1m380/380\u001b[0m \u001b[32m━━━━━━━━━━━━━━━━━━━━\u001b[0m\u001b[37m\u001b[0m \u001b[1m0s\u001b[0m 2s/step - accuracy: 0.8491 - loss: 0.4800\n",
            "Epoch 10: val_loss improved from 0.35670 to 0.34213, saving model to ../best_model/model.h5\n"
          ]
        },
        {
          "name": "stderr",
          "output_type": "stream",
          "text": [
            "WARNING:absl:You are saving your model as an HDF5 file via `model.save()` or `keras.saving.save_model(model)`. This file format is considered legacy. We recommend using instead the native Keras format, e.g. `model.save('my_model.keras')` or `keras.saving.save_model(model, 'my_model.keras')`. \n"
          ]
        },
        {
          "name": "stdout",
          "output_type": "stream",
          "text": [
            "\u001b[1m380/380\u001b[0m \u001b[32m━━━━━━━━━━━━━━━━━━━━\u001b[0m\u001b[37m\u001b[0m \u001b[1m683s\u001b[0m 2s/step - accuracy: 0.8491 - loss: 0.4800 - val_accuracy: 0.8941 - val_loss: 0.3421 - learning_rate: 1.0000e-04\n",
            "Epoch 11/100\n",
            "\u001b[1m380/380\u001b[0m \u001b[32m━━━━━━━━━━━━━━━━━━━━\u001b[0m\u001b[37m\u001b[0m \u001b[1m0s\u001b[0m 2s/step - accuracy: 0.8573 - loss: 0.4499\n",
            "Epoch 11: val_loss improved from 0.34213 to 0.32715, saving model to ../best_model/model.h5\n"
          ]
        },
        {
          "name": "stderr",
          "output_type": "stream",
          "text": [
            "WARNING:absl:You are saving your model as an HDF5 file via `model.save()` or `keras.saving.save_model(model)`. This file format is considered legacy. We recommend using instead the native Keras format, e.g. `model.save('my_model.keras')` or `keras.saving.save_model(model, 'my_model.keras')`. \n"
          ]
        },
        {
          "name": "stdout",
          "output_type": "stream",
          "text": [
            "\u001b[1m380/380\u001b[0m \u001b[32m━━━━━━━━━━━━━━━━━━━━\u001b[0m\u001b[37m\u001b[0m \u001b[1m685s\u001b[0m 2s/step - accuracy: 0.8573 - loss: 0.4499 - val_accuracy: 0.8948 - val_loss: 0.3272 - learning_rate: 1.0000e-04\n",
            "Epoch 12/100\n",
            "\u001b[1m380/380\u001b[0m \u001b[32m━━━━━━━━━━━━━━━━━━━━\u001b[0m\u001b[37m\u001b[0m \u001b[1m0s\u001b[0m 2s/step - accuracy: 0.8668 - loss: 0.4293\n",
            "Epoch 12: val_loss improved from 0.32715 to 0.32245, saving model to ../best_model/model.h5\n"
          ]
        },
        {
          "name": "stderr",
          "output_type": "stream",
          "text": [
            "WARNING:absl:You are saving your model as an HDF5 file via `model.save()` or `keras.saving.save_model(model)`. This file format is considered legacy. We recommend using instead the native Keras format, e.g. `model.save('my_model.keras')` or `keras.saving.save_model(model, 'my_model.keras')`. \n"
          ]
        },
        {
          "name": "stdout",
          "output_type": "stream",
          "text": [
            "\u001b[1m380/380\u001b[0m \u001b[32m━━━━━━━━━━━━━━━━━━━━\u001b[0m\u001b[37m\u001b[0m \u001b[1m684s\u001b[0m 2s/step - accuracy: 0.8668 - loss: 0.4293 - val_accuracy: 0.8967 - val_loss: 0.3225 - learning_rate: 1.0000e-04\n",
            "Epoch 13/100\n",
            "\u001b[1m380/380\u001b[0m \u001b[32m━━━━━━━━━━━━━━━━━━━━\u001b[0m\u001b[37m\u001b[0m \u001b[1m0s\u001b[0m 2s/step - accuracy: 0.8661 - loss: 0.4212\n",
            "Epoch 13: val_loss improved from 0.32245 to 0.31467, saving model to ../best_model/model.h5\n"
          ]
        },
        {
          "name": "stderr",
          "output_type": "stream",
          "text": [
            "WARNING:absl:You are saving your model as an HDF5 file via `model.save()` or `keras.saving.save_model(model)`. This file format is considered legacy. We recommend using instead the native Keras format, e.g. `model.save('my_model.keras')` or `keras.saving.save_model(model, 'my_model.keras')`. \n"
          ]
        },
        {
          "name": "stdout",
          "output_type": "stream",
          "text": [
            "\u001b[1m380/380\u001b[0m \u001b[32m━━━━━━━━━━━━━━━━━━━━\u001b[0m\u001b[37m\u001b[0m \u001b[1m683s\u001b[0m 2s/step - accuracy: 0.8661 - loss: 0.4212 - val_accuracy: 0.8993 - val_loss: 0.3147 - learning_rate: 1.0000e-04\n",
            "Epoch 14/100\n",
            "\u001b[1m380/380\u001b[0m \u001b[32m━━━━━━━━━━━━━━━━━━━━\u001b[0m\u001b[37m\u001b[0m \u001b[1m0s\u001b[0m 2s/step - accuracy: 0.8831 - loss: 0.3748\n",
            "Epoch 14: val_loss improved from 0.31467 to 0.30398, saving model to ../best_model/model.h5\n"
          ]
        },
        {
          "name": "stderr",
          "output_type": "stream",
          "text": [
            "WARNING:absl:You are saving your model as an HDF5 file via `model.save()` or `keras.saving.save_model(model)`. This file format is considered legacy. We recommend using instead the native Keras format, e.g. `model.save('my_model.keras')` or `keras.saving.save_model(model, 'my_model.keras')`. \n"
          ]
        },
        {
          "name": "stdout",
          "output_type": "stream",
          "text": [
            "\u001b[1m380/380\u001b[0m \u001b[32m━━━━━━━━━━━━━━━━━━━━\u001b[0m\u001b[37m\u001b[0m \u001b[1m683s\u001b[0m 2s/step - accuracy: 0.8830 - loss: 0.3748 - val_accuracy: 0.8981 - val_loss: 0.3040 - learning_rate: 1.0000e-04\n",
            "Epoch 15/100\n",
            "\u001b[1m380/380\u001b[0m \u001b[32m━━━━━━━━━━━━━━━━━━━━\u001b[0m\u001b[37m\u001b[0m \u001b[1m0s\u001b[0m 2s/step - accuracy: 0.8741 - loss: 0.3770\n",
            "Epoch 15: val_loss improved from 0.30398 to 0.30015, saving model to ../best_model/model.h5\n"
          ]
        },
        {
          "name": "stderr",
          "output_type": "stream",
          "text": [
            "WARNING:absl:You are saving your model as an HDF5 file via `model.save()` or `keras.saving.save_model(model)`. This file format is considered legacy. We recommend using instead the native Keras format, e.g. `model.save('my_model.keras')` or `keras.saving.save_model(model, 'my_model.keras')`. \n"
          ]
        },
        {
          "name": "stdout",
          "output_type": "stream",
          "text": [
            "\u001b[1m380/380\u001b[0m \u001b[32m━━━━━━━━━━━━━━━━━━━━\u001b[0m\u001b[37m\u001b[0m \u001b[1m681s\u001b[0m 2s/step - accuracy: 0.8741 - loss: 0.3770 - val_accuracy: 0.9037 - val_loss: 0.3002 - learning_rate: 1.0000e-04\n",
            "Epoch 16/100\n",
            "\u001b[1m380/380\u001b[0m \u001b[32m━━━━━━━━━━━━━━━━━━━━\u001b[0m\u001b[37m\u001b[0m \u001b[1m0s\u001b[0m 2s/step - accuracy: 0.8858 - loss: 0.3527\n",
            "Epoch 16: val_loss improved from 0.30015 to 0.29114, saving model to ../best_model/model.h5\n"
          ]
        },
        {
          "name": "stderr",
          "output_type": "stream",
          "text": [
            "WARNING:absl:You are saving your model as an HDF5 file via `model.save()` or `keras.saving.save_model(model)`. This file format is considered legacy. We recommend using instead the native Keras format, e.g. `model.save('my_model.keras')` or `keras.saving.save_model(model, 'my_model.keras')`. \n"
          ]
        },
        {
          "name": "stdout",
          "output_type": "stream",
          "text": [
            "\u001b[1m380/380\u001b[0m \u001b[32m━━━━━━━━━━━━━━━━━━━━\u001b[0m\u001b[37m\u001b[0m \u001b[1m683s\u001b[0m 2s/step - accuracy: 0.8858 - loss: 0.3527 - val_accuracy: 0.9030 - val_loss: 0.2911 - learning_rate: 1.0000e-04\n",
            "Epoch 17/100\n",
            "\u001b[1m380/380\u001b[0m \u001b[32m━━━━━━━━━━━━━━━━━━━━\u001b[0m\u001b[37m\u001b[0m \u001b[1m0s\u001b[0m 2s/step - accuracy: 0.8888 - loss: 0.3433\n",
            "Epoch 17: val_loss improved from 0.29114 to 0.28052, saving model to ../best_model/model.h5\n"
          ]
        },
        {
          "name": "stderr",
          "output_type": "stream",
          "text": [
            "WARNING:absl:You are saving your model as an HDF5 file via `model.save()` or `keras.saving.save_model(model)`. This file format is considered legacy. We recommend using instead the native Keras format, e.g. `model.save('my_model.keras')` or `keras.saving.save_model(model, 'my_model.keras')`. \n"
          ]
        },
        {
          "name": "stdout",
          "output_type": "stream",
          "text": [
            "\u001b[1m380/380\u001b[0m \u001b[32m━━━━━━━━━━━━━━━━━━━━\u001b[0m\u001b[37m\u001b[0m \u001b[1m683s\u001b[0m 2s/step - accuracy: 0.8888 - loss: 0.3433 - val_accuracy: 0.9096 - val_loss: 0.2805 - learning_rate: 1.0000e-04\n",
            "Epoch 18/100\n",
            "\u001b[1m380/380\u001b[0m \u001b[32m━━━━━━━━━━━━━━━━━━━━\u001b[0m\u001b[37m\u001b[0m \u001b[1m0s\u001b[0m 2s/step - accuracy: 0.8860 - loss: 0.3409\n",
            "Epoch 18: val_loss improved from 0.28052 to 0.27977, saving model to ../best_model/model.h5\n"
          ]
        },
        {
          "name": "stderr",
          "output_type": "stream",
          "text": [
            "WARNING:absl:You are saving your model as an HDF5 file via `model.save()` or `keras.saving.save_model(model)`. This file format is considered legacy. We recommend using instead the native Keras format, e.g. `model.save('my_model.keras')` or `keras.saving.save_model(model, 'my_model.keras')`. \n"
          ]
        },
        {
          "name": "stdout",
          "output_type": "stream",
          "text": [
            "\u001b[1m380/380\u001b[0m \u001b[32m━━━━━━━━━━━━━━━━━━━━\u001b[0m\u001b[37m\u001b[0m \u001b[1m685s\u001b[0m 2s/step - accuracy: 0.8860 - loss: 0.3410 - val_accuracy: 0.9107 - val_loss: 0.2798 - learning_rate: 1.0000e-04\n",
            "Epoch 19/100\n",
            "\u001b[1m380/380\u001b[0m \u001b[32m━━━━━━━━━━━━━━━━━━━━\u001b[0m\u001b[37m\u001b[0m \u001b[1m0s\u001b[0m 2s/step - accuracy: 0.8963 - loss: 0.3182\n",
            "Epoch 19: val_loss improved from 0.27977 to 0.27537, saving model to ../best_model/model.h5\n"
          ]
        },
        {
          "name": "stderr",
          "output_type": "stream",
          "text": [
            "WARNING:absl:You are saving your model as an HDF5 file via `model.save()` or `keras.saving.save_model(model)`. This file format is considered legacy. We recommend using instead the native Keras format, e.g. `model.save('my_model.keras')` or `keras.saving.save_model(model, 'my_model.keras')`. \n"
          ]
        },
        {
          "name": "stdout",
          "output_type": "stream",
          "text": [
            "\u001b[1m380/380\u001b[0m \u001b[32m━━━━━━━━━━━━━━━━━━━━\u001b[0m\u001b[37m\u001b[0m \u001b[1m682s\u001b[0m 2s/step - accuracy: 0.8963 - loss: 0.3182 - val_accuracy: 0.9096 - val_loss: 0.2754 - learning_rate: 1.0000e-04\n",
            "Epoch 20/100\n",
            "\u001b[1m380/380\u001b[0m \u001b[32m━━━━━━━━━━━━━━━━━━━━\u001b[0m\u001b[37m\u001b[0m \u001b[1m0s\u001b[0m 2s/step - accuracy: 0.8948 - loss: 0.3173\n",
            "Epoch 20: val_loss improved from 0.27537 to 0.27302, saving model to ../best_model/model.h5\n"
          ]
        },
        {
          "name": "stderr",
          "output_type": "stream",
          "text": [
            "WARNING:absl:You are saving your model as an HDF5 file via `model.save()` or `keras.saving.save_model(model)`. This file format is considered legacy. We recommend using instead the native Keras format, e.g. `model.save('my_model.keras')` or `keras.saving.save_model(model, 'my_model.keras')`. \n"
          ]
        },
        {
          "name": "stdout",
          "output_type": "stream",
          "text": [
            "\u001b[1m380/380\u001b[0m \u001b[32m━━━━━━━━━━━━━━━━━━━━\u001b[0m\u001b[37m\u001b[0m \u001b[1m681s\u001b[0m 2s/step - accuracy: 0.8948 - loss: 0.3173 - val_accuracy: 0.9119 - val_loss: 0.2730 - learning_rate: 1.0000e-04\n",
            "Epoch 21/100\n",
            "\u001b[1m380/380\u001b[0m \u001b[32m━━━━━━━━━━━━━━━━━━━━\u001b[0m\u001b[37m\u001b[0m \u001b[1m0s\u001b[0m 2s/step - accuracy: 0.8992 - loss: 0.3055\n",
            "Epoch 21: val_loss improved from 0.27302 to 0.27205, saving model to ../best_model/model.h5\n"
          ]
        },
        {
          "name": "stderr",
          "output_type": "stream",
          "text": [
            "WARNING:absl:You are saving your model as an HDF5 file via `model.save()` or `keras.saving.save_model(model)`. This file format is considered legacy. We recommend using instead the native Keras format, e.g. `model.save('my_model.keras')` or `keras.saving.save_model(model, 'my_model.keras')`. \n"
          ]
        },
        {
          "name": "stdout",
          "output_type": "stream",
          "text": [
            "\u001b[1m380/380\u001b[0m \u001b[32m━━━━━━━━━━━━━━━━━━━━\u001b[0m\u001b[37m\u001b[0m \u001b[1m683s\u001b[0m 2s/step - accuracy: 0.8992 - loss: 0.3055 - val_accuracy: 0.9107 - val_loss: 0.2720 - learning_rate: 1.0000e-04\n",
            "Epoch 22/100\n",
            "\u001b[1m380/380\u001b[0m \u001b[32m━━━━━━━━━━━━━━━━━━━━\u001b[0m\u001b[37m\u001b[0m \u001b[1m0s\u001b[0m 2s/step - accuracy: 0.9026 - loss: 0.2986\n",
            "Epoch 22: val_loss improved from 0.27205 to 0.26558, saving model to ../best_model/model.h5\n"
          ]
        },
        {
          "name": "stderr",
          "output_type": "stream",
          "text": [
            "WARNING:absl:You are saving your model as an HDF5 file via `model.save()` or `keras.saving.save_model(model)`. This file format is considered legacy. We recommend using instead the native Keras format, e.g. `model.save('my_model.keras')` or `keras.saving.save_model(model, 'my_model.keras')`. \n"
          ]
        },
        {
          "name": "stdout",
          "output_type": "stream",
          "text": [
            "\u001b[1m380/380\u001b[0m \u001b[32m━━━━━━━━━━━━━━━━━━━━\u001b[0m\u001b[37m\u001b[0m \u001b[1m685s\u001b[0m 2s/step - accuracy: 0.9026 - loss: 0.2986 - val_accuracy: 0.9104 - val_loss: 0.2656 - learning_rate: 1.0000e-04\n",
            "Epoch 23/100\n",
            "\u001b[1m380/380\u001b[0m \u001b[32m━━━━━━━━━━━━━━━━━━━━\u001b[0m\u001b[37m\u001b[0m \u001b[1m0s\u001b[0m 2s/step - accuracy: 0.9097 - loss: 0.2863\n",
            "Epoch 23: val_loss improved from 0.26558 to 0.26525, saving model to ../best_model/model.h5\n"
          ]
        },
        {
          "name": "stderr",
          "output_type": "stream",
          "text": [
            "WARNING:absl:You are saving your model as an HDF5 file via `model.save()` or `keras.saving.save_model(model)`. This file format is considered legacy. We recommend using instead the native Keras format, e.g. `model.save('my_model.keras')` or `keras.saving.save_model(model, 'my_model.keras')`. \n"
          ]
        },
        {
          "name": "stdout",
          "output_type": "stream",
          "text": [
            "\u001b[1m380/380\u001b[0m \u001b[32m━━━━━━━━━━━━━━━━━━━━\u001b[0m\u001b[37m\u001b[0m \u001b[1m684s\u001b[0m 2s/step - accuracy: 0.9097 - loss: 0.2863 - val_accuracy: 0.9119 - val_loss: 0.2653 - learning_rate: 1.0000e-04\n",
            "Epoch 24/100\n",
            "\u001b[1m380/380\u001b[0m \u001b[32m━━━━━━━━━━━━━━━━━━━━\u001b[0m\u001b[37m\u001b[0m \u001b[1m0s\u001b[0m 2s/step - accuracy: 0.9117 - loss: 0.2696\n",
            "Epoch 24: val_loss improved from 0.26525 to 0.26353, saving model to ../best_model/model.h5\n"
          ]
        },
        {
          "name": "stderr",
          "output_type": "stream",
          "text": [
            "WARNING:absl:You are saving your model as an HDF5 file via `model.save()` or `keras.saving.save_model(model)`. This file format is considered legacy. We recommend using instead the native Keras format, e.g. `model.save('my_model.keras')` or `keras.saving.save_model(model, 'my_model.keras')`. \n"
          ]
        },
        {
          "name": "stdout",
          "output_type": "stream",
          "text": [
            "\u001b[1m380/380\u001b[0m \u001b[32m━━━━━━━━━━━━━━━━━━━━\u001b[0m\u001b[37m\u001b[0m \u001b[1m683s\u001b[0m 2s/step - accuracy: 0.9117 - loss: 0.2697 - val_accuracy: 0.9115 - val_loss: 0.2635 - learning_rate: 1.0000e-04\n",
            "Epoch 25/100\n",
            "\u001b[1m380/380\u001b[0m \u001b[32m━━━━━━━━━━━━━━━━━━━━\u001b[0m\u001b[37m\u001b[0m \u001b[1m0s\u001b[0m 2s/step - accuracy: 0.9124 - loss: 0.2734\n",
            "Epoch 25: val_loss improved from 0.26353 to 0.25893, saving model to ../best_model/model.h5\n"
          ]
        },
        {
          "name": "stderr",
          "output_type": "stream",
          "text": [
            "WARNING:absl:You are saving your model as an HDF5 file via `model.save()` or `keras.saving.save_model(model)`. This file format is considered legacy. We recommend using instead the native Keras format, e.g. `model.save('my_model.keras')` or `keras.saving.save_model(model, 'my_model.keras')`. \n"
          ]
        },
        {
          "name": "stdout",
          "output_type": "stream",
          "text": [
            "\u001b[1m380/380\u001b[0m \u001b[32m━━━━━━━━━━━━━━━━━━━━\u001b[0m\u001b[37m\u001b[0m \u001b[1m680s\u001b[0m 2s/step - accuracy: 0.9123 - loss: 0.2734 - val_accuracy: 0.9133 - val_loss: 0.2589 - learning_rate: 1.0000e-04\n",
            "Epoch 26/100\n",
            "\u001b[1m380/380\u001b[0m \u001b[32m━━━━━━━━━━━━━━━━━━━━\u001b[0m\u001b[37m\u001b[0m \u001b[1m0s\u001b[0m 2s/step - accuracy: 0.9146 - loss: 0.2595\n",
            "Epoch 26: val_loss did not improve from 0.25893\n",
            "\u001b[1m380/380\u001b[0m \u001b[32m━━━━━━━━━━━━━━━━━━━━\u001b[0m\u001b[37m\u001b[0m \u001b[1m682s\u001b[0m 2s/step - accuracy: 0.9146 - loss: 0.2595 - val_accuracy: 0.9167 - val_loss: 0.2621 - learning_rate: 1.0000e-04\n",
            "Epoch 27/100\n",
            "\u001b[1m380/380\u001b[0m \u001b[32m━━━━━━━━━━━━━━━━━━━━\u001b[0m\u001b[37m\u001b[0m \u001b[1m0s\u001b[0m 2s/step - accuracy: 0.9191 - loss: 0.2599\n",
            "Epoch 27: val_loss improved from 0.25893 to 0.25531, saving model to ../best_model/model.h5\n"
          ]
        },
        {
          "name": "stderr",
          "output_type": "stream",
          "text": [
            "WARNING:absl:You are saving your model as an HDF5 file via `model.save()` or `keras.saving.save_model(model)`. This file format is considered legacy. We recommend using instead the native Keras format, e.g. `model.save('my_model.keras')` or `keras.saving.save_model(model, 'my_model.keras')`. \n"
          ]
        },
        {
          "name": "stdout",
          "output_type": "stream",
          "text": [
            "\u001b[1m380/380\u001b[0m \u001b[32m━━━━━━━━━━━━━━━━━━━━\u001b[0m\u001b[37m\u001b[0m \u001b[1m680s\u001b[0m 2s/step - accuracy: 0.9191 - loss: 0.2599 - val_accuracy: 0.9181 - val_loss: 0.2553 - learning_rate: 1.0000e-04\n",
            "Epoch 28/100\n",
            "\u001b[1m380/380\u001b[0m \u001b[32m━━━━━━━━━━━━━━━━━━━━\u001b[0m\u001b[37m\u001b[0m \u001b[1m0s\u001b[0m 2s/step - accuracy: 0.9212 - loss: 0.2507\n",
            "Epoch 28: val_loss did not improve from 0.25531\n",
            "\u001b[1m380/380\u001b[0m \u001b[32m━━━━━━━━━━━━━━━━━━━━\u001b[0m\u001b[37m\u001b[0m \u001b[1m682s\u001b[0m 2s/step - accuracy: 0.9212 - loss: 0.2507 - val_accuracy: 0.9159 - val_loss: 0.2611 - learning_rate: 1.0000e-04\n",
            "Epoch 29/100\n",
            "\u001b[1m380/380\u001b[0m \u001b[32m━━━━━━━━━━━━━━━━━━━━\u001b[0m\u001b[37m\u001b[0m \u001b[1m0s\u001b[0m 2s/step - accuracy: 0.9215 - loss: 0.2458\n",
            "Epoch 29: val_loss improved from 0.25531 to 0.24831, saving model to ../best_model/model.h5\n"
          ]
        },
        {
          "name": "stderr",
          "output_type": "stream",
          "text": [
            "WARNING:absl:You are saving your model as an HDF5 file via `model.save()` or `keras.saving.save_model(model)`. This file format is considered legacy. We recommend using instead the native Keras format, e.g. `model.save('my_model.keras')` or `keras.saving.save_model(model, 'my_model.keras')`. \n"
          ]
        },
        {
          "name": "stdout",
          "output_type": "stream",
          "text": [
            "\u001b[1m380/380\u001b[0m \u001b[32m━━━━━━━━━━━━━━━━━━━━\u001b[0m\u001b[37m\u001b[0m \u001b[1m681s\u001b[0m 2s/step - accuracy: 0.9215 - loss: 0.2458 - val_accuracy: 0.9207 - val_loss: 0.2483 - learning_rate: 1.0000e-04\n",
            "Epoch 30/100\n",
            "\u001b[1m380/380\u001b[0m \u001b[32m━━━━━━━━━━━━━━━━━━━━\u001b[0m\u001b[37m\u001b[0m \u001b[1m0s\u001b[0m 2s/step - accuracy: 0.9200 - loss: 0.2377\n",
            "Epoch 30: val_loss improved from 0.24831 to 0.24615, saving model to ../best_model/model.h5\n"
          ]
        },
        {
          "name": "stderr",
          "output_type": "stream",
          "text": [
            "WARNING:absl:You are saving your model as an HDF5 file via `model.save()` or `keras.saving.save_model(model)`. This file format is considered legacy. We recommend using instead the native Keras format, e.g. `model.save('my_model.keras')` or `keras.saving.save_model(model, 'my_model.keras')`. \n"
          ]
        },
        {
          "name": "stdout",
          "output_type": "stream",
          "text": [
            "\u001b[1m380/380\u001b[0m \u001b[32m━━━━━━━━━━━━━━━━━━━━\u001b[0m\u001b[37m\u001b[0m \u001b[1m685s\u001b[0m 2s/step - accuracy: 0.9200 - loss: 0.2377 - val_accuracy: 0.9196 - val_loss: 0.2461 - learning_rate: 1.0000e-04\n",
            "Epoch 31/100\n",
            "\u001b[1m380/380\u001b[0m \u001b[32m━━━━━━━━━━━━━━━━━━━━\u001b[0m\u001b[37m\u001b[0m \u001b[1m0s\u001b[0m 2s/step - accuracy: 0.9255 - loss: 0.2324\n",
            "Epoch 31: val_loss did not improve from 0.24615\n",
            "\u001b[1m380/380\u001b[0m \u001b[32m━━━━━━━━━━━━━━━━━━━━\u001b[0m\u001b[37m\u001b[0m \u001b[1m682s\u001b[0m 2s/step - accuracy: 0.9255 - loss: 0.2324 - val_accuracy: 0.9174 - val_loss: 0.2492 - learning_rate: 1.0000e-04\n",
            "Epoch 32/100\n",
            "\u001b[1m380/380\u001b[0m \u001b[32m━━━━━━━━━━━━━━━━━━━━\u001b[0m\u001b[37m\u001b[0m \u001b[1m0s\u001b[0m 2s/step - accuracy: 0.9215 - loss: 0.2388\n",
            "Epoch 32: val_loss did not improve from 0.24615\n",
            "\u001b[1m380/380\u001b[0m \u001b[32m━━━━━━━━━━━━━━━━━━━━\u001b[0m\u001b[37m\u001b[0m \u001b[1m682s\u001b[0m 2s/step - accuracy: 0.9215 - loss: 0.2388 - val_accuracy: 0.9152 - val_loss: 0.2492 - learning_rate: 1.0000e-04\n",
            "Epoch 33/100\n",
            "\u001b[1m380/380\u001b[0m \u001b[32m━━━━━━━━━━━━━━━━━━━━\u001b[0m\u001b[37m\u001b[0m \u001b[1m0s\u001b[0m 2s/step - accuracy: 0.9244 - loss: 0.2353\n",
            "Epoch 33: val_loss improved from 0.24615 to 0.24547, saving model to ../best_model/model.h5\n"
          ]
        },
        {
          "name": "stderr",
          "output_type": "stream",
          "text": [
            "WARNING:absl:You are saving your model as an HDF5 file via `model.save()` or `keras.saving.save_model(model)`. This file format is considered legacy. We recommend using instead the native Keras format, e.g. `model.save('my_model.keras')` or `keras.saving.save_model(model, 'my_model.keras')`. \n"
          ]
        },
        {
          "name": "stdout",
          "output_type": "stream",
          "text": [
            "\u001b[1m380/380\u001b[0m \u001b[32m━━━━━━━━━━━━━━━━━━━━\u001b[0m\u001b[37m\u001b[0m \u001b[1m682s\u001b[0m 2s/step - accuracy: 0.9244 - loss: 0.2353 - val_accuracy: 0.9200 - val_loss: 0.2455 - learning_rate: 1.0000e-04\n",
            "Epoch 34/100\n",
            "\u001b[1m380/380\u001b[0m \u001b[32m━━━━━━━━━━━━━━━━━━━━\u001b[0m\u001b[37m\u001b[0m \u001b[1m0s\u001b[0m 2s/step - accuracy: 0.9301 - loss: 0.2146\n",
            "Epoch 34: val_loss did not improve from 0.24547\n",
            "\u001b[1m380/380\u001b[0m \u001b[32m━━━━━━━━━━━━━━━━━━━━\u001b[0m\u001b[37m\u001b[0m \u001b[1m682s\u001b[0m 2s/step - accuracy: 0.9301 - loss: 0.2146 - val_accuracy: 0.9148 - val_loss: 0.2490 - learning_rate: 1.0000e-04\n",
            "Epoch 35/100\n",
            "\u001b[1m380/380\u001b[0m \u001b[32m━━━━━━━━━━━━━━━━━━━━\u001b[0m\u001b[37m\u001b[0m \u001b[1m0s\u001b[0m 2s/step - accuracy: 0.9250 - loss: 0.2347\n",
            "Epoch 35: val_loss did not improve from 0.24547\n",
            "\u001b[1m380/380\u001b[0m \u001b[32m━━━━━━━━━━━━━━━━━━━━\u001b[0m\u001b[37m\u001b[0m \u001b[1m681s\u001b[0m 2s/step - accuracy: 0.9250 - loss: 0.2347 - val_accuracy: 0.9159 - val_loss: 0.2508 - learning_rate: 1.0000e-04\n",
            "Epoch 36/100\n",
            "\u001b[1m380/380\u001b[0m \u001b[32m━━━━━━━━━━━━━━━━━━━━\u001b[0m\u001b[37m\u001b[0m \u001b[1m0s\u001b[0m 2s/step - accuracy: 0.9293 - loss: 0.2198\n",
            "Epoch 36: ReduceLROnPlateau reducing learning rate to 4.999999873689376e-05.\n",
            "\n",
            "Epoch 36: val_loss did not improve from 0.24547\n",
            "\u001b[1m380/380\u001b[0m \u001b[32m━━━━━━━━━━━━━━━━━━━━\u001b[0m\u001b[37m\u001b[0m \u001b[1m681s\u001b[0m 2s/step - accuracy: 0.9293 - loss: 0.2198 - val_accuracy: 0.9222 - val_loss: 0.2457 - learning_rate: 1.0000e-04\n",
            "Epoch 37/100\n",
            "\u001b[1m380/380\u001b[0m \u001b[32m━━━━━━━━━━━━━━━━━━━━\u001b[0m\u001b[37m\u001b[0m \u001b[1m0s\u001b[0m 2s/step - accuracy: 0.9266 - loss: 0.2199\n",
            "Epoch 37: val_loss improved from 0.24547 to 0.24448, saving model to ../best_model/model.h5\n"
          ]
        },
        {
          "name": "stderr",
          "output_type": "stream",
          "text": [
            "WARNING:absl:You are saving your model as an HDF5 file via `model.save()` or `keras.saving.save_model(model)`. This file format is considered legacy. We recommend using instead the native Keras format, e.g. `model.save('my_model.keras')` or `keras.saving.save_model(model, 'my_model.keras')`. \n"
          ]
        },
        {
          "name": "stdout",
          "output_type": "stream",
          "text": [
            "\u001b[1m380/380\u001b[0m \u001b[32m━━━━━━━━━━━━━━━━━━━━\u001b[0m\u001b[37m\u001b[0m \u001b[1m683s\u001b[0m 2s/step - accuracy: 0.9266 - loss: 0.2199 - val_accuracy: 0.9211 - val_loss: 0.2445 - learning_rate: 5.0000e-05\n",
            "Epoch 38/100\n",
            "\u001b[1m380/380\u001b[0m \u001b[32m━━━━━━━━━━━━━━━━━━━━\u001b[0m\u001b[37m\u001b[0m \u001b[1m0s\u001b[0m 2s/step - accuracy: 0.9286 - loss: 0.2134\n",
            "Epoch 38: val_loss improved from 0.24448 to 0.24293, saving model to ../best_model/model.h5\n"
          ]
        },
        {
          "name": "stderr",
          "output_type": "stream",
          "text": [
            "WARNING:absl:You are saving your model as an HDF5 file via `model.save()` or `keras.saving.save_model(model)`. This file format is considered legacy. We recommend using instead the native Keras format, e.g. `model.save('my_model.keras')` or `keras.saving.save_model(model, 'my_model.keras')`. \n"
          ]
        },
        {
          "name": "stdout",
          "output_type": "stream",
          "text": [
            "\u001b[1m380/380\u001b[0m \u001b[32m━━━━━━━━━━━━━━━━━━━━\u001b[0m\u001b[37m\u001b[0m \u001b[1m682s\u001b[0m 2s/step - accuracy: 0.9286 - loss: 0.2134 - val_accuracy: 0.9215 - val_loss: 0.2429 - learning_rate: 5.0000e-05\n",
            "Epoch 39/100\n",
            "\u001b[1m380/380\u001b[0m \u001b[32m━━━━━━━━━━━━━━━━━━━━\u001b[0m\u001b[37m\u001b[0m \u001b[1m0s\u001b[0m 3s/step - accuracy: 0.9363 - loss: 0.1990\n",
            "Epoch 39: val_loss improved from 0.24293 to 0.23920, saving model to ../best_model/model.h5\n"
          ]
        },
        {
          "name": "stderr",
          "output_type": "stream",
          "text": [
            "WARNING:absl:You are saving your model as an HDF5 file via `model.save()` or `keras.saving.save_model(model)`. This file format is considered legacy. We recommend using instead the native Keras format, e.g. `model.save('my_model.keras')` or `keras.saving.save_model(model, 'my_model.keras')`. \n"
          ]
        },
        {
          "name": "stdout",
          "output_type": "stream",
          "text": [
            "\u001b[1m380/380\u001b[0m \u001b[32m━━━━━━━━━━━━━━━━━━━━\u001b[0m\u001b[37m\u001b[0m \u001b[1m1159s\u001b[0m 3s/step - accuracy: 0.9363 - loss: 0.1990 - val_accuracy: 0.9230 - val_loss: 0.2392 - learning_rate: 5.0000e-05\n",
            "Epoch 40/100\n",
            "\u001b[1m380/380\u001b[0m \u001b[32m━━━━━━━━━━━━━━━━━━━━\u001b[0m\u001b[37m\u001b[0m \u001b[1m0s\u001b[0m 2s/step - accuracy: 0.9331 - loss: 0.2034\n",
            "Epoch 40: val_loss improved from 0.23920 to 0.23859, saving model to ../best_model/model.h5\n"
          ]
        },
        {
          "name": "stderr",
          "output_type": "stream",
          "text": [
            "WARNING:absl:You are saving your model as an HDF5 file via `model.save()` or `keras.saving.save_model(model)`. This file format is considered legacy. We recommend using instead the native Keras format, e.g. `model.save('my_model.keras')` or `keras.saving.save_model(model, 'my_model.keras')`. \n"
          ]
        },
        {
          "name": "stdout",
          "output_type": "stream",
          "text": [
            "\u001b[1m380/380\u001b[0m \u001b[32m━━━━━━━━━━━━━━━━━━━━\u001b[0m\u001b[37m\u001b[0m \u001b[1m925s\u001b[0m 2s/step - accuracy: 0.9331 - loss: 0.2035 - val_accuracy: 0.9207 - val_loss: 0.2386 - learning_rate: 5.0000e-05\n",
            "Epoch 41/100\n",
            "\u001b[1m380/380\u001b[0m \u001b[32m━━━━━━━━━━━━━━━━━━━━\u001b[0m\u001b[37m\u001b[0m \u001b[1m0s\u001b[0m 2s/step - accuracy: 0.9372 - loss: 0.1976\n",
            "Epoch 41: val_loss did not improve from 0.23859\n",
            "\u001b[1m380/380\u001b[0m \u001b[32m━━━━━━━━━━━━━━━━━━━━\u001b[0m\u001b[37m\u001b[0m \u001b[1m862s\u001b[0m 2s/step - accuracy: 0.9372 - loss: 0.1976 - val_accuracy: 0.9211 - val_loss: 0.2387 - learning_rate: 5.0000e-05\n",
            "Epoch 42/100\n",
            "\u001b[1m380/380\u001b[0m \u001b[32m━━━━━━━━━━━━━━━━━━━━\u001b[0m\u001b[37m\u001b[0m \u001b[1m0s\u001b[0m 2s/step - accuracy: 0.9360 - loss: 0.1972\n",
            "Epoch 42: val_loss did not improve from 0.23859\n",
            "\u001b[1m380/380\u001b[0m \u001b[32m━━━━━━━━━━━━━━━━━━━━\u001b[0m\u001b[37m\u001b[0m \u001b[1m860s\u001b[0m 2s/step - accuracy: 0.9360 - loss: 0.1972 - val_accuracy: 0.9204 - val_loss: 0.2399 - learning_rate: 5.0000e-05\n",
            "Epoch 43/100\n",
            "\u001b[1m380/380\u001b[0m \u001b[32m━━━━━━━━━━━━━━━━━━━━\u001b[0m\u001b[37m\u001b[0m \u001b[1m0s\u001b[0m 2s/step - accuracy: 0.9403 - loss: 0.1893\n",
            "Epoch 43: val_loss improved from 0.23859 to 0.23836, saving model to ../best_model/model.h5\n"
          ]
        },
        {
          "name": "stderr",
          "output_type": "stream",
          "text": [
            "WARNING:absl:You are saving your model as an HDF5 file via `model.save()` or `keras.saving.save_model(model)`. This file format is considered legacy. We recommend using instead the native Keras format, e.g. `model.save('my_model.keras')` or `keras.saving.save_model(model, 'my_model.keras')`. \n"
          ]
        },
        {
          "name": "stdout",
          "output_type": "stream",
          "text": [
            "\u001b[1m380/380\u001b[0m \u001b[32m━━━━━━━━━━━━━━━━━━━━\u001b[0m\u001b[37m\u001b[0m \u001b[1m1004s\u001b[0m 3s/step - accuracy: 0.9403 - loss: 0.1893 - val_accuracy: 0.9193 - val_loss: 0.2384 - learning_rate: 5.0000e-05\n",
            "Epoch 44/100\n",
            "\u001b[1m380/380\u001b[0m \u001b[32m━━━━━━━━━━━━━━━━━━━━\u001b[0m\u001b[37m\u001b[0m \u001b[1m0s\u001b[0m 2s/step - accuracy: 0.9378 - loss: 0.1935\n",
            "Epoch 44: val_loss improved from 0.23836 to 0.23730, saving model to ../best_model/model.h5\n"
          ]
        },
        {
          "name": "stderr",
          "output_type": "stream",
          "text": [
            "WARNING:absl:You are saving your model as an HDF5 file via `model.save()` or `keras.saving.save_model(model)`. This file format is considered legacy. We recommend using instead the native Keras format, e.g. `model.save('my_model.keras')` or `keras.saving.save_model(model, 'my_model.keras')`. \n"
          ]
        },
        {
          "name": "stdout",
          "output_type": "stream",
          "text": [
            "\u001b[1m380/380\u001b[0m \u001b[32m━━━━━━━━━━━━━━━━━━━━\u001b[0m\u001b[37m\u001b[0m \u001b[1m894s\u001b[0m 2s/step - accuracy: 0.9378 - loss: 0.1935 - val_accuracy: 0.9204 - val_loss: 0.2373 - learning_rate: 5.0000e-05\n",
            "Epoch 45/100\n",
            "\u001b[1m380/380\u001b[0m \u001b[32m━━━━━━━━━━━━━━━━━━━━\u001b[0m\u001b[37m\u001b[0m \u001b[1m0s\u001b[0m 2s/step - accuracy: 0.9370 - loss: 0.1929\n",
            "Epoch 45: val_loss did not improve from 0.23730\n",
            "\u001b[1m380/380\u001b[0m \u001b[32m━━━━━━━━━━━━━━━━━━━━\u001b[0m\u001b[37m\u001b[0m \u001b[1m696s\u001b[0m 2s/step - accuracy: 0.9370 - loss: 0.1929 - val_accuracy: 0.9189 - val_loss: 0.2380 - learning_rate: 5.0000e-05\n",
            "Epoch 46/100\n",
            "\u001b[1m380/380\u001b[0m \u001b[32m━━━━━━━━━━━━━━━━━━━━\u001b[0m\u001b[37m\u001b[0m \u001b[1m0s\u001b[0m 2s/step - accuracy: 0.9395 - loss: 0.1914\n",
            "Epoch 46: val_loss did not improve from 0.23730\n",
            "\u001b[1m380/380\u001b[0m \u001b[32m━━━━━━━━━━━━━━━━━━━━\u001b[0m\u001b[37m\u001b[0m \u001b[1m696s\u001b[0m 2s/step - accuracy: 0.9395 - loss: 0.1914 - val_accuracy: 0.9200 - val_loss: 0.2385 - learning_rate: 5.0000e-05\n",
            "Epoch 47/100\n",
            "\u001b[1m380/380\u001b[0m \u001b[32m━━━━━━━━━━━━━━━━━━━━\u001b[0m\u001b[37m\u001b[0m \u001b[1m0s\u001b[0m 2s/step - accuracy: 0.9396 - loss: 0.1890\n",
            "Epoch 47: val_loss improved from 0.23730 to 0.23570, saving model to ../best_model/model.h5\n"
          ]
        },
        {
          "name": "stderr",
          "output_type": "stream",
          "text": [
            "WARNING:absl:You are saving your model as an HDF5 file via `model.save()` or `keras.saving.save_model(model)`. This file format is considered legacy. We recommend using instead the native Keras format, e.g. `model.save('my_model.keras')` or `keras.saving.save_model(model, 'my_model.keras')`. \n"
          ]
        },
        {
          "name": "stdout",
          "output_type": "stream",
          "text": [
            "\u001b[1m380/380\u001b[0m \u001b[32m━━━━━━━━━━━━━━━━━━━━\u001b[0m\u001b[37m\u001b[0m \u001b[1m694s\u001b[0m 2s/step - accuracy: 0.9396 - loss: 0.1890 - val_accuracy: 0.9252 - val_loss: 0.2357 - learning_rate: 5.0000e-05\n",
            "Epoch 48/100\n",
            "\u001b[1m380/380\u001b[0m \u001b[32m━━━━━━━━━━━━━━━━━━━━\u001b[0m\u001b[37m\u001b[0m \u001b[1m0s\u001b[0m 2s/step - accuracy: 0.9426 - loss: 0.1813\n",
            "Epoch 48: val_loss did not improve from 0.23570\n",
            "\u001b[1m380/380\u001b[0m \u001b[32m━━━━━━━━━━━━━━━━━━━━\u001b[0m\u001b[37m\u001b[0m \u001b[1m694s\u001b[0m 2s/step - accuracy: 0.9426 - loss: 0.1813 - val_accuracy: 0.9185 - val_loss: 0.2377 - learning_rate: 5.0000e-05\n",
            "Epoch 49/100\n",
            "\u001b[1m380/380\u001b[0m \u001b[32m━━━━━━━━━━━━━━━━━━━━\u001b[0m\u001b[37m\u001b[0m \u001b[1m0s\u001b[0m 2s/step - accuracy: 0.9374 - loss: 0.1922\n",
            "Epoch 49: val_loss improved from 0.23570 to 0.23547, saving model to ../best_model/model.h5\n"
          ]
        },
        {
          "name": "stderr",
          "output_type": "stream",
          "text": [
            "WARNING:absl:You are saving your model as an HDF5 file via `model.save()` or `keras.saving.save_model(model)`. This file format is considered legacy. We recommend using instead the native Keras format, e.g. `model.save('my_model.keras')` or `keras.saving.save_model(model, 'my_model.keras')`. \n"
          ]
        },
        {
          "name": "stdout",
          "output_type": "stream",
          "text": [
            "\u001b[1m380/380\u001b[0m \u001b[32m━━━━━━━━━━━━━━━━━━━━\u001b[0m\u001b[37m\u001b[0m \u001b[1m694s\u001b[0m 2s/step - accuracy: 0.9374 - loss: 0.1921 - val_accuracy: 0.9174 - val_loss: 0.2355 - learning_rate: 5.0000e-05\n",
            "Epoch 50/100\n",
            "\u001b[1m380/380\u001b[0m \u001b[32m━━━━━━━━━━━━━━━━━━━━\u001b[0m\u001b[37m\u001b[0m \u001b[1m0s\u001b[0m 2s/step - accuracy: 0.9390 - loss: 0.1922\n",
            "Epoch 50: val_loss did not improve from 0.23547\n",
            "\u001b[1m380/380\u001b[0m \u001b[32m━━━━━━━━━━━━━━━━━━━━\u001b[0m\u001b[37m\u001b[0m \u001b[1m694s\u001b[0m 2s/step - accuracy: 0.9390 - loss: 0.1922 - val_accuracy: 0.9189 - val_loss: 0.2364 - learning_rate: 5.0000e-05\n",
            "Epoch 51/100\n",
            "\u001b[1m380/380\u001b[0m \u001b[32m━━━━━━━━━━━━━━━━━━━━\u001b[0m\u001b[37m\u001b[0m \u001b[1m0s\u001b[0m 2s/step - accuracy: 0.9416 - loss: 0.1811\n",
            "Epoch 51: val_loss improved from 0.23547 to 0.23542, saving model to ../best_model/model.h5\n"
          ]
        },
        {
          "name": "stderr",
          "output_type": "stream",
          "text": [
            "WARNING:absl:You are saving your model as an HDF5 file via `model.save()` or `keras.saving.save_model(model)`. This file format is considered legacy. We recommend using instead the native Keras format, e.g. `model.save('my_model.keras')` or `keras.saving.save_model(model, 'my_model.keras')`. \n"
          ]
        },
        {
          "name": "stdout",
          "output_type": "stream",
          "text": [
            "\u001b[1m380/380\u001b[0m \u001b[32m━━━━━━━━━━━━━━━━━━━━\u001b[0m\u001b[37m\u001b[0m \u001b[1m765s\u001b[0m 2s/step - accuracy: 0.9416 - loss: 0.1811 - val_accuracy: 0.9185 - val_loss: 0.2354 - learning_rate: 5.0000e-05\n",
            "Epoch 52/100\n",
            "\u001b[1m380/380\u001b[0m \u001b[32m━━━━━━━━━━━━━━━━━━━━\u001b[0m\u001b[37m\u001b[0m \u001b[1m0s\u001b[0m 2s/step - accuracy: 0.9405 - loss: 0.1814\n",
            "Epoch 52: val_loss improved from 0.23542 to 0.23362, saving model to ../best_model/model.h5\n"
          ]
        },
        {
          "name": "stderr",
          "output_type": "stream",
          "text": [
            "WARNING:absl:You are saving your model as an HDF5 file via `model.save()` or `keras.saving.save_model(model)`. This file format is considered legacy. We recommend using instead the native Keras format, e.g. `model.save('my_model.keras')` or `keras.saving.save_model(model, 'my_model.keras')`. \n"
          ]
        },
        {
          "name": "stdout",
          "output_type": "stream",
          "text": [
            "\u001b[1m380/380\u001b[0m \u001b[32m━━━━━━━━━━━━━━━━━━━━\u001b[0m\u001b[37m\u001b[0m \u001b[1m978s\u001b[0m 3s/step - accuracy: 0.9405 - loss: 0.1815 - val_accuracy: 0.9211 - val_loss: 0.2336 - learning_rate: 5.0000e-05\n",
            "Epoch 53/100\n",
            "\u001b[1m380/380\u001b[0m \u001b[32m━━━━━━━━━━━━━━━━━━━━\u001b[0m\u001b[37m\u001b[0m \u001b[1m0s\u001b[0m 2s/step - accuracy: 0.9428 - loss: 0.1788\n",
            "Epoch 53: val_loss did not improve from 0.23362\n",
            "\u001b[1m380/380\u001b[0m \u001b[32m━━━━━━━━━━━━━━━━━━━━\u001b[0m\u001b[37m\u001b[0m \u001b[1m695s\u001b[0m 2s/step - accuracy: 0.9428 - loss: 0.1788 - val_accuracy: 0.9215 - val_loss: 0.2345 - learning_rate: 5.0000e-05\n",
            "Epoch 54/100\n",
            "\u001b[1m380/380\u001b[0m \u001b[32m━━━━━━━━━━━━━━━━━━━━\u001b[0m\u001b[37m\u001b[0m \u001b[1m0s\u001b[0m 2s/step - accuracy: 0.9439 - loss: 0.1759\n",
            "Epoch 54: val_loss did not improve from 0.23362\n",
            "\u001b[1m380/380\u001b[0m \u001b[32m━━━━━━━━━━━━━━━━━━━━\u001b[0m\u001b[37m\u001b[0m \u001b[1m734s\u001b[0m 2s/step - accuracy: 0.9439 - loss: 0.1759 - val_accuracy: 0.9207 - val_loss: 0.2360 - learning_rate: 5.0000e-05\n",
            "Epoch 55/100\n",
            "\u001b[1m380/380\u001b[0m \u001b[32m━━━━━━━━━━━━━━━━━━━━\u001b[0m\u001b[37m\u001b[0m \u001b[1m0s\u001b[0m 3s/step - accuracy: 0.9436 - loss: 0.1771\n",
            "Epoch 55: val_loss improved from 0.23362 to 0.23047, saving model to ../best_model/model.h5\n"
          ]
        },
        {
          "name": "stderr",
          "output_type": "stream",
          "text": [
            "WARNING:absl:You are saving your model as an HDF5 file via `model.save()` or `keras.saving.save_model(model)`. This file format is considered legacy. We recommend using instead the native Keras format, e.g. `model.save('my_model.keras')` or `keras.saving.save_model(model, 'my_model.keras')`. \n"
          ]
        },
        {
          "name": "stdout",
          "output_type": "stream",
          "text": [
            "\u001b[1m380/380\u001b[0m \u001b[32m━━━━━━━━━━━━━━━━━━━━\u001b[0m\u001b[37m\u001b[0m \u001b[1m999s\u001b[0m 3s/step - accuracy: 0.9436 - loss: 0.1771 - val_accuracy: 0.9222 - val_loss: 0.2305 - learning_rate: 5.0000e-05\n",
            "Epoch 56/100\n",
            "\u001b[1m380/380\u001b[0m \u001b[32m━━━━━━━━━━━━━━━━━━━━\u001b[0m\u001b[37m\u001b[0m \u001b[1m0s\u001b[0m 2s/step - accuracy: 0.9421 - loss: 0.1810\n",
            "Epoch 56: val_loss did not improve from 0.23047\n",
            "\u001b[1m380/380\u001b[0m \u001b[32m━━━━━━━━━━━━━━━━━━━━\u001b[0m\u001b[37m\u001b[0m \u001b[1m695s\u001b[0m 2s/step - accuracy: 0.9421 - loss: 0.1810 - val_accuracy: 0.9222 - val_loss: 0.2320 - learning_rate: 5.0000e-05\n",
            "Epoch 57/100\n",
            "\u001b[1m380/380\u001b[0m \u001b[32m━━━━━━━━━━━━━━━━━━━━\u001b[0m\u001b[37m\u001b[0m \u001b[1m0s\u001b[0m 2s/step - accuracy: 0.9416 - loss: 0.1780\n",
            "Epoch 57: val_loss improved from 0.23047 to 0.22961, saving model to ../best_model/model.h5\n"
          ]
        },
        {
          "name": "stderr",
          "output_type": "stream",
          "text": [
            "WARNING:absl:You are saving your model as an HDF5 file via `model.save()` or `keras.saving.save_model(model)`. This file format is considered legacy. We recommend using instead the native Keras format, e.g. `model.save('my_model.keras')` or `keras.saving.save_model(model, 'my_model.keras')`. \n"
          ]
        },
        {
          "name": "stdout",
          "output_type": "stream",
          "text": [
            "\u001b[1m380/380\u001b[0m \u001b[32m━━━━━━━━━━━━━━━━━━━━\u001b[0m\u001b[37m\u001b[0m \u001b[1m694s\u001b[0m 2s/step - accuracy: 0.9416 - loss: 0.1780 - val_accuracy: 0.9226 - val_loss: 0.2296 - learning_rate: 5.0000e-05\n",
            "Epoch 58/100\n",
            "\u001b[1m380/380\u001b[0m \u001b[32m━━━━━━━━━━━━━━━━━━━━\u001b[0m\u001b[37m\u001b[0m \u001b[1m0s\u001b[0m 2s/step - accuracy: 0.9432 - loss: 0.1751\n",
            "Epoch 58: val_loss did not improve from 0.22961\n",
            "\u001b[1m380/380\u001b[0m \u001b[32m━━━━━━━━━━━━━━━━━━━━\u001b[0m\u001b[37m\u001b[0m \u001b[1m695s\u001b[0m 2s/step - accuracy: 0.9432 - loss: 0.1751 - val_accuracy: 0.9200 - val_loss: 0.2348 - learning_rate: 5.0000e-05\n",
            "Epoch 59/100\n",
            "\u001b[1m380/380\u001b[0m \u001b[32m━━━━━━━━━━━━━━━━━━━━\u001b[0m\u001b[37m\u001b[0m \u001b[1m0s\u001b[0m 2s/step - accuracy: 0.9446 - loss: 0.1687\n",
            "Epoch 59: val_loss did not improve from 0.22961\n",
            "\u001b[1m380/380\u001b[0m \u001b[32m━━━━━━━━━━━━━━━━━━━━\u001b[0m\u001b[37m\u001b[0m \u001b[1m695s\u001b[0m 2s/step - accuracy: 0.9446 - loss: 0.1688 - val_accuracy: 0.9241 - val_loss: 0.2337 - learning_rate: 5.0000e-05\n",
            "Epoch 60/100\n",
            "\u001b[1m380/380\u001b[0m \u001b[32m━━━━━━━━━━━━━━━━━━━━\u001b[0m\u001b[37m\u001b[0m \u001b[1m0s\u001b[0m 2s/step - accuracy: 0.9441 - loss: 0.1729\n",
            "Epoch 60: ReduceLROnPlateau reducing learning rate to 2.499999936844688e-05.\n",
            "\n",
            "Epoch 60: val_loss did not improve from 0.22961\n",
            "\u001b[1m380/380\u001b[0m \u001b[32m━━━━━━━━━━━━━━━━━━━━\u001b[0m\u001b[37m\u001b[0m \u001b[1m695s\u001b[0m 2s/step - accuracy: 0.9441 - loss: 0.1729 - val_accuracy: 0.9244 - val_loss: 0.2319 - learning_rate: 5.0000e-05\n",
            "Epoch 61/100\n",
            "\u001b[1m380/380\u001b[0m \u001b[32m━━━━━━━━━━━━━━━━━━━━\u001b[0m\u001b[37m\u001b[0m \u001b[1m0s\u001b[0m 2s/step - accuracy: 0.9505 - loss: 0.1618\n",
            "Epoch 61: val_loss did not improve from 0.22961\n",
            "\u001b[1m380/380\u001b[0m \u001b[32m━━━━━━━━━━━━━━━━━━━━\u001b[0m\u001b[37m\u001b[0m \u001b[1m696s\u001b[0m 2s/step - accuracy: 0.9504 - loss: 0.1618 - val_accuracy: 0.9233 - val_loss: 0.2320 - learning_rate: 2.5000e-05\n",
            "Epoch 62/100\n",
            "\u001b[1m380/380\u001b[0m \u001b[32m━━━━━━━━━━━━━━━━━━━━\u001b[0m\u001b[37m\u001b[0m \u001b[1m0s\u001b[0m 2s/step - accuracy: 0.9502 - loss: 0.1618\n",
            "Epoch 62: val_loss did not improve from 0.22961\n",
            "\u001b[1m380/380\u001b[0m \u001b[32m━━━━━━━━━━━━━━━━━━━━\u001b[0m\u001b[37m\u001b[0m \u001b[1m696s\u001b[0m 2s/step - accuracy: 0.9502 - loss: 0.1618 - val_accuracy: 0.9226 - val_loss: 0.2308 - learning_rate: 2.5000e-05\n",
            "Epoch 62: early stopping\n",
            "Restoring model weights from the end of the best epoch: 57.\n"
          ]
        }
      ],
      "source": [
        "history_mobile = model_mobile.fit(train_gen,validation_data=val_gen,epochs=100, callbacks=callbacks_model)"
      ]
    },
    {
      "cell_type": "code",
      "execution_count": 7,
      "metadata": {},
      "outputs": [],
      "source": [
        "base_model.trainable = True\n",
        "for layer in base_model.layers[:-30]:\n",
        "    layer.trainable = False                                                                                                                                                                                                                                                                   \n",
        "\n",
        "model_mobile.compile(optimizer=Adam(learning_rate=1e-5), loss='categorical_crossentropy', metrics=['accuracy'])"
      ]
    },
    {
      "cell_type": "code",
      "execution_count": 8,
      "metadata": {},
      "outputs": [
        {
          "name": "stdout",
          "output_type": "stream",
          "text": [
            "Epoch 1/50\n",
            "\u001b[1m380/380\u001b[0m \u001b[32m━━━━━━━━━━━━━━━━━━━━\u001b[0m\u001b[37m\u001b[0m \u001b[1m0s\u001b[0m 3s/step - accuracy: 0.7729 - loss: 0.7383\n",
            "Epoch 1: val_loss did not improve from 0.23168\n",
            "\u001b[1m380/380\u001b[0m \u001b[32m━━━━━━━━━━━━━━━━━━━━\u001b[0m\u001b[37m\u001b[0m \u001b[1m1179s\u001b[0m 3s/step - accuracy: 0.7730 - loss: 0.7379 - val_accuracy: 0.9122 - val_loss: 0.2923 - learning_rate: 1.0000e-05\n",
            "Epoch 2/50\n",
            "\u001b[1m380/380\u001b[0m \u001b[32m━━━━━━━━━━━━━━━━━━━━\u001b[0m\u001b[37m\u001b[0m \u001b[1m0s\u001b[0m 2s/step - accuracy: 0.8712 - loss: 0.3903\n",
            "Epoch 2: val_loss improved from 0.23168 to 0.17263, saving model to ../best_model/model.h5\n"
          ]
        },
        {
          "name": "stderr",
          "output_type": "stream",
          "text": [
            "WARNING:absl:You are saving your model as an HDF5 file via `model.save()` or `keras.saving.save_model(model)`. This file format is considered legacy. We recommend using instead the native Keras format, e.g. `model.save('my_model.keras')` or `keras.saving.save_model(model, 'my_model.keras')`. \n"
          ]
        },
        {
          "name": "stdout",
          "output_type": "stream",
          "text": [
            "\u001b[1m380/380\u001b[0m \u001b[32m━━━━━━━━━━━━━━━━━━━━\u001b[0m\u001b[37m\u001b[0m \u001b[1m780s\u001b[0m 2s/step - accuracy: 0.8712 - loss: 0.3902 - val_accuracy: 0.9470 - val_loss: 0.1726 - learning_rate: 1.0000e-05\n",
            "Epoch 3/50\n",
            "\u001b[1m380/380\u001b[0m \u001b[32m━━━━━━━━━━━━━━━━━━━━\u001b[0m\u001b[37m\u001b[0m \u001b[1m0s\u001b[0m 2s/step - accuracy: 0.9121 - loss: 0.2663\n",
            "Epoch 3: val_loss improved from 0.17263 to 0.11544, saving model to ../best_model/model.h5\n"
          ]
        },
        {
          "name": "stderr",
          "output_type": "stream",
          "text": [
            "WARNING:absl:You are saving your model as an HDF5 file via `model.save()` or `keras.saving.save_model(model)`. This file format is considered legacy. We recommend using instead the native Keras format, e.g. `model.save('my_model.keras')` or `keras.saving.save_model(model, 'my_model.keras')`. \n"
          ]
        },
        {
          "name": "stdout",
          "output_type": "stream",
          "text": [
            "\u001b[1m380/380\u001b[0m \u001b[32m━━━━━━━━━━━━━━━━━━━━\u001b[0m\u001b[37m\u001b[0m \u001b[1m760s\u001b[0m 2s/step - accuracy: 0.9121 - loss: 0.2663 - val_accuracy: 0.9611 - val_loss: 0.1154 - learning_rate: 1.0000e-05\n",
            "Epoch 4/50\n",
            "\u001b[1m380/380\u001b[0m \u001b[32m━━━━━━━━━━━━━━━━━━━━\u001b[0m\u001b[37m\u001b[0m \u001b[1m0s\u001b[0m 2s/step - accuracy: 0.9287 - loss: 0.2147\n",
            "Epoch 4: val_loss improved from 0.11544 to 0.08980, saving model to ../best_model/model.h5\n"
          ]
        },
        {
          "name": "stderr",
          "output_type": "stream",
          "text": [
            "WARNING:absl:You are saving your model as an HDF5 file via `model.save()` or `keras.saving.save_model(model)`. This file format is considered legacy. We recommend using instead the native Keras format, e.g. `model.save('my_model.keras')` or `keras.saving.save_model(model, 'my_model.keras')`. \n"
          ]
        },
        {
          "name": "stdout",
          "output_type": "stream",
          "text": [
            "\u001b[1m380/380\u001b[0m \u001b[32m━━━━━━━━━━━━━━━━━━━━\u001b[0m\u001b[37m\u001b[0m \u001b[1m759s\u001b[0m 2s/step - accuracy: 0.9287 - loss: 0.2147 - val_accuracy: 0.9693 - val_loss: 0.0898 - learning_rate: 1.0000e-05\n",
            "Epoch 5/50\n",
            "\u001b[1m380/380\u001b[0m \u001b[32m━━━━━━━━━━━━━━━━━━━━\u001b[0m\u001b[37m\u001b[0m \u001b[1m0s\u001b[0m 2s/step - accuracy: 0.9455 - loss: 0.1695\n",
            "Epoch 5: val_loss improved from 0.08980 to 0.07503, saving model to ../best_model/model.h5\n"
          ]
        },
        {
          "name": "stderr",
          "output_type": "stream",
          "text": [
            "WARNING:absl:You are saving your model as an HDF5 file via `model.save()` or `keras.saving.save_model(model)`. This file format is considered legacy. We recommend using instead the native Keras format, e.g. `model.save('my_model.keras')` or `keras.saving.save_model(model, 'my_model.keras')`. \n"
          ]
        },
        {
          "name": "stdout",
          "output_type": "stream",
          "text": [
            "\u001b[1m380/380\u001b[0m \u001b[32m━━━━━━━━━━━━━━━━━━━━\u001b[0m\u001b[37m\u001b[0m \u001b[1m758s\u001b[0m 2s/step - accuracy: 0.9455 - loss: 0.1695 - val_accuracy: 0.9752 - val_loss: 0.0750 - learning_rate: 1.0000e-05\n",
            "Epoch 6/50\n",
            "\u001b[1m380/380\u001b[0m \u001b[32m━━━━━━━━━━━━━━━━━━━━\u001b[0m\u001b[37m\u001b[0m \u001b[1m0s\u001b[0m 2s/step - accuracy: 0.9510 - loss: 0.1458\n",
            "Epoch 6: val_loss improved from 0.07503 to 0.06584, saving model to ../best_model/model.h5\n"
          ]
        },
        {
          "name": "stderr",
          "output_type": "stream",
          "text": [
            "WARNING:absl:You are saving your model as an HDF5 file via `model.save()` or `keras.saving.save_model(model)`. This file format is considered legacy. We recommend using instead the native Keras format, e.g. `model.save('my_model.keras')` or `keras.saving.save_model(model, 'my_model.keras')`. \n"
          ]
        },
        {
          "name": "stdout",
          "output_type": "stream",
          "text": [
            "\u001b[1m380/380\u001b[0m \u001b[32m━━━━━━━━━━━━━━━━━━━━\u001b[0m\u001b[37m\u001b[0m \u001b[1m759s\u001b[0m 2s/step - accuracy: 0.9510 - loss: 0.1458 - val_accuracy: 0.9785 - val_loss: 0.0658 - learning_rate: 1.0000e-05\n",
            "Epoch 7/50\n",
            "\u001b[1m380/380\u001b[0m \u001b[32m━━━━━━━━━━━━━━━━━━━━\u001b[0m\u001b[37m\u001b[0m \u001b[1m0s\u001b[0m 2s/step - accuracy: 0.9591 - loss: 0.1198\n",
            "Epoch 7: val_loss improved from 0.06584 to 0.05398, saving model to ../best_model/model.h5\n"
          ]
        },
        {
          "name": "stderr",
          "output_type": "stream",
          "text": [
            "WARNING:absl:You are saving your model as an HDF5 file via `model.save()` or `keras.saving.save_model(model)`. This file format is considered legacy. We recommend using instead the native Keras format, e.g. `model.save('my_model.keras')` or `keras.saving.save_model(model, 'my_model.keras')`. \n"
          ]
        },
        {
          "name": "stdout",
          "output_type": "stream",
          "text": [
            "\u001b[1m380/380\u001b[0m \u001b[32m━━━━━━━━━━━━━━━━━━━━\u001b[0m\u001b[37m\u001b[0m \u001b[1m758s\u001b[0m 2s/step - accuracy: 0.9591 - loss: 0.1198 - val_accuracy: 0.9819 - val_loss: 0.0540 - learning_rate: 1.0000e-05\n",
            "Epoch 8/50\n",
            "\u001b[1m380/380\u001b[0m \u001b[32m━━━━━━━━━━━━━━━━━━━━\u001b[0m\u001b[37m\u001b[0m \u001b[1m0s\u001b[0m 2s/step - accuracy: 0.9621 - loss: 0.1158\n",
            "Epoch 8: val_loss improved from 0.05398 to 0.04801, saving model to ../best_model/model.h5\n"
          ]
        },
        {
          "name": "stderr",
          "output_type": "stream",
          "text": [
            "WARNING:absl:You are saving your model as an HDF5 file via `model.save()` or `keras.saving.save_model(model)`. This file format is considered legacy. We recommend using instead the native Keras format, e.g. `model.save('my_model.keras')` or `keras.saving.save_model(model, 'my_model.keras')`. \n"
          ]
        },
        {
          "name": "stdout",
          "output_type": "stream",
          "text": [
            "\u001b[1m380/380\u001b[0m \u001b[32m━━━━━━━━━━━━━━━━━━━━\u001b[0m\u001b[37m\u001b[0m \u001b[1m758s\u001b[0m 2s/step - accuracy: 0.9621 - loss: 0.1157 - val_accuracy: 0.9833 - val_loss: 0.0480 - learning_rate: 1.0000e-05\n",
            "Epoch 9/50\n",
            "\u001b[1m380/380\u001b[0m \u001b[32m━━━━━━━━━━━━━━━━━━━━\u001b[0m\u001b[37m\u001b[0m \u001b[1m0s\u001b[0m 2s/step - accuracy: 0.9673 - loss: 0.0972\n",
            "Epoch 9: val_loss improved from 0.04801 to 0.04382, saving model to ../best_model/model.h5\n"
          ]
        },
        {
          "name": "stderr",
          "output_type": "stream",
          "text": [
            "WARNING:absl:You are saving your model as an HDF5 file via `model.save()` or `keras.saving.save_model(model)`. This file format is considered legacy. We recommend using instead the native Keras format, e.g. `model.save('my_model.keras')` or `keras.saving.save_model(model, 'my_model.keras')`. \n"
          ]
        },
        {
          "name": "stdout",
          "output_type": "stream",
          "text": [
            "\u001b[1m380/380\u001b[0m \u001b[32m━━━━━━━━━━━━━━━━━━━━\u001b[0m\u001b[37m\u001b[0m \u001b[1m758s\u001b[0m 2s/step - accuracy: 0.9673 - loss: 0.0972 - val_accuracy: 0.9844 - val_loss: 0.0438 - learning_rate: 1.0000e-05\n",
            "Epoch 10/50\n",
            "\u001b[1m380/380\u001b[0m \u001b[32m━━━━━━━━━━━━━━━━━━━━\u001b[0m\u001b[37m\u001b[0m \u001b[1m0s\u001b[0m 2s/step - accuracy: 0.9703 - loss: 0.0898\n",
            "Epoch 10: val_loss improved from 0.04382 to 0.03854, saving model to ../best_model/model.h5\n"
          ]
        },
        {
          "name": "stderr",
          "output_type": "stream",
          "text": [
            "WARNING:absl:You are saving your model as an HDF5 file via `model.save()` or `keras.saving.save_model(model)`. This file format is considered legacy. We recommend using instead the native Keras format, e.g. `model.save('my_model.keras')` or `keras.saving.save_model(model, 'my_model.keras')`. \n"
          ]
        },
        {
          "name": "stdout",
          "output_type": "stream",
          "text": [
            "\u001b[1m380/380\u001b[0m \u001b[32m━━━━━━━━━━━━━━━━━━━━\u001b[0m\u001b[37m\u001b[0m \u001b[1m759s\u001b[0m 2s/step - accuracy: 0.9703 - loss: 0.0897 - val_accuracy: 0.9881 - val_loss: 0.0385 - learning_rate: 1.0000e-05\n",
            "Epoch 11/50\n",
            "\u001b[1m380/380\u001b[0m \u001b[32m━━━━━━━━━━━━━━━━━━━━\u001b[0m\u001b[37m\u001b[0m \u001b[1m0s\u001b[0m 2s/step - accuracy: 0.9763 - loss: 0.0717\n",
            "Epoch 11: val_loss improved from 0.03854 to 0.03395, saving model to ../best_model/model.h5\n"
          ]
        },
        {
          "name": "stderr",
          "output_type": "stream",
          "text": [
            "WARNING:absl:You are saving your model as an HDF5 file via `model.save()` or `keras.saving.save_model(model)`. This file format is considered legacy. We recommend using instead the native Keras format, e.g. `model.save('my_model.keras')` or `keras.saving.save_model(model, 'my_model.keras')`. \n"
          ]
        },
        {
          "name": "stdout",
          "output_type": "stream",
          "text": [
            "\u001b[1m380/380\u001b[0m \u001b[32m━━━━━━━━━━━━━━━━━━━━\u001b[0m\u001b[37m\u001b[0m \u001b[1m757s\u001b[0m 2s/step - accuracy: 0.9763 - loss: 0.0717 - val_accuracy: 0.9889 - val_loss: 0.0339 - learning_rate: 1.0000e-05\n",
            "Epoch 12/50\n",
            "\u001b[1m380/380\u001b[0m \u001b[32m━━━━━━━━━━━━━━━━━━━━\u001b[0m\u001b[37m\u001b[0m \u001b[1m0s\u001b[0m 2s/step - accuracy: 0.9791 - loss: 0.0618\n",
            "Epoch 12: val_loss improved from 0.03395 to 0.03153, saving model to ../best_model/model.h5\n"
          ]
        },
        {
          "name": "stderr",
          "output_type": "stream",
          "text": [
            "WARNING:absl:You are saving your model as an HDF5 file via `model.save()` or `keras.saving.save_model(model)`. This file format is considered legacy. We recommend using instead the native Keras format, e.g. `model.save('my_model.keras')` or `keras.saving.save_model(model, 'my_model.keras')`. \n"
          ]
        },
        {
          "name": "stdout",
          "output_type": "stream",
          "text": [
            "\u001b[1m380/380\u001b[0m \u001b[32m━━━━━━━━━━━━━━━━━━━━\u001b[0m\u001b[37m\u001b[0m \u001b[1m757s\u001b[0m 2s/step - accuracy: 0.9791 - loss: 0.0618 - val_accuracy: 0.9896 - val_loss: 0.0315 - learning_rate: 1.0000e-05\n",
            "Epoch 13/50\n",
            "\u001b[1m380/380\u001b[0m \u001b[32m━━━━━━━━━━━━━━━━━━━━\u001b[0m\u001b[37m\u001b[0m \u001b[1m0s\u001b[0m 2s/step - accuracy: 0.9803 - loss: 0.0581\n",
            "Epoch 13: val_loss improved from 0.03153 to 0.02667, saving model to ../best_model/model.h5\n"
          ]
        },
        {
          "name": "stderr",
          "output_type": "stream",
          "text": [
            "WARNING:absl:You are saving your model as an HDF5 file via `model.save()` or `keras.saving.save_model(model)`. This file format is considered legacy. We recommend using instead the native Keras format, e.g. `model.save('my_model.keras')` or `keras.saving.save_model(model, 'my_model.keras')`. \n"
          ]
        },
        {
          "name": "stdout",
          "output_type": "stream",
          "text": [
            "\u001b[1m380/380\u001b[0m \u001b[32m━━━━━━━━━━━━━━━━━━━━\u001b[0m\u001b[37m\u001b[0m \u001b[1m757s\u001b[0m 2s/step - accuracy: 0.9803 - loss: 0.0581 - val_accuracy: 0.9911 - val_loss: 0.0267 - learning_rate: 1.0000e-05\n",
            "Epoch 14/50\n",
            "\u001b[1m380/380\u001b[0m \u001b[32m━━━━━━━━━━━━━━━━━━━━\u001b[0m\u001b[37m\u001b[0m \u001b[1m0s\u001b[0m 2s/step - accuracy: 0.9801 - loss: 0.0572\n",
            "Epoch 14: val_loss improved from 0.02667 to 0.02500, saving model to ../best_model/model.h5\n"
          ]
        },
        {
          "name": "stderr",
          "output_type": "stream",
          "text": [
            "WARNING:absl:You are saving your model as an HDF5 file via `model.save()` or `keras.saving.save_model(model)`. This file format is considered legacy. We recommend using instead the native Keras format, e.g. `model.save('my_model.keras')` or `keras.saving.save_model(model, 'my_model.keras')`. \n"
          ]
        },
        {
          "name": "stdout",
          "output_type": "stream",
          "text": [
            "\u001b[1m380/380\u001b[0m \u001b[32m━━━━━━━━━━━━━━━━━━━━\u001b[0m\u001b[37m\u001b[0m \u001b[1m758s\u001b[0m 2s/step - accuracy: 0.9801 - loss: 0.0572 - val_accuracy: 0.9926 - val_loss: 0.0250 - learning_rate: 1.0000e-05\n",
            "Epoch 15/50\n",
            "\u001b[1m380/380\u001b[0m \u001b[32m━━━━━━━━━━━━━━━━━━━━\u001b[0m\u001b[37m\u001b[0m \u001b[1m0s\u001b[0m 2s/step - accuracy: 0.9834 - loss: 0.0493\n",
            "Epoch 15: val_loss improved from 0.02500 to 0.02340, saving model to ../best_model/model.h5\n"
          ]
        },
        {
          "name": "stderr",
          "output_type": "stream",
          "text": [
            "WARNING:absl:You are saving your model as an HDF5 file via `model.save()` or `keras.saving.save_model(model)`. This file format is considered legacy. We recommend using instead the native Keras format, e.g. `model.save('my_model.keras')` or `keras.saving.save_model(model, 'my_model.keras')`. \n"
          ]
        },
        {
          "name": "stdout",
          "output_type": "stream",
          "text": [
            "\u001b[1m380/380\u001b[0m \u001b[32m━━━━━━━━━━━━━━━━━━━━\u001b[0m\u001b[37m\u001b[0m \u001b[1m756s\u001b[0m 2s/step - accuracy: 0.9834 - loss: 0.0493 - val_accuracy: 0.9919 - val_loss: 0.0234 - learning_rate: 1.0000e-05\n",
            "Epoch 16/50\n",
            "\u001b[1m380/380\u001b[0m \u001b[32m━━━━━━━━━━━━━━━━━━━━\u001b[0m\u001b[37m\u001b[0m \u001b[1m0s\u001b[0m 2s/step - accuracy: 0.9837 - loss: 0.0488\n",
            "Epoch 16: val_loss improved from 0.02340 to 0.02090, saving model to ../best_model/model.h5\n"
          ]
        },
        {
          "name": "stderr",
          "output_type": "stream",
          "text": [
            "WARNING:absl:You are saving your model as an HDF5 file via `model.save()` or `keras.saving.save_model(model)`. This file format is considered legacy. We recommend using instead the native Keras format, e.g. `model.save('my_model.keras')` or `keras.saving.save_model(model, 'my_model.keras')`. \n"
          ]
        },
        {
          "name": "stdout",
          "output_type": "stream",
          "text": [
            "\u001b[1m380/380\u001b[0m \u001b[32m━━━━━━━━━━━━━━━━━━━━\u001b[0m\u001b[37m\u001b[0m \u001b[1m755s\u001b[0m 2s/step - accuracy: 0.9837 - loss: 0.0488 - val_accuracy: 0.9926 - val_loss: 0.0209 - learning_rate: 1.0000e-05\n",
            "Epoch 17/50\n",
            "\u001b[1m380/380\u001b[0m \u001b[32m━━━━━━━━━━━━━━━━━━━━\u001b[0m\u001b[37m\u001b[0m \u001b[1m0s\u001b[0m 2s/step - accuracy: 0.9859 - loss: 0.0415\n",
            "Epoch 17: val_loss did not improve from 0.02090\n",
            "\u001b[1m380/380\u001b[0m \u001b[32m━━━━━━━━━━━━━━━━━━━━\u001b[0m\u001b[37m\u001b[0m \u001b[1m757s\u001b[0m 2s/step - accuracy: 0.9859 - loss: 0.0415 - val_accuracy: 0.9926 - val_loss: 0.0219 - learning_rate: 1.0000e-05\n",
            "Epoch 18/50\n",
            "\u001b[1m380/380\u001b[0m \u001b[32m━━━━━━━━━━━━━━━━━━━━\u001b[0m\u001b[37m\u001b[0m \u001b[1m0s\u001b[0m 2s/step - accuracy: 0.9855 - loss: 0.0436\n",
            "Epoch 18: val_loss improved from 0.02090 to 0.01842, saving model to ../best_model/model.h5\n"
          ]
        },
        {
          "name": "stderr",
          "output_type": "stream",
          "text": [
            "WARNING:absl:You are saving your model as an HDF5 file via `model.save()` or `keras.saving.save_model(model)`. This file format is considered legacy. We recommend using instead the native Keras format, e.g. `model.save('my_model.keras')` or `keras.saving.save_model(model, 'my_model.keras')`. \n"
          ]
        },
        {
          "name": "stdout",
          "output_type": "stream",
          "text": [
            "\u001b[1m380/380\u001b[0m \u001b[32m━━━━━━━━━━━━━━━━━━━━\u001b[0m\u001b[37m\u001b[0m \u001b[1m761s\u001b[0m 2s/step - accuracy: 0.9855 - loss: 0.0436 - val_accuracy: 0.9933 - val_loss: 0.0184 - learning_rate: 1.0000e-05\n",
            "Epoch 19/50\n",
            "\u001b[1m380/380\u001b[0m \u001b[32m━━━━━━━━━━━━━━━━━━━━\u001b[0m\u001b[37m\u001b[0m \u001b[1m0s\u001b[0m 2s/step - accuracy: 0.9872 - loss: 0.0377\n",
            "Epoch 19: val_loss did not improve from 0.01842\n",
            "\u001b[1m380/380\u001b[0m \u001b[32m━━━━━━━━━━━━━━━━━━━━\u001b[0m\u001b[37m\u001b[0m \u001b[1m758s\u001b[0m 2s/step - accuracy: 0.9872 - loss: 0.0377 - val_accuracy: 0.9922 - val_loss: 0.0198 - learning_rate: 1.0000e-05\n",
            "Epoch 20/50\n",
            "\u001b[1m380/380\u001b[0m \u001b[32m━━━━━━━━━━━━━━━━━━━━\u001b[0m\u001b[37m\u001b[0m \u001b[1m0s\u001b[0m 2s/step - accuracy: 0.9885 - loss: 0.0328\n",
            "Epoch 20: val_loss improved from 0.01842 to 0.01656, saving model to ../best_model/model.h5\n"
          ]
        },
        {
          "name": "stderr",
          "output_type": "stream",
          "text": [
            "WARNING:absl:You are saving your model as an HDF5 file via `model.save()` or `keras.saving.save_model(model)`. This file format is considered legacy. We recommend using instead the native Keras format, e.g. `model.save('my_model.keras')` or `keras.saving.save_model(model, 'my_model.keras')`. \n"
          ]
        },
        {
          "name": "stdout",
          "output_type": "stream",
          "text": [
            "\u001b[1m380/380\u001b[0m \u001b[32m━━━━━━━━━━━━━━━━━━━━\u001b[0m\u001b[37m\u001b[0m \u001b[1m761s\u001b[0m 2s/step - accuracy: 0.9885 - loss: 0.0328 - val_accuracy: 0.9941 - val_loss: 0.0166 - learning_rate: 1.0000e-05\n",
            "Epoch 21/50\n",
            "\u001b[1m380/380\u001b[0m \u001b[32m━━━━━━━━━━━━━━━━━━━━\u001b[0m\u001b[37m\u001b[0m \u001b[1m0s\u001b[0m 2s/step - accuracy: 0.9901 - loss: 0.0309\n",
            "Epoch 21: val_loss improved from 0.01656 to 0.01507, saving model to ../best_model/model.h5\n"
          ]
        },
        {
          "name": "stderr",
          "output_type": "stream",
          "text": [
            "WARNING:absl:You are saving your model as an HDF5 file via `model.save()` or `keras.saving.save_model(model)`. This file format is considered legacy. We recommend using instead the native Keras format, e.g. `model.save('my_model.keras')` or `keras.saving.save_model(model, 'my_model.keras')`. \n"
          ]
        },
        {
          "name": "stdout",
          "output_type": "stream",
          "text": [
            "\u001b[1m380/380\u001b[0m \u001b[32m━━━━━━━━━━━━━━━━━━━━\u001b[0m\u001b[37m\u001b[0m \u001b[1m762s\u001b[0m 2s/step - accuracy: 0.9901 - loss: 0.0309 - val_accuracy: 0.9948 - val_loss: 0.0151 - learning_rate: 1.0000e-05\n",
            "Epoch 22/50\n",
            "\u001b[1m380/380\u001b[0m \u001b[32m━━━━━━━━━━━━━━━━━━━━\u001b[0m\u001b[37m\u001b[0m \u001b[1m0s\u001b[0m 2s/step - accuracy: 0.9905 - loss: 0.0324\n",
            "Epoch 22: val_loss improved from 0.01507 to 0.01437, saving model to ../best_model/model.h5\n"
          ]
        },
        {
          "name": "stderr",
          "output_type": "stream",
          "text": [
            "WARNING:absl:You are saving your model as an HDF5 file via `model.save()` or `keras.saving.save_model(model)`. This file format is considered legacy. We recommend using instead the native Keras format, e.g. `model.save('my_model.keras')` or `keras.saving.save_model(model, 'my_model.keras')`. \n"
          ]
        },
        {
          "name": "stdout",
          "output_type": "stream",
          "text": [
            "\u001b[1m380/380\u001b[0m \u001b[32m━━━━━━━━━━━━━━━━━━━━\u001b[0m\u001b[37m\u001b[0m \u001b[1m759s\u001b[0m 2s/step - accuracy: 0.9905 - loss: 0.0324 - val_accuracy: 0.9948 - val_loss: 0.0144 - learning_rate: 1.0000e-05\n",
            "Epoch 23/50\n",
            "\u001b[1m  5/380\u001b[0m \u001b[37m━━━━━━━━━━━━━━━━━━━━\u001b[0m \u001b[1m12:16\u001b[0m 2s/step - accuracy: 0.9935 - loss: 0.0238"
          ]
        },
        {
          "ename": "KeyboardInterrupt",
          "evalue": "",
          "output_type": "error",
          "traceback": [
            "\u001b[1;31m---------------------------------------------------------------------------\u001b[0m",
            "\u001b[1;31mKeyboardInterrupt\u001b[0m                         Traceback (most recent call last)",
            "Cell \u001b[1;32mIn[8], line 1\u001b[0m\n\u001b[1;32m----> 1\u001b[0m history_mobile_finetuned \u001b[38;5;241m=\u001b[39m \u001b[43mmodel_mobile\u001b[49m\u001b[38;5;241;43m.\u001b[39;49m\u001b[43mfit\u001b[49m\u001b[43m(\u001b[49m\u001b[43mtrain_gen\u001b[49m\u001b[43m,\u001b[49m\u001b[43m \u001b[49m\u001b[43mvalidation_data\u001b[49m\u001b[38;5;241;43m=\u001b[39;49m\u001b[43mval_gen\u001b[49m\u001b[43m,\u001b[49m\u001b[43m \u001b[49m\u001b[43mepochs\u001b[49m\u001b[38;5;241;43m=\u001b[39;49m\u001b[38;5;241;43m50\u001b[39;49m\u001b[43m,\u001b[49m\u001b[43m \u001b[49m\u001b[43mcallbacks\u001b[49m\u001b[38;5;241;43m=\u001b[39;49m\u001b[43mcallbacks_model\u001b[49m\u001b[43m)\u001b[49m\n",
            "File \u001b[1;32md:\\Capstone\\Capstone Model\\.venv\\lib\\site-packages\\keras\\src\\utils\\traceback_utils.py:117\u001b[0m, in \u001b[0;36mfilter_traceback.<locals>.error_handler\u001b[1;34m(*args, **kwargs)\u001b[0m\n\u001b[0;32m    115\u001b[0m filtered_tb \u001b[38;5;241m=\u001b[39m \u001b[38;5;28;01mNone\u001b[39;00m\n\u001b[0;32m    116\u001b[0m \u001b[38;5;28;01mtry\u001b[39;00m:\n\u001b[1;32m--> 117\u001b[0m     \u001b[38;5;28;01mreturn\u001b[39;00m fn(\u001b[38;5;241m*\u001b[39margs, \u001b[38;5;241m*\u001b[39m\u001b[38;5;241m*\u001b[39mkwargs)\n\u001b[0;32m    118\u001b[0m \u001b[38;5;28;01mexcept\u001b[39;00m \u001b[38;5;167;01mException\u001b[39;00m \u001b[38;5;28;01mas\u001b[39;00m e:\n\u001b[0;32m    119\u001b[0m     filtered_tb \u001b[38;5;241m=\u001b[39m _process_traceback_frames(e\u001b[38;5;241m.\u001b[39m__traceback__)\n",
            "File \u001b[1;32md:\\Capstone\\Capstone Model\\.venv\\lib\\site-packages\\keras\\src\\backend\\tensorflow\\trainer.py:371\u001b[0m, in \u001b[0;36mTensorFlowTrainer.fit\u001b[1;34m(self, x, y, batch_size, epochs, verbose, callbacks, validation_split, validation_data, shuffle, class_weight, sample_weight, initial_epoch, steps_per_epoch, validation_steps, validation_batch_size, validation_freq)\u001b[0m\n\u001b[0;32m    369\u001b[0m \u001b[38;5;28;01mfor\u001b[39;00m step, iterator \u001b[38;5;129;01min\u001b[39;00m epoch_iterator:\n\u001b[0;32m    370\u001b[0m     callbacks\u001b[38;5;241m.\u001b[39mon_train_batch_begin(step)\n\u001b[1;32m--> 371\u001b[0m     logs \u001b[38;5;241m=\u001b[39m \u001b[38;5;28;43mself\u001b[39;49m\u001b[38;5;241;43m.\u001b[39;49m\u001b[43mtrain_function\u001b[49m\u001b[43m(\u001b[49m\u001b[43miterator\u001b[49m\u001b[43m)\u001b[49m\n\u001b[0;32m    372\u001b[0m     callbacks\u001b[38;5;241m.\u001b[39mon_train_batch_end(step, logs)\n\u001b[0;32m    373\u001b[0m     \u001b[38;5;28;01mif\u001b[39;00m \u001b[38;5;28mself\u001b[39m\u001b[38;5;241m.\u001b[39mstop_training:\n",
            "File \u001b[1;32md:\\Capstone\\Capstone Model\\.venv\\lib\\site-packages\\keras\\src\\backend\\tensorflow\\trainer.py:219\u001b[0m, in \u001b[0;36mTensorFlowTrainer._make_function.<locals>.function\u001b[1;34m(iterator)\u001b[0m\n\u001b[0;32m    215\u001b[0m \u001b[38;5;28;01mdef\u001b[39;00m\u001b[38;5;250m \u001b[39m\u001b[38;5;21mfunction\u001b[39m(iterator):\n\u001b[0;32m    216\u001b[0m     \u001b[38;5;28;01mif\u001b[39;00m \u001b[38;5;28misinstance\u001b[39m(\n\u001b[0;32m    217\u001b[0m         iterator, (tf\u001b[38;5;241m.\u001b[39mdata\u001b[38;5;241m.\u001b[39mIterator, tf\u001b[38;5;241m.\u001b[39mdistribute\u001b[38;5;241m.\u001b[39mDistributedIterator)\n\u001b[0;32m    218\u001b[0m     ):\n\u001b[1;32m--> 219\u001b[0m         opt_outputs \u001b[38;5;241m=\u001b[39m \u001b[43mmulti_step_on_iterator\u001b[49m\u001b[43m(\u001b[49m\u001b[43miterator\u001b[49m\u001b[43m)\u001b[49m\n\u001b[0;32m    220\u001b[0m         \u001b[38;5;28;01mif\u001b[39;00m \u001b[38;5;129;01mnot\u001b[39;00m opt_outputs\u001b[38;5;241m.\u001b[39mhas_value():\n\u001b[0;32m    221\u001b[0m             \u001b[38;5;28;01mraise\u001b[39;00m \u001b[38;5;167;01mStopIteration\u001b[39;00m\n",
            "File \u001b[1;32md:\\Capstone\\Capstone Model\\.venv\\lib\\site-packages\\tensorflow\\python\\util\\traceback_utils.py:150\u001b[0m, in \u001b[0;36mfilter_traceback.<locals>.error_handler\u001b[1;34m(*args, **kwargs)\u001b[0m\n\u001b[0;32m    148\u001b[0m filtered_tb \u001b[38;5;241m=\u001b[39m \u001b[38;5;28;01mNone\u001b[39;00m\n\u001b[0;32m    149\u001b[0m \u001b[38;5;28;01mtry\u001b[39;00m:\n\u001b[1;32m--> 150\u001b[0m   \u001b[38;5;28;01mreturn\u001b[39;00m fn(\u001b[38;5;241m*\u001b[39margs, \u001b[38;5;241m*\u001b[39m\u001b[38;5;241m*\u001b[39mkwargs)\n\u001b[0;32m    151\u001b[0m \u001b[38;5;28;01mexcept\u001b[39;00m \u001b[38;5;167;01mException\u001b[39;00m \u001b[38;5;28;01mas\u001b[39;00m e:\n\u001b[0;32m    152\u001b[0m   filtered_tb \u001b[38;5;241m=\u001b[39m _process_traceback_frames(e\u001b[38;5;241m.\u001b[39m__traceback__)\n",
            "File \u001b[1;32md:\\Capstone\\Capstone Model\\.venv\\lib\\site-packages\\tensorflow\\python\\eager\\polymorphic_function\\polymorphic_function.py:833\u001b[0m, in \u001b[0;36mFunction.__call__\u001b[1;34m(self, *args, **kwds)\u001b[0m\n\u001b[0;32m    830\u001b[0m compiler \u001b[38;5;241m=\u001b[39m \u001b[38;5;124m\"\u001b[39m\u001b[38;5;124mxla\u001b[39m\u001b[38;5;124m\"\u001b[39m \u001b[38;5;28;01mif\u001b[39;00m \u001b[38;5;28mself\u001b[39m\u001b[38;5;241m.\u001b[39m_jit_compile \u001b[38;5;28;01melse\u001b[39;00m \u001b[38;5;124m\"\u001b[39m\u001b[38;5;124mnonXla\u001b[39m\u001b[38;5;124m\"\u001b[39m\n\u001b[0;32m    832\u001b[0m \u001b[38;5;28;01mwith\u001b[39;00m OptionalXlaContext(\u001b[38;5;28mself\u001b[39m\u001b[38;5;241m.\u001b[39m_jit_compile):\n\u001b[1;32m--> 833\u001b[0m   result \u001b[38;5;241m=\u001b[39m \u001b[38;5;28mself\u001b[39m\u001b[38;5;241m.\u001b[39m_call(\u001b[38;5;241m*\u001b[39margs, \u001b[38;5;241m*\u001b[39m\u001b[38;5;241m*\u001b[39mkwds)\n\u001b[0;32m    835\u001b[0m new_tracing_count \u001b[38;5;241m=\u001b[39m \u001b[38;5;28mself\u001b[39m\u001b[38;5;241m.\u001b[39mexperimental_get_tracing_count()\n\u001b[0;32m    836\u001b[0m without_tracing \u001b[38;5;241m=\u001b[39m (tracing_count \u001b[38;5;241m==\u001b[39m new_tracing_count)\n",
            "File \u001b[1;32md:\\Capstone\\Capstone Model\\.venv\\lib\\site-packages\\tensorflow\\python\\eager\\polymorphic_function\\polymorphic_function.py:878\u001b[0m, in \u001b[0;36mFunction._call\u001b[1;34m(self, *args, **kwds)\u001b[0m\n\u001b[0;32m    875\u001b[0m \u001b[38;5;28mself\u001b[39m\u001b[38;5;241m.\u001b[39m_lock\u001b[38;5;241m.\u001b[39mrelease()\n\u001b[0;32m    876\u001b[0m \u001b[38;5;66;03m# In this case we have not created variables on the first call. So we can\u001b[39;00m\n\u001b[0;32m    877\u001b[0m \u001b[38;5;66;03m# run the first trace but we should fail if variables are created.\u001b[39;00m\n\u001b[1;32m--> 878\u001b[0m results \u001b[38;5;241m=\u001b[39m \u001b[43mtracing_compilation\u001b[49m\u001b[38;5;241;43m.\u001b[39;49m\u001b[43mcall_function\u001b[49m\u001b[43m(\u001b[49m\n\u001b[0;32m    879\u001b[0m \u001b[43m    \u001b[49m\u001b[43margs\u001b[49m\u001b[43m,\u001b[49m\u001b[43m \u001b[49m\u001b[43mkwds\u001b[49m\u001b[43m,\u001b[49m\u001b[43m \u001b[49m\u001b[38;5;28;43mself\u001b[39;49m\u001b[38;5;241;43m.\u001b[39;49m\u001b[43m_variable_creation_config\u001b[49m\n\u001b[0;32m    880\u001b[0m \u001b[43m\u001b[49m\u001b[43m)\u001b[49m\n\u001b[0;32m    881\u001b[0m \u001b[38;5;28;01mif\u001b[39;00m \u001b[38;5;28mself\u001b[39m\u001b[38;5;241m.\u001b[39m_created_variables:\n\u001b[0;32m    882\u001b[0m   \u001b[38;5;28;01mraise\u001b[39;00m \u001b[38;5;167;01mValueError\u001b[39;00m(\u001b[38;5;124m\"\u001b[39m\u001b[38;5;124mCreating variables on a non-first call to a function\u001b[39m\u001b[38;5;124m\"\u001b[39m\n\u001b[0;32m    883\u001b[0m                    \u001b[38;5;124m\"\u001b[39m\u001b[38;5;124m decorated with tf.function.\u001b[39m\u001b[38;5;124m\"\u001b[39m)\n",
            "File \u001b[1;32md:\\Capstone\\Capstone Model\\.venv\\lib\\site-packages\\tensorflow\\python\\eager\\polymorphic_function\\tracing_compilation.py:139\u001b[0m, in \u001b[0;36mcall_function\u001b[1;34m(args, kwargs, tracing_options)\u001b[0m\n\u001b[0;32m    137\u001b[0m bound_args \u001b[38;5;241m=\u001b[39m function\u001b[38;5;241m.\u001b[39mfunction_type\u001b[38;5;241m.\u001b[39mbind(\u001b[38;5;241m*\u001b[39margs, \u001b[38;5;241m*\u001b[39m\u001b[38;5;241m*\u001b[39mkwargs)\n\u001b[0;32m    138\u001b[0m flat_inputs \u001b[38;5;241m=\u001b[39m function\u001b[38;5;241m.\u001b[39mfunction_type\u001b[38;5;241m.\u001b[39munpack_inputs(bound_args)\n\u001b[1;32m--> 139\u001b[0m \u001b[38;5;28;01mreturn\u001b[39;00m \u001b[43mfunction\u001b[49m\u001b[38;5;241;43m.\u001b[39;49m\u001b[43m_call_flat\u001b[49m\u001b[43m(\u001b[49m\u001b[43m  \u001b[49m\u001b[38;5;66;43;03m# pylint: disable=protected-access\u001b[39;49;00m\n\u001b[0;32m    140\u001b[0m \u001b[43m    \u001b[49m\u001b[43mflat_inputs\u001b[49m\u001b[43m,\u001b[49m\u001b[43m \u001b[49m\u001b[43mcaptured_inputs\u001b[49m\u001b[38;5;241;43m=\u001b[39;49m\u001b[43mfunction\u001b[49m\u001b[38;5;241;43m.\u001b[39;49m\u001b[43mcaptured_inputs\u001b[49m\n\u001b[0;32m    141\u001b[0m \u001b[43m\u001b[49m\u001b[43m)\u001b[49m\n",
            "File \u001b[1;32md:\\Capstone\\Capstone Model\\.venv\\lib\\site-packages\\tensorflow\\python\\eager\\polymorphic_function\\concrete_function.py:1322\u001b[0m, in \u001b[0;36mConcreteFunction._call_flat\u001b[1;34m(self, tensor_inputs, captured_inputs)\u001b[0m\n\u001b[0;32m   1318\u001b[0m possible_gradient_type \u001b[38;5;241m=\u001b[39m gradients_util\u001b[38;5;241m.\u001b[39mPossibleTapeGradientTypes(args)\n\u001b[0;32m   1319\u001b[0m \u001b[38;5;28;01mif\u001b[39;00m (possible_gradient_type \u001b[38;5;241m==\u001b[39m gradients_util\u001b[38;5;241m.\u001b[39mPOSSIBLE_GRADIENT_TYPES_NONE\n\u001b[0;32m   1320\u001b[0m     \u001b[38;5;129;01mand\u001b[39;00m executing_eagerly):\n\u001b[0;32m   1321\u001b[0m   \u001b[38;5;66;03m# No tape is watching; skip to running the function.\u001b[39;00m\n\u001b[1;32m-> 1322\u001b[0m   \u001b[38;5;28;01mreturn\u001b[39;00m \u001b[38;5;28;43mself\u001b[39;49m\u001b[38;5;241;43m.\u001b[39;49m\u001b[43m_inference_function\u001b[49m\u001b[38;5;241;43m.\u001b[39;49m\u001b[43mcall_preflattened\u001b[49m\u001b[43m(\u001b[49m\u001b[43margs\u001b[49m\u001b[43m)\u001b[49m\n\u001b[0;32m   1323\u001b[0m forward_backward \u001b[38;5;241m=\u001b[39m \u001b[38;5;28mself\u001b[39m\u001b[38;5;241m.\u001b[39m_select_forward_and_backward_functions(\n\u001b[0;32m   1324\u001b[0m     args,\n\u001b[0;32m   1325\u001b[0m     possible_gradient_type,\n\u001b[0;32m   1326\u001b[0m     executing_eagerly)\n\u001b[0;32m   1327\u001b[0m forward_function, args_with_tangents \u001b[38;5;241m=\u001b[39m forward_backward\u001b[38;5;241m.\u001b[39mforward()\n",
            "File \u001b[1;32md:\\Capstone\\Capstone Model\\.venv\\lib\\site-packages\\tensorflow\\python\\eager\\polymorphic_function\\atomic_function.py:216\u001b[0m, in \u001b[0;36mAtomicFunction.call_preflattened\u001b[1;34m(self, args)\u001b[0m\n\u001b[0;32m    214\u001b[0m \u001b[38;5;28;01mdef\u001b[39;00m\u001b[38;5;250m \u001b[39m\u001b[38;5;21mcall_preflattened\u001b[39m(\u001b[38;5;28mself\u001b[39m, args: Sequence[core\u001b[38;5;241m.\u001b[39mTensor]) \u001b[38;5;241m-\u001b[39m\u001b[38;5;241m>\u001b[39m Any:\n\u001b[0;32m    215\u001b[0m \u001b[38;5;250m  \u001b[39m\u001b[38;5;124;03m\"\"\"Calls with flattened tensor inputs and returns the structured output.\"\"\"\u001b[39;00m\n\u001b[1;32m--> 216\u001b[0m   flat_outputs \u001b[38;5;241m=\u001b[39m \u001b[38;5;28;43mself\u001b[39;49m\u001b[38;5;241;43m.\u001b[39;49m\u001b[43mcall_flat\u001b[49m\u001b[43m(\u001b[49m\u001b[38;5;241;43m*\u001b[39;49m\u001b[43margs\u001b[49m\u001b[43m)\u001b[49m\n\u001b[0;32m    217\u001b[0m   \u001b[38;5;28;01mreturn\u001b[39;00m \u001b[38;5;28mself\u001b[39m\u001b[38;5;241m.\u001b[39mfunction_type\u001b[38;5;241m.\u001b[39mpack_output(flat_outputs)\n",
            "File \u001b[1;32md:\\Capstone\\Capstone Model\\.venv\\lib\\site-packages\\tensorflow\\python\\eager\\polymorphic_function\\atomic_function.py:251\u001b[0m, in \u001b[0;36mAtomicFunction.call_flat\u001b[1;34m(self, *args)\u001b[0m\n\u001b[0;32m    249\u001b[0m \u001b[38;5;28;01mwith\u001b[39;00m record\u001b[38;5;241m.\u001b[39mstop_recording():\n\u001b[0;32m    250\u001b[0m   \u001b[38;5;28;01mif\u001b[39;00m \u001b[38;5;28mself\u001b[39m\u001b[38;5;241m.\u001b[39m_bound_context\u001b[38;5;241m.\u001b[39mexecuting_eagerly():\n\u001b[1;32m--> 251\u001b[0m     outputs \u001b[38;5;241m=\u001b[39m \u001b[38;5;28;43mself\u001b[39;49m\u001b[38;5;241;43m.\u001b[39;49m\u001b[43m_bound_context\u001b[49m\u001b[38;5;241;43m.\u001b[39;49m\u001b[43mcall_function\u001b[49m\u001b[43m(\u001b[49m\n\u001b[0;32m    252\u001b[0m \u001b[43m        \u001b[49m\u001b[38;5;28;43mself\u001b[39;49m\u001b[38;5;241;43m.\u001b[39;49m\u001b[43mname\u001b[49m\u001b[43m,\u001b[49m\n\u001b[0;32m    253\u001b[0m \u001b[43m        \u001b[49m\u001b[38;5;28;43mlist\u001b[39;49m\u001b[43m(\u001b[49m\u001b[43margs\u001b[49m\u001b[43m)\u001b[49m\u001b[43m,\u001b[49m\n\u001b[0;32m    254\u001b[0m \u001b[43m        \u001b[49m\u001b[38;5;28;43mlen\u001b[39;49m\u001b[43m(\u001b[49m\u001b[38;5;28;43mself\u001b[39;49m\u001b[38;5;241;43m.\u001b[39;49m\u001b[43mfunction_type\u001b[49m\u001b[38;5;241;43m.\u001b[39;49m\u001b[43mflat_outputs\u001b[49m\u001b[43m)\u001b[49m\u001b[43m,\u001b[49m\n\u001b[0;32m    255\u001b[0m \u001b[43m    \u001b[49m\u001b[43m)\u001b[49m\n\u001b[0;32m    256\u001b[0m   \u001b[38;5;28;01melse\u001b[39;00m:\n\u001b[0;32m    257\u001b[0m     outputs \u001b[38;5;241m=\u001b[39m make_call_op_in_graph(\n\u001b[0;32m    258\u001b[0m         \u001b[38;5;28mself\u001b[39m,\n\u001b[0;32m    259\u001b[0m         \u001b[38;5;28mlist\u001b[39m(args),\n\u001b[0;32m    260\u001b[0m         \u001b[38;5;28mself\u001b[39m\u001b[38;5;241m.\u001b[39m_bound_context\u001b[38;5;241m.\u001b[39mfunction_call_options\u001b[38;5;241m.\u001b[39mas_attrs(),\n\u001b[0;32m    261\u001b[0m     )\n",
            "File \u001b[1;32md:\\Capstone\\Capstone Model\\.venv\\lib\\site-packages\\tensorflow\\python\\eager\\context.py:1688\u001b[0m, in \u001b[0;36mContext.call_function\u001b[1;34m(self, name, tensor_inputs, num_outputs)\u001b[0m\n\u001b[0;32m   1686\u001b[0m cancellation_context \u001b[38;5;241m=\u001b[39m cancellation\u001b[38;5;241m.\u001b[39mcontext()\n\u001b[0;32m   1687\u001b[0m \u001b[38;5;28;01mif\u001b[39;00m cancellation_context \u001b[38;5;129;01mis\u001b[39;00m \u001b[38;5;28;01mNone\u001b[39;00m:\n\u001b[1;32m-> 1688\u001b[0m   outputs \u001b[38;5;241m=\u001b[39m \u001b[43mexecute\u001b[49m\u001b[38;5;241;43m.\u001b[39;49m\u001b[43mexecute\u001b[49m\u001b[43m(\u001b[49m\n\u001b[0;32m   1689\u001b[0m \u001b[43m      \u001b[49m\u001b[43mname\u001b[49m\u001b[38;5;241;43m.\u001b[39;49m\u001b[43mdecode\u001b[49m\u001b[43m(\u001b[49m\u001b[38;5;124;43m\"\u001b[39;49m\u001b[38;5;124;43mutf-8\u001b[39;49m\u001b[38;5;124;43m\"\u001b[39;49m\u001b[43m)\u001b[49m\u001b[43m,\u001b[49m\n\u001b[0;32m   1690\u001b[0m \u001b[43m      \u001b[49m\u001b[43mnum_outputs\u001b[49m\u001b[38;5;241;43m=\u001b[39;49m\u001b[43mnum_outputs\u001b[49m\u001b[43m,\u001b[49m\n\u001b[0;32m   1691\u001b[0m \u001b[43m      \u001b[49m\u001b[43minputs\u001b[49m\u001b[38;5;241;43m=\u001b[39;49m\u001b[43mtensor_inputs\u001b[49m\u001b[43m,\u001b[49m\n\u001b[0;32m   1692\u001b[0m \u001b[43m      \u001b[49m\u001b[43mattrs\u001b[49m\u001b[38;5;241;43m=\u001b[39;49m\u001b[43mattrs\u001b[49m\u001b[43m,\u001b[49m\n\u001b[0;32m   1693\u001b[0m \u001b[43m      \u001b[49m\u001b[43mctx\u001b[49m\u001b[38;5;241;43m=\u001b[39;49m\u001b[38;5;28;43mself\u001b[39;49m\u001b[43m,\u001b[49m\n\u001b[0;32m   1694\u001b[0m \u001b[43m  \u001b[49m\u001b[43m)\u001b[49m\n\u001b[0;32m   1695\u001b[0m \u001b[38;5;28;01melse\u001b[39;00m:\n\u001b[0;32m   1696\u001b[0m   outputs \u001b[38;5;241m=\u001b[39m execute\u001b[38;5;241m.\u001b[39mexecute_with_cancellation(\n\u001b[0;32m   1697\u001b[0m       name\u001b[38;5;241m.\u001b[39mdecode(\u001b[38;5;124m\"\u001b[39m\u001b[38;5;124mutf-8\u001b[39m\u001b[38;5;124m\"\u001b[39m),\n\u001b[0;32m   1698\u001b[0m       num_outputs\u001b[38;5;241m=\u001b[39mnum_outputs,\n\u001b[1;32m   (...)\u001b[0m\n\u001b[0;32m   1702\u001b[0m       cancellation_manager\u001b[38;5;241m=\u001b[39mcancellation_context,\n\u001b[0;32m   1703\u001b[0m   )\n",
            "File \u001b[1;32md:\\Capstone\\Capstone Model\\.venv\\lib\\site-packages\\tensorflow\\python\\eager\\execute.py:53\u001b[0m, in \u001b[0;36mquick_execute\u001b[1;34m(op_name, num_outputs, inputs, attrs, ctx, name)\u001b[0m\n\u001b[0;32m     51\u001b[0m \u001b[38;5;28;01mtry\u001b[39;00m:\n\u001b[0;32m     52\u001b[0m   ctx\u001b[38;5;241m.\u001b[39mensure_initialized()\n\u001b[1;32m---> 53\u001b[0m   tensors \u001b[38;5;241m=\u001b[39m \u001b[43mpywrap_tfe\u001b[49m\u001b[38;5;241;43m.\u001b[39;49m\u001b[43mTFE_Py_Execute\u001b[49m\u001b[43m(\u001b[49m\u001b[43mctx\u001b[49m\u001b[38;5;241;43m.\u001b[39;49m\u001b[43m_handle\u001b[49m\u001b[43m,\u001b[49m\u001b[43m \u001b[49m\u001b[43mdevice_name\u001b[49m\u001b[43m,\u001b[49m\u001b[43m \u001b[49m\u001b[43mop_name\u001b[49m\u001b[43m,\u001b[49m\n\u001b[0;32m     54\u001b[0m \u001b[43m                                      \u001b[49m\u001b[43minputs\u001b[49m\u001b[43m,\u001b[49m\u001b[43m \u001b[49m\u001b[43mattrs\u001b[49m\u001b[43m,\u001b[49m\u001b[43m \u001b[49m\u001b[43mnum_outputs\u001b[49m\u001b[43m)\u001b[49m\n\u001b[0;32m     55\u001b[0m \u001b[38;5;28;01mexcept\u001b[39;00m core\u001b[38;5;241m.\u001b[39m_NotOkStatusException \u001b[38;5;28;01mas\u001b[39;00m e:\n\u001b[0;32m     56\u001b[0m   \u001b[38;5;28;01mif\u001b[39;00m name \u001b[38;5;129;01mis\u001b[39;00m \u001b[38;5;129;01mnot\u001b[39;00m \u001b[38;5;28;01mNone\u001b[39;00m:\n",
            "\u001b[1;31mKeyboardInterrupt\u001b[0m: "
          ]
        }
      ],
      "source": [
        "history_mobile_finetuned = model_mobile.fit(train_gen, validation_data=val_gen, epochs=50, callbacks=callbacks_model)"
      ]
    },
    {
      "cell_type": "markdown",
      "metadata": {},
      "source": [
        "- Visualization about Accuracy and Val Accuracy"
      ]
    },
    {
      "cell_type": "code",
      "execution_count": 14,
      "metadata": {},
      "outputs": [
        {
          "data": {
            "image/png": "[encoded data removed]",
            "text/plain": [
              "<Figure size 640x480 with 1 Axes>"
            ]
          },
          "metadata": {},
          "output_type": "display_data"
        },
        {
          "data": {
            "image/png": "[encoded data removed]",
            "text/plain": [
              "<Figure size 640x480 with 1 Axes>"
            ]
          },
          "metadata": {},
          "output_type": "display_data"
        }
      ],
      "source": [
        "plt.plot(history_mobile.history['accuracy'], label = 'Training Accuracy')\n",
        "plt.plot(history_mobile.history['val_accuracy'], label='Validation Accuracy')\n",
        "plt.title('Training and Validation Accuracy')\n",
        "plt.xlabel('Epoch')\n",
        "plt.ylabel('Accuracy')\n",
        "plt.legend()\n",
        "plt.show()\n",
        "\n",
        "plt.plot(history_mobile.history['loss'], label='Training Loss')\n",
        "plt.plot(history_mobile.history['val_loss'], label='Validation Loss')\n",
        "plt.title('Training and Validation Loss')\n",
        "plt.xlabel('Epoch')\n",
        "plt.ylabel('Loss')\n",
        "plt.legend()\n",
        "plt.show()"
      ]
    },
    {
      "cell_type": "code",
      "execution_count": 15,
      "metadata": {},
      "outputs": [
        {
          "name": "stdout",
          "output_type": "stream",
          "text": [
            "\u001b[1m43/43\u001b[0m \u001b[32m━━━━━━━━━━━━━━━━━━━━\u001b[0m\u001b[37m\u001b[0m \u001b[1m43s\u001b[0m 957ms/step\n"
          ]
        },
        {
          "data": {
            "image/png": "[encoded data removed]",
            "text/plain": [
              "<Figure size 640x480 with 2 Axes>"
            ]
          },
          "metadata": {},
          "output_type": "display_data"
        }
      ],
      "source": [
        "nb_samples= val_gen.samples\n",
        "y_pred_net = model_mobile.predict(val_gen, steps=int(np.ceil(nb_samples/val_gen.batch_size)))\n",
        "y_pred_classes = np.argmax(y_pred_net, axis=1)\n",
        "y_true = val_gen.classes\n",
        "cm = confusion_matrix(y_true, y_pred_classes)\n",
        "class_names = list(val_gen.class_indices.keys())\n",
        "disp = ConfusionMatrixDisplay(confusion_matrix=cm, display_labels=class_names)\n",
        "disp.plot(cmap=plt.cm.Blues)\n",
        "plt.title(\"Confusion Matrix\")\n",
        "plt.show()"
      ]
    },
    {
      "cell_type": "markdown",
      "metadata": {},
      "source": [
        "# Export Model"
      ]
    },
    {
      "cell_type": "markdown",
      "metadata": {},
      "source": [
        "- Export Model to Save Model"
      ]
    },
    {
      "cell_type": "code",
      "execution_count": 16,
      "metadata": {},
      "outputs": [
        {
          "name": "stdout",
          "output_type": "stream",
          "text": [
            "INFO:tensorflow:Assets written to: ../save_model/assets\n"
          ]
        },
        {
          "name": "stderr",
          "output_type": "stream",
          "text": [
            "INFO:tensorflow:Assets written to: ../save_model/assets\n"
          ]
        },
        {
          "name": "stdout",
          "output_type": "stream",
          "text": [
            "Saved artifact at '../save_model/'. The following endpoints are available:\n",
            "\n",
            "* Endpoint 'serve'\n",
            "  args_0 (POSITIONAL_ONLY): TensorSpec(shape=(None, 224, 224, 3), dtype=tf.float32, name='keras_tensor_475')\n",
            "Output Type:\n",
            "  TensorSpec(shape=(None, 27), dtype=tf.float32, name=None)\n",
            "Captures:\n",
            "  2196344503488: TensorSpec(shape=(), dtype=tf.resource, name=None)\n",
            "  2196345744096: TensorSpec(shape=(), dtype=tf.resource, name=None)\n",
            "  2196345741456: TensorSpec(shape=(), dtype=tf.resource, name=None)\n",
            "  2196345740752: TensorSpec(shape=(), dtype=tf.resource, name=None)\n",
            "  2196345745152: TensorSpec(shape=(), dtype=tf.resource, name=None)\n",
            "  2196345749024: TensorSpec(shape=(), dtype=tf.resource, name=None)\n",
            "  2196345734944: TensorSpec(shape=(), dtype=tf.resource, name=None)\n",
            "  2196345736352: TensorSpec(shape=(), dtype=tf.resource, name=None)\n",
            "  2196345743568: TensorSpec(shape=(), dtype=tf.resource, name=None)\n",
            "  2196345733536: TensorSpec(shape=(), dtype=tf.resource, name=None)\n",
            "  2196345735120: TensorSpec(shape=(), dtype=tf.resource, name=None)\n",
            "  2196345302432: TensorSpec(shape=(), dtype=tf.resource, name=None)\n",
            "  2196345301904: TensorSpec(shape=(), dtype=tf.resource, name=None)\n",
            "  2196345295568: TensorSpec(shape=(), dtype=tf.resource, name=None)\n",
            "  2196345295920: TensorSpec(shape=(), dtype=tf.resource, name=None)\n",
            "  2196345748672: TensorSpec(shape=(), dtype=tf.resource, name=None)\n",
            "  2196345296800: TensorSpec(shape=(), dtype=tf.resource, name=None)\n",
            "  2196345291696: TensorSpec(shape=(), dtype=tf.resource, name=None)\n",
            "  2196345292928: TensorSpec(shape=(), dtype=tf.resource, name=None)\n",
            "  2196345306480: TensorSpec(shape=(), dtype=tf.resource, name=None)\n",
            "  2196105735232: TensorSpec(shape=(), dtype=tf.resource, name=None)\n",
            "  2196345649840: TensorSpec(shape=(), dtype=tf.resource, name=None)\n",
            "  2196345644736: TensorSpec(shape=(), dtype=tf.resource, name=None)\n",
            "  2196345650368: TensorSpec(shape=(), dtype=tf.resource, name=None)\n",
            "  2196345644560: TensorSpec(shape=(), dtype=tf.resource, name=None)\n",
            "  2196105734880: TensorSpec(shape=(), dtype=tf.resource, name=None)\n",
            "  2196345637168: TensorSpec(shape=(), dtype=tf.resource, name=None)\n",
            "  2196345636816: TensorSpec(shape=(), dtype=tf.resource, name=None)\n",
            "  2196345647376: TensorSpec(shape=(), dtype=tf.resource, name=None)\n",
            "  2196345635056: TensorSpec(shape=(), dtype=tf.resource, name=None)\n",
            "  2196345639104: TensorSpec(shape=(), dtype=tf.resource, name=None)\n",
            "  2196344842976: TensorSpec(shape=(), dtype=tf.resource, name=None)\n",
            "  2196344843856: TensorSpec(shape=(), dtype=tf.resource, name=None)\n",
            "  2196345639280: TensorSpec(shape=(), dtype=tf.resource, name=None)\n",
            "  2196344837344: TensorSpec(shape=(), dtype=tf.resource, name=None)\n",
            "  2196344834176: TensorSpec(shape=(), dtype=tf.resource, name=None)\n",
            "  2196344832416: TensorSpec(shape=(), dtype=tf.resource, name=None)\n",
            "  2196344832064: TensorSpec(shape=(), dtype=tf.resource, name=None)\n",
            "  2196344835760: TensorSpec(shape=(), dtype=tf.resource, name=None)\n",
            "  2196394279856: TensorSpec(shape=(), dtype=tf.resource, name=None)\n",
            "  2196344834528: TensorSpec(shape=(), dtype=tf.resource, name=None)\n",
            "  2196394285664: TensorSpec(shape=(), dtype=tf.resource, name=None)\n",
            "  2196394288304: TensorSpec(shape=(), dtype=tf.resource, name=None)\n",
            "  2196394284256: TensorSpec(shape=(), dtype=tf.resource, name=None)\n",
            "  2196394286192: TensorSpec(shape=(), dtype=tf.resource, name=None)\n",
            "  2196344838048: TensorSpec(shape=(), dtype=tf.resource, name=None)\n",
            "  2196394290768: TensorSpec(shape=(), dtype=tf.resource, name=None)\n",
            "  2196394290064: TensorSpec(shape=(), dtype=tf.resource, name=None)\n",
            "  2196394291472: TensorSpec(shape=(), dtype=tf.resource, name=None)\n",
            "  2196394294464: TensorSpec(shape=(), dtype=tf.resource, name=None)\n",
            "  2196394293408: TensorSpec(shape=(), dtype=tf.resource, name=None)\n",
            "  2196394334816: TensorSpec(shape=(), dtype=tf.resource, name=None)\n",
            "  2196394337632: TensorSpec(shape=(), dtype=tf.resource, name=None)\n",
            "  2196394333408: TensorSpec(shape=(), dtype=tf.resource, name=None)\n",
            "  2196394335872: TensorSpec(shape=(), dtype=tf.resource, name=None)\n",
            "  2196394343440: TensorSpec(shape=(), dtype=tf.resource, name=None)\n",
            "  2196394339920: TensorSpec(shape=(), dtype=tf.resource, name=None)\n",
            "  2196394339216: TensorSpec(shape=(), dtype=tf.resource, name=None)\n",
            "  2196394340624: TensorSpec(shape=(), dtype=tf.resource, name=None)\n",
            "  2196394343616: TensorSpec(shape=(), dtype=tf.resource, name=None)\n",
            "  2196394333760: TensorSpec(shape=(), dtype=tf.resource, name=None)\n",
            "  2196394381504: TensorSpec(shape=(), dtype=tf.resource, name=None)\n",
            "  2196394384144: TensorSpec(shape=(), dtype=tf.resource, name=None)\n",
            "  2196394380096: TensorSpec(shape=(), dtype=tf.resource, name=None)\n",
            "  2196394382032: TensorSpec(shape=(), dtype=tf.resource, name=None)\n",
            "  2196394390480: TensorSpec(shape=(), dtype=tf.resource, name=None)\n",
            "  2196394388720: TensorSpec(shape=(), dtype=tf.resource, name=None)\n",
            "  2196394391536: TensorSpec(shape=(), dtype=tf.resource, name=None)\n",
            "  2196394380448: TensorSpec(shape=(), dtype=tf.resource, name=None)\n",
            "  2196394389776: TensorSpec(shape=(), dtype=tf.resource, name=None)\n",
            "  2196394386432: TensorSpec(shape=(), dtype=tf.resource, name=None)\n",
            "  2196394445808: TensorSpec(shape=(), dtype=tf.resource, name=None)\n",
            "  2196394448272: TensorSpec(shape=(), dtype=tf.resource, name=None)\n",
            "  2196394443696: TensorSpec(shape=(), dtype=tf.resource, name=None)\n",
            "  2196394447216: TensorSpec(shape=(), dtype=tf.resource, name=None)\n",
            "  2196394387664: TensorSpec(shape=(), dtype=tf.resource, name=None)\n",
            "  2196394453200: TensorSpec(shape=(), dtype=tf.resource, name=None)\n",
            "  2196394455840: TensorSpec(shape=(), dtype=tf.resource, name=None)\n",
            "  2196394451792: TensorSpec(shape=(), dtype=tf.resource, name=None)\n",
            "  2196394453728: TensorSpec(shape=(), dtype=tf.resource, name=None)\n",
            "  2196394458304: TensorSpec(shape=(), dtype=tf.resource, name=None)\n",
            "  2196394510992: TensorSpec(shape=(), dtype=tf.resource, name=None)\n",
            "  2196394508704: TensorSpec(shape=(), dtype=tf.resource, name=None)\n",
            "  2196394512048: TensorSpec(shape=(), dtype=tf.resource, name=None)\n",
            "  2196394511344: TensorSpec(shape=(), dtype=tf.resource, name=None)\n",
            "  2196394458128: TensorSpec(shape=(), dtype=tf.resource, name=None)\n",
            "  2196394516624: TensorSpec(shape=(), dtype=tf.resource, name=None)\n",
            "  2196394519264: TensorSpec(shape=(), dtype=tf.resource, name=None)\n",
            "  2196394515216: TensorSpec(shape=(), dtype=tf.resource, name=None)\n",
            "  2196394517152: TensorSpec(shape=(), dtype=tf.resource, name=None)\n",
            "  2196394522080: TensorSpec(shape=(), dtype=tf.resource, name=None)\n",
            "  2196394558032: TensorSpec(shape=(), dtype=tf.resource, name=None)\n",
            "  2196394521904: TensorSpec(shape=(), dtype=tf.resource, name=None)\n",
            "  2196394523136: TensorSpec(shape=(), dtype=tf.resource, name=None)\n",
            "  2196394557504: TensorSpec(shape=(), dtype=tf.resource, name=None)\n",
            "  2196394523664: TensorSpec(shape=(), dtype=tf.resource, name=None)\n",
            "  2196394565776: TensorSpec(shape=(), dtype=tf.resource, name=None)\n",
            "  2196394568592: TensorSpec(shape=(), dtype=tf.resource, name=None)\n",
            "  2196394564368: TensorSpec(shape=(), dtype=tf.resource, name=None)\n",
            "  2196394566832: TensorSpec(shape=(), dtype=tf.resource, name=None)\n",
            "  2196394571232: TensorSpec(shape=(), dtype=tf.resource, name=None)\n",
            "  2196394590800: TensorSpec(shape=(), dtype=tf.resource, name=None)\n",
            "  2196394571056: TensorSpec(shape=(), dtype=tf.resource, name=None)\n",
            "  2196394572288: TensorSpec(shape=(), dtype=tf.resource, name=None)\n",
            "  2196394590272: TensorSpec(shape=(), dtype=tf.resource, name=None)\n",
            "  2196394564720: TensorSpec(shape=(), dtype=tf.resource, name=None)\n",
            "  2196394596080: TensorSpec(shape=(), dtype=tf.resource, name=None)\n",
            "  2196394598720: TensorSpec(shape=(), dtype=tf.resource, name=None)\n",
            "  2196394594672: TensorSpec(shape=(), dtype=tf.resource, name=None)\n",
            "  2196394596608: TensorSpec(shape=(), dtype=tf.resource, name=None)\n",
            "  2196394605056: TensorSpec(shape=(), dtype=tf.resource, name=None)\n",
            "  2196394603296: TensorSpec(shape=(), dtype=tf.resource, name=None)\n",
            "  2196394606112: TensorSpec(shape=(), dtype=tf.resource, name=None)\n",
            "  2196394595024: TensorSpec(shape=(), dtype=tf.resource, name=None)\n",
            "  2196394604352: TensorSpec(shape=(), dtype=tf.resource, name=None)\n",
            "  2196394601008: TensorSpec(shape=(), dtype=tf.resource, name=None)\n",
            "  2196394660208: TensorSpec(shape=(), dtype=tf.resource, name=None)\n",
            "  2196394662848: TensorSpec(shape=(), dtype=tf.resource, name=None)\n",
            "  2196394658800: TensorSpec(shape=(), dtype=tf.resource, name=None)\n",
            "  2196394660736: TensorSpec(shape=(), dtype=tf.resource, name=None)\n",
            "  2196394602240: TensorSpec(shape=(), dtype=tf.resource, name=None)\n",
            "  2196394667776: TensorSpec(shape=(), dtype=tf.resource, name=None)\n",
            "  2196394670416: TensorSpec(shape=(), dtype=tf.resource, name=None)\n",
            "  2196394666368: TensorSpec(shape=(), dtype=tf.resource, name=None)\n",
            "  2196394668304: TensorSpec(shape=(), dtype=tf.resource, name=None)\n",
            "  2196394666720: TensorSpec(shape=(), dtype=tf.resource, name=None)\n",
            "  2196394708128: TensorSpec(shape=(), dtype=tf.resource, name=None)\n",
            "  2196394710240: TensorSpec(shape=(), dtype=tf.resource, name=None)\n",
            "  2196394706016: TensorSpec(shape=(), dtype=tf.resource, name=None)\n",
            "  2196394709536: TensorSpec(shape=(), dtype=tf.resource, name=None)\n",
            "  2196394716576: TensorSpec(shape=(), dtype=tf.resource, name=None)\n",
            "  2196394715520: TensorSpec(shape=(), dtype=tf.resource, name=None)\n",
            "  2196394718160: TensorSpec(shape=(), dtype=tf.resource, name=None)\n",
            "  2196394705664: TensorSpec(shape=(), dtype=tf.resource, name=None)\n",
            "  2196394716048: TensorSpec(shape=(), dtype=tf.resource, name=None)\n",
            "  2196394720976: TensorSpec(shape=(), dtype=tf.resource, name=None)\n",
            "  2196394788640: TensorSpec(shape=(), dtype=tf.resource, name=None)\n",
            "  2196394790752: TensorSpec(shape=(), dtype=tf.resource, name=None)\n",
            "  2196394786880: TensorSpec(shape=(), dtype=tf.resource, name=None)\n",
            "  2196394790400: TensorSpec(shape=(), dtype=tf.resource, name=None)\n",
            "  2196394797792: TensorSpec(shape=(), dtype=tf.resource, name=None)\n",
            "  2196394796032: TensorSpec(shape=(), dtype=tf.resource, name=None)\n",
            "  2196394798848: TensorSpec(shape=(), dtype=tf.resource, name=None)\n",
            "  2196394787056: TensorSpec(shape=(), dtype=tf.resource, name=None)\n",
            "  2196394797088: TensorSpec(shape=(), dtype=tf.resource, name=None)\n",
            "  2196394801488: TensorSpec(shape=(), dtype=tf.resource, name=None)\n",
            "  2196394803616: TensorSpec(shape=(), dtype=tf.resource, name=None)\n",
            "  2196394803264: TensorSpec(shape=(), dtype=tf.resource, name=None)\n",
            "  2196394800784: TensorSpec(shape=(), dtype=tf.resource, name=None)\n",
            "  2196394805376: TensorSpec(shape=(), dtype=tf.resource, name=None)\n",
            "  2196394794976: TensorSpec(shape=(), dtype=tf.resource, name=None)\n",
            "  2196394811360: TensorSpec(shape=(), dtype=tf.resource, name=None)\n",
            "  2196394814000: TensorSpec(shape=(), dtype=tf.resource, name=None)\n",
            "  2196394809952: TensorSpec(shape=(), dtype=tf.resource, name=None)\n",
            "  2196394811888: TensorSpec(shape=(), dtype=tf.resource, name=None)\n",
            "  2196394816464: TensorSpec(shape=(), dtype=tf.resource, name=None)\n",
            "  2196394815584: TensorSpec(shape=(), dtype=tf.resource, name=None)\n",
            "  2196394815232: TensorSpec(shape=(), dtype=tf.resource, name=None)\n",
            "  2196394817520: TensorSpec(shape=(), dtype=tf.resource, name=None)\n",
            "  2196394869680: TensorSpec(shape=(), dtype=tf.resource, name=None)\n",
            "  2196394816288: TensorSpec(shape=(), dtype=tf.resource, name=None)\n",
            "  2196394875488: TensorSpec(shape=(), dtype=tf.resource, name=None)\n",
            "  2196394878128: TensorSpec(shape=(), dtype=tf.resource, name=None)\n",
            "  2196394874080: TensorSpec(shape=(), dtype=tf.resource, name=None)\n",
            "  2196394876016: TensorSpec(shape=(), dtype=tf.resource, name=None)\n",
            "  2196394818576: TensorSpec(shape=(), dtype=tf.resource, name=None)\n",
            "  2196394881648: TensorSpec(shape=(), dtype=tf.resource, name=None)\n",
            "  2196394884288: TensorSpec(shape=(), dtype=tf.resource, name=None)\n",
            "  2196394880240: TensorSpec(shape=(), dtype=tf.resource, name=None)\n",
            "  2196394882176: TensorSpec(shape=(), dtype=tf.resource, name=None)\n",
            "  2196394880592: TensorSpec(shape=(), dtype=tf.resource, name=None)\n",
            "  2196394954592: TensorSpec(shape=(), dtype=tf.resource, name=None)\n",
            "  2196394957408: TensorSpec(shape=(), dtype=tf.resource, name=None)\n",
            "  2196394953184: TensorSpec(shape=(), dtype=tf.resource, name=None)\n",
            "  2196394955648: TensorSpec(shape=(), dtype=tf.resource, name=None)\n",
            "  2196394963216: TensorSpec(shape=(), dtype=tf.resource, name=None)\n",
            "  2196394962160: TensorSpec(shape=(), dtype=tf.resource, name=None)\n",
            "  2196394964800: TensorSpec(shape=(), dtype=tf.resource, name=None)\n",
            "  2196394952304: TensorSpec(shape=(), dtype=tf.resource, name=None)\n",
            "  2196394962688: TensorSpec(shape=(), dtype=tf.resource, name=None)\n",
            "  2196394953536: TensorSpec(shape=(), dtype=tf.resource, name=None)\n",
            "  2196394986480: TensorSpec(shape=(), dtype=tf.resource, name=None)\n",
            "  2196394988944: TensorSpec(shape=(), dtype=tf.resource, name=None)\n",
            "  2196394984368: TensorSpec(shape=(), dtype=tf.resource, name=None)\n",
            "  2196394987888: TensorSpec(shape=(), dtype=tf.resource, name=None)\n",
            "  2196394995280: TensorSpec(shape=(), dtype=tf.resource, name=None)\n",
            "  2196394993520: TensorSpec(shape=(), dtype=tf.resource, name=None)\n",
            "  2196394996336: TensorSpec(shape=(), dtype=tf.resource, name=None)\n",
            "  2196394984544: TensorSpec(shape=(), dtype=tf.resource, name=None)\n",
            "  2196394994576: TensorSpec(shape=(), dtype=tf.resource, name=None)\n",
            "  2196394998976: TensorSpec(shape=(), dtype=tf.resource, name=None)\n",
            "  2196395066640: TensorSpec(shape=(), dtype=tf.resource, name=None)\n",
            "  2196395066288: TensorSpec(shape=(), dtype=tf.resource, name=None)\n",
            "  2196395068928: TensorSpec(shape=(), dtype=tf.resource, name=None)\n",
            "  2196395068400: TensorSpec(shape=(), dtype=tf.resource, name=None)\n",
            "  2196394992464: TensorSpec(shape=(), dtype=tf.resource, name=None)\n",
            "  2196395074384: TensorSpec(shape=(), dtype=tf.resource, name=None)\n",
            "  2196395077024: TensorSpec(shape=(), dtype=tf.resource, name=None)\n",
            "  2196395072976: TensorSpec(shape=(), dtype=tf.resource, name=None)\n",
            "  2196395074912: TensorSpec(shape=(), dtype=tf.resource, name=None)\n",
            "  2196395080896: TensorSpec(shape=(), dtype=tf.resource, name=None)\n",
            "  2196395133584: TensorSpec(shape=(), dtype=tf.resource, name=None)\n",
            "  2196395131296: TensorSpec(shape=(), dtype=tf.resource, name=None)\n",
            "  2196395134640: TensorSpec(shape=(), dtype=tf.resource, name=None)\n",
            "  2196395133936: TensorSpec(shape=(), dtype=tf.resource, name=None)\n",
            "  2196395080720: TensorSpec(shape=(), dtype=tf.resource, name=None)\n",
            "  2196395139920: TensorSpec(shape=(), dtype=tf.resource, name=None)\n",
            "  2196395142560: TensorSpec(shape=(), dtype=tf.resource, name=None)\n",
            "  2196395138512: TensorSpec(shape=(), dtype=tf.resource, name=None)\n",
            "  2196395140448: TensorSpec(shape=(), dtype=tf.resource, name=None)\n",
            "  2196395143968: TensorSpec(shape=(), dtype=tf.resource, name=None)\n",
            "  2196395143616: TensorSpec(shape=(), dtype=tf.resource, name=None)\n",
            "  2196395141152: TensorSpec(shape=(), dtype=tf.resource, name=None)\n",
            "  2196395145024: TensorSpec(shape=(), dtype=tf.resource, name=None)\n",
            "  2196395164592: TensorSpec(shape=(), dtype=tf.resource, name=None)\n",
            "  2196395146080: TensorSpec(shape=(), dtype=tf.resource, name=None)\n",
            "  2196395169872: TensorSpec(shape=(), dtype=tf.resource, name=None)\n",
            "  2196395172688: TensorSpec(shape=(), dtype=tf.resource, name=None)\n",
            "  2196395168464: TensorSpec(shape=(), dtype=tf.resource, name=None)\n",
            "  2196395170928: TensorSpec(shape=(), dtype=tf.resource, name=None)\n",
            "  2196395178496: TensorSpec(shape=(), dtype=tf.resource, name=None)\n",
            "  2196395177440: TensorSpec(shape=(), dtype=tf.resource, name=None)\n",
            "  2196395174272: TensorSpec(shape=(), dtype=tf.resource, name=None)\n",
            "  2196395167584: TensorSpec(shape=(), dtype=tf.resource, name=None)\n",
            "  2196395177968: TensorSpec(shape=(), dtype=tf.resource, name=None)\n",
            "  2196395168816: TensorSpec(shape=(), dtype=tf.resource, name=None)\n",
            "  2196347049008: TensorSpec(shape=(), dtype=tf.resource, name=None)\n",
            "  2196347051648: TensorSpec(shape=(), dtype=tf.resource, name=None)\n",
            "  2196347047600: TensorSpec(shape=(), dtype=tf.resource, name=None)\n",
            "  2196347049536: TensorSpec(shape=(), dtype=tf.resource, name=None)\n",
            "  2196347057984: TensorSpec(shape=(), dtype=tf.resource, name=None)\n",
            "  2196347056224: TensorSpec(shape=(), dtype=tf.resource, name=None)\n",
            "  2196347059040: TensorSpec(shape=(), dtype=tf.resource, name=None)\n",
            "  2196347047952: TensorSpec(shape=(), dtype=tf.resource, name=None)\n",
            "  2196347057280: TensorSpec(shape=(), dtype=tf.resource, name=None)\n",
            "  2196347053936: TensorSpec(shape=(), dtype=tf.resource, name=None)\n",
            "  2196347129520: TensorSpec(shape=(), dtype=tf.resource, name=None)\n",
            "  2196347132160: TensorSpec(shape=(), dtype=tf.resource, name=None)\n",
            "  2196347128112: TensorSpec(shape=(), dtype=tf.resource, name=None)\n",
            "  2196347130048: TensorSpec(shape=(), dtype=tf.resource, name=None)\n",
            "  2196347055168: TensorSpec(shape=(), dtype=tf.resource, name=None)\n",
            "  2196347137088: TensorSpec(shape=(), dtype=tf.resource, name=None)\n",
            "  2196347139728: TensorSpec(shape=(), dtype=tf.resource, name=None)\n",
            "  2196347135680: TensorSpec(shape=(), dtype=tf.resource, name=None)\n",
            "  2196347137616: TensorSpec(shape=(), dtype=tf.resource, name=None)\n",
            "  2196347136032: TensorSpec(shape=(), dtype=tf.resource, name=None)\n",
            "  2196347178496: TensorSpec(shape=(), dtype=tf.resource, name=None)\n",
            "  2196347179552: TensorSpec(shape=(), dtype=tf.resource, name=None)\n",
            "  2196347175328: TensorSpec(shape=(), dtype=tf.resource, name=None)\n",
            "  2196347178848: TensorSpec(shape=(), dtype=tf.resource, name=None)\n",
            "  2196347185888: TensorSpec(shape=(), dtype=tf.resource, name=None)\n",
            "  2196347184832: TensorSpec(shape=(), dtype=tf.resource, name=None)\n",
            "  2196347187472: TensorSpec(shape=(), dtype=tf.resource, name=None)\n",
            "  2196347174976: TensorSpec(shape=(), dtype=tf.resource, name=None)\n",
            "  2196347185360: TensorSpec(shape=(), dtype=tf.resource, name=None)\n",
            "  2196347189056: TensorSpec(shape=(), dtype=tf.resource, name=None)\n",
            "  2196347274160: TensorSpec(shape=(), dtype=tf.resource, name=None)\n",
            "  2196347273456: TensorSpec(shape=(), dtype=tf.resource, name=None)\n",
            "  2196347190112: TensorSpec(shape=(), dtype=tf.resource, name=None)\n",
            "  2196347273280: TensorSpec(shape=(), dtype=tf.resource, name=None)\n",
            "  2196347286832: TensorSpec(shape=(), dtype=tf.resource, name=None)\n",
            "  2196347285072: TensorSpec(shape=(), dtype=tf.resource, name=None)\n",
            "  2196347287536: TensorSpec(shape=(), dtype=tf.resource, name=None)\n",
            "  2196347288944: TensorSpec(shape=(), dtype=tf.resource, name=None)\n",
            "  2196347286656: TensorSpec(shape=(), dtype=tf.resource, name=None)\n",
            "  2196347491376: TensorSpec(shape=(), dtype=tf.resource, name=None)\n",
            "  2196347491552: TensorSpec(shape=(), dtype=tf.resource, name=None)\n",
            "  2196347488208: TensorSpec(shape=(), dtype=tf.resource, name=None)\n"
          ]
        }
      ],
      "source": [
        "# model.export('../save_model/')\n",
        "model_mobile.export('../save_model/')"
      ]
    },
    {
      "cell_type": "markdown",
      "metadata": {},
      "source": [
        "- Export to tensorflowlite"
      ]
    },
    {
      "cell_type": "code",
      "execution_count": null,
      "metadata": {},
      "outputs": [
        {
          "name": "stderr",
          "output_type": "stream",
          "text": [
            "WARNING:absl:Compiled the loaded model, but the compiled metrics have yet to be built. `model.compile_metrics` will be empty until you train or evaluate the model.\n"
          ]
        },
        {
          "name": "stdout",
          "output_type": "stream",
          "text": [
            "INFO:tensorflow:Assets written to: C:\\Users\\acer\\AppData\\Local\\Temp\\tmpf575iwrr\\assets\n"
          ]
        },
        {
          "name": "stderr",
          "output_type": "stream",
          "text": [
            "INFO:tensorflow:Assets written to: C:\\Users\\acer\\AppData\\Local\\Temp\\tmpf575iwrr\\assets\n"
          ]
        },
        {
          "name": "stdout",
          "output_type": "stream",
          "text": [
            "Saved artifact at 'C:\\Users\\acer\\AppData\\Local\\Temp\\tmpf575iwrr'. The following endpoints are available:\n",
            "\n",
            "* Endpoint 'serve'\n",
            "  args_0 (POSITIONAL_ONLY): TensorSpec(shape=(None, 224, 224, 3), dtype=tf.float32, name='input_layer_5')\n",
            "Output Type:\n",
            "  TensorSpec(shape=(None, 27), dtype=tf.float32, name=None)\n",
            "Captures:\n",
            "  1977114795120: TensorSpec(shape=(), dtype=tf.resource, name=None)\n",
            "  1977114266080: TensorSpec(shape=(), dtype=tf.resource, name=None)\n",
            "  1977114268192: TensorSpec(shape=(), dtype=tf.resource, name=None)\n",
            "  1977114801984: TensorSpec(shape=(), dtype=tf.resource, name=None)\n",
            "  1977114263792: TensorSpec(shape=(), dtype=tf.resource, name=None)\n",
            "  1977114268016: TensorSpec(shape=(), dtype=tf.resource, name=None)\n",
            "  1977114271360: TensorSpec(shape=(), dtype=tf.resource, name=None)\n",
            "  1977114273472: TensorSpec(shape=(), dtype=tf.resource, name=None)\n",
            "  1977114269776: TensorSpec(shape=(), dtype=tf.resource, name=None)\n",
            "  1977114271184: TensorSpec(shape=(), dtype=tf.resource, name=None)\n",
            "  1977114270832: TensorSpec(shape=(), dtype=tf.resource, name=None)\n",
            "  1977114275936: TensorSpec(shape=(), dtype=tf.resource, name=None)\n",
            "  1977114277344: TensorSpec(shape=(), dtype=tf.resource, name=None)\n",
            "  1977114273824: TensorSpec(shape=(), dtype=tf.resource, name=None)\n",
            "  1977114275056: TensorSpec(shape=(), dtype=tf.resource, name=None)\n",
            "  1977114274880: TensorSpec(shape=(), dtype=tf.resource, name=None)\n",
            "  1977114276640: TensorSpec(shape=(), dtype=tf.resource, name=None)\n",
            "  1977114268368: TensorSpec(shape=(), dtype=tf.resource, name=None)\n",
            "  1977114278224: TensorSpec(shape=(), dtype=tf.resource, name=None)\n",
            "  1977114494048: TensorSpec(shape=(), dtype=tf.resource, name=None)\n",
            "  1977114267488: TensorSpec(shape=(), dtype=tf.resource, name=None)\n",
            "  1977114495632: TensorSpec(shape=(), dtype=tf.resource, name=None)\n",
            "  1977114498272: TensorSpec(shape=(), dtype=tf.resource, name=None)\n",
            "  1977114494752: TensorSpec(shape=(), dtype=tf.resource, name=None)\n",
            "  1977114496688: TensorSpec(shape=(), dtype=tf.resource, name=None)\n",
            "  1977114498448: TensorSpec(shape=(), dtype=tf.resource, name=None)\n",
            "  1977114500912: TensorSpec(shape=(), dtype=tf.resource, name=None)\n",
            "  1977114502144: TensorSpec(shape=(), dtype=tf.resource, name=None)\n",
            "  1977114498800: TensorSpec(shape=(), dtype=tf.resource, name=None)\n",
            "  1977114500032: TensorSpec(shape=(), dtype=tf.resource, name=None)\n",
            "  1977114499680: TensorSpec(shape=(), dtype=tf.resource, name=None)\n",
            "  1977114504784: TensorSpec(shape=(), dtype=tf.resource, name=None)\n",
            "  1977114506192: TensorSpec(shape=(), dtype=tf.resource, name=None)\n",
            "  1977114502672: TensorSpec(shape=(), dtype=tf.resource, name=None)\n",
            "  1977114503904: TensorSpec(shape=(), dtype=tf.resource, name=None)\n",
            "  1977114509008: TensorSpec(shape=(), dtype=tf.resource, name=None)\n",
            "  1977114505488: TensorSpec(shape=(), dtype=tf.resource, name=None)\n",
            "  1977114499856: TensorSpec(shape=(), dtype=tf.resource, name=None)\n",
            "  1977114506368: TensorSpec(shape=(), dtype=tf.resource, name=None)\n",
            "  1977114508128: TensorSpec(shape=(), dtype=tf.resource, name=None)\n",
            "  1977114504432: TensorSpec(shape=(), dtype=tf.resource, name=None)\n",
            "  1977114527696: TensorSpec(shape=(), dtype=tf.resource, name=None)\n",
            "  1977114530336: TensorSpec(shape=(), dtype=tf.resource, name=None)\n",
            "  1977114526640: TensorSpec(shape=(), dtype=tf.resource, name=None)\n",
            "  1977114528752: TensorSpec(shape=(), dtype=tf.resource, name=None)\n",
            "  1977114532624: TensorSpec(shape=(), dtype=tf.resource, name=None)\n",
            "  1977114531744: TensorSpec(shape=(), dtype=tf.resource, name=None)\n",
            "  1977114534384: TensorSpec(shape=(), dtype=tf.resource, name=None)\n",
            "  1977114530864: TensorSpec(shape=(), dtype=tf.resource, name=None)\n",
            "  1977114532800: TensorSpec(shape=(), dtype=tf.resource, name=None)\n",
            "  1977114528928: TensorSpec(shape=(), dtype=tf.resource, name=None)\n",
            "  1977114537200: TensorSpec(shape=(), dtype=tf.resource, name=None)\n",
            "  1977114538608: TensorSpec(shape=(), dtype=tf.resource, name=None)\n",
            "  1977114534032: TensorSpec(shape=(), dtype=tf.resource, name=None)\n",
            "  1977114536320: TensorSpec(shape=(), dtype=tf.resource, name=None)\n",
            "  1977114532096: TensorSpec(shape=(), dtype=tf.resource, name=None)\n",
            "  1977114537904: TensorSpec(shape=(), dtype=tf.resource, name=None)\n",
            "  1977114535968: TensorSpec(shape=(), dtype=tf.resource, name=None)\n",
            "  1977114538784: TensorSpec(shape=(), dtype=tf.resource, name=None)\n",
            "  1977114541600: TensorSpec(shape=(), dtype=tf.resource, name=None)\n",
            "  1977114537024: TensorSpec(shape=(), dtype=tf.resource, name=None)\n",
            "  1977114887792: TensorSpec(shape=(), dtype=tf.resource, name=None)\n",
            "  1977114886736: TensorSpec(shape=(), dtype=tf.resource, name=None)\n",
            "  1977114890432: TensorSpec(shape=(), dtype=tf.resource, name=None)\n",
            "  1977114888848: TensorSpec(shape=(), dtype=tf.resource, name=None)\n",
            "  1977114892544: TensorSpec(shape=(), dtype=tf.resource, name=None)\n",
            "  1977114891664: TensorSpec(shape=(), dtype=tf.resource, name=None)\n",
            "  1977114894304: TensorSpec(shape=(), dtype=tf.resource, name=None)\n",
            "  1977114887968: TensorSpec(shape=(), dtype=tf.resource, name=None)\n",
            "  1977114892720: TensorSpec(shape=(), dtype=tf.resource, name=None)\n",
            "  1977114891840: TensorSpec(shape=(), dtype=tf.resource, name=None)\n",
            "  1977114896944: TensorSpec(shape=(), dtype=tf.resource, name=None)\n",
            "  1977114898352: TensorSpec(shape=(), dtype=tf.resource, name=None)\n",
            "  1977114894832: TensorSpec(shape=(), dtype=tf.resource, name=None)\n",
            "  1977114896064: TensorSpec(shape=(), dtype=tf.resource, name=None)\n",
            "  1977114891312: TensorSpec(shape=(), dtype=tf.resource, name=None)\n",
            "  1977114900992: TensorSpec(shape=(), dtype=tf.resource, name=None)\n",
            "  1977114895712: TensorSpec(shape=(), dtype=tf.resource, name=None)\n",
            "  1977114897120: TensorSpec(shape=(), dtype=tf.resource, name=None)\n",
            "  1977114900112: TensorSpec(shape=(), dtype=tf.resource, name=None)\n",
            "  1977114901168: TensorSpec(shape=(), dtype=tf.resource, name=None)\n",
            "  1977114330912: TensorSpec(shape=(), dtype=tf.resource, name=None)\n",
            "  1977114330032: TensorSpec(shape=(), dtype=tf.resource, name=None)\n",
            "  1977114331088: TensorSpec(shape=(), dtype=tf.resource, name=None)\n",
            "  1977114331264: TensorSpec(shape=(), dtype=tf.resource, name=None)\n",
            "  1977114334960: TensorSpec(shape=(), dtype=tf.resource, name=None)\n",
            "  1977114334080: TensorSpec(shape=(), dtype=tf.resource, name=None)\n",
            "  1977114336720: TensorSpec(shape=(), dtype=tf.resource, name=None)\n",
            "  1977114330384: TensorSpec(shape=(), dtype=tf.resource, name=None)\n",
            "  1977114335136: TensorSpec(shape=(), dtype=tf.resource, name=None)\n",
            "  1977114335312: TensorSpec(shape=(), dtype=tf.resource, name=None)\n",
            "  1977114339536: TensorSpec(shape=(), dtype=tf.resource, name=None)\n",
            "  1977114340944: TensorSpec(shape=(), dtype=tf.resource, name=None)\n",
            "  1977114336368: TensorSpec(shape=(), dtype=tf.resource, name=None)\n",
            "  1977114338656: TensorSpec(shape=(), dtype=tf.resource, name=None)\n",
            "  1977114333728: TensorSpec(shape=(), dtype=tf.resource, name=None)\n",
            "  1977114343584: TensorSpec(shape=(), dtype=tf.resource, name=None)\n",
            "  1977114344992: TensorSpec(shape=(), dtype=tf.resource, name=None)\n",
            "  1977114339712: TensorSpec(shape=(), dtype=tf.resource, name=None)\n",
            "  1977114342704: TensorSpec(shape=(), dtype=tf.resource, name=None)\n",
            "  1977114344640: TensorSpec(shape=(), dtype=tf.resource, name=None)\n",
            "  1977142789568: TensorSpec(shape=(), dtype=tf.resource, name=None)\n",
            "  1977142790096: TensorSpec(shape=(), dtype=tf.resource, name=None)\n",
            "  1977142791328: TensorSpec(shape=(), dtype=tf.resource, name=None)\n",
            "  1977142789920: TensorSpec(shape=(), dtype=tf.resource, name=None)\n",
            "  1977114335488: TensorSpec(shape=(), dtype=tf.resource, name=None)\n",
            "  1977142792736: TensorSpec(shape=(), dtype=tf.resource, name=None)\n",
            "  1977142795376: TensorSpec(shape=(), dtype=tf.resource, name=None)\n",
            "  1977142789040: TensorSpec(shape=(), dtype=tf.resource, name=None)\n",
            "  1977142793792: TensorSpec(shape=(), dtype=tf.resource, name=None)\n",
            "  1977142795200: TensorSpec(shape=(), dtype=tf.resource, name=None)\n",
            "  1977142798016: TensorSpec(shape=(), dtype=tf.resource, name=None)\n",
            "  1977142799424: TensorSpec(shape=(), dtype=tf.resource, name=None)\n",
            "  1977142795904: TensorSpec(shape=(), dtype=tf.resource, name=None)\n",
            "  1977142797136: TensorSpec(shape=(), dtype=tf.resource, name=None)\n",
            "  1977142799072: TensorSpec(shape=(), dtype=tf.resource, name=None)\n",
            "  1977142801888: TensorSpec(shape=(), dtype=tf.resource, name=None)\n",
            "  1977142803296: TensorSpec(shape=(), dtype=tf.resource, name=None)\n",
            "  1977142799776: TensorSpec(shape=(), dtype=tf.resource, name=None)\n",
            "  1977142801008: TensorSpec(shape=(), dtype=tf.resource, name=None)\n",
            "  1977142803648: TensorSpec(shape=(), dtype=tf.resource, name=None)\n",
            "  1977143165872: TensorSpec(shape=(), dtype=tf.resource, name=None)\n",
            "  1977143166400: TensorSpec(shape=(), dtype=tf.resource, name=None)\n",
            "  1977142795728: TensorSpec(shape=(), dtype=tf.resource, name=None)\n",
            "  1977143166224: TensorSpec(shape=(), dtype=tf.resource, name=None)\n",
            "  1977142796784: TensorSpec(shape=(), dtype=tf.resource, name=None)\n",
            "  1977143169040: TensorSpec(shape=(), dtype=tf.resource, name=None)\n",
            "  1977143171680: TensorSpec(shape=(), dtype=tf.resource, name=None)\n",
            "  1977143165344: TensorSpec(shape=(), dtype=tf.resource, name=None)\n",
            "  1977143170096: TensorSpec(shape=(), dtype=tf.resource, name=None)\n",
            "  1977143167984: TensorSpec(shape=(), dtype=tf.resource, name=None)\n",
            "  1977143174320: TensorSpec(shape=(), dtype=tf.resource, name=None)\n",
            "  1977143175728: TensorSpec(shape=(), dtype=tf.resource, name=None)\n",
            "  1977143172208: TensorSpec(shape=(), dtype=tf.resource, name=None)\n",
            "  1977143173440: TensorSpec(shape=(), dtype=tf.resource, name=None)\n",
            "  1977143168688: TensorSpec(shape=(), dtype=tf.resource, name=None)\n",
            "  1977143178368: TensorSpec(shape=(), dtype=tf.resource, name=None)\n",
            "  1977143179776: TensorSpec(shape=(), dtype=tf.resource, name=None)\n",
            "  1977143174496: TensorSpec(shape=(), dtype=tf.resource, name=None)\n",
            "  1977143177488: TensorSpec(shape=(), dtype=tf.resource, name=None)\n",
            "  1977143167808: TensorSpec(shape=(), dtype=tf.resource, name=None)\n",
            "  1977143181728: TensorSpec(shape=(), dtype=tf.resource, name=None)\n",
            "  1977143182256: TensorSpec(shape=(), dtype=tf.resource, name=None)\n",
            "  1977143178544: TensorSpec(shape=(), dtype=tf.resource, name=None)\n",
            "  1977143182080: TensorSpec(shape=(), dtype=tf.resource, name=None)\n",
            "  1977143175552: TensorSpec(shape=(), dtype=tf.resource, name=None)\n",
            "  1977143184896: TensorSpec(shape=(), dtype=tf.resource, name=None)\n",
            "  1977143187536: TensorSpec(shape=(), dtype=tf.resource, name=None)\n",
            "  1977143182784: TensorSpec(shape=(), dtype=tf.resource, name=None)\n",
            "  1977143185952: TensorSpec(shape=(), dtype=tf.resource, name=None)\n",
            "  1977143186656: TensorSpec(shape=(), dtype=tf.resource, name=None)\n",
            "  1977143190352: TensorSpec(shape=(), dtype=tf.resource, name=None)\n",
            "  1977143191760: TensorSpec(shape=(), dtype=tf.resource, name=None)\n",
            "  1977143187184: TensorSpec(shape=(), dtype=tf.resource, name=None)\n",
            "  1977143189472: TensorSpec(shape=(), dtype=tf.resource, name=None)\n",
            "  1977143189120: TensorSpec(shape=(), dtype=tf.resource, name=None)\n",
            "  1977143194224: TensorSpec(shape=(), dtype=tf.resource, name=None)\n",
            "  1977143195632: TensorSpec(shape=(), dtype=tf.resource, name=None)\n",
            "  1977143192112: TensorSpec(shape=(), dtype=tf.resource, name=None)\n",
            "  1977143193344: TensorSpec(shape=(), dtype=tf.resource, name=None)\n",
            "  1977143193168: TensorSpec(shape=(), dtype=tf.resource, name=None)\n",
            "  1977142838016: TensorSpec(shape=(), dtype=tf.resource, name=None)\n",
            "  1977143188768: TensorSpec(shape=(), dtype=tf.resource, name=None)\n",
            "  1977143196512: TensorSpec(shape=(), dtype=tf.resource, name=None)\n",
            "  1977142837840: TensorSpec(shape=(), dtype=tf.resource, name=None)\n",
            "  1977143190704: TensorSpec(shape=(), dtype=tf.resource, name=None)\n",
            "  1977142840304: TensorSpec(shape=(), dtype=tf.resource, name=None)\n",
            "  1977142842944: TensorSpec(shape=(), dtype=tf.resource, name=None)\n",
            "  1977142838192: TensorSpec(shape=(), dtype=tf.resource, name=None)\n",
            "  1977142841360: TensorSpec(shape=(), dtype=tf.resource, name=None)\n",
            "  1977142843120: TensorSpec(shape=(), dtype=tf.resource, name=None)\n",
            "  1977142845584: TensorSpec(shape=(), dtype=tf.resource, name=None)\n",
            "  1977142846816: TensorSpec(shape=(), dtype=tf.resource, name=None)\n",
            "  1977142843472: TensorSpec(shape=(), dtype=tf.resource, name=None)\n",
            "  1977142844704: TensorSpec(shape=(), dtype=tf.resource, name=None)\n",
            "  1977142844352: TensorSpec(shape=(), dtype=tf.resource, name=None)\n",
            "  1977142849456: TensorSpec(shape=(), dtype=tf.resource, name=None)\n",
            "  1977142850864: TensorSpec(shape=(), dtype=tf.resource, name=None)\n",
            "  1977142847344: TensorSpec(shape=(), dtype=tf.resource, name=None)\n",
            "  1977142848576: TensorSpec(shape=(), dtype=tf.resource, name=None)\n",
            "  1977142851216: TensorSpec(shape=(), dtype=tf.resource, name=None)\n",
            "  1977142850160: TensorSpec(shape=(), dtype=tf.resource, name=None)\n",
            "  1977142848224: TensorSpec(shape=(), dtype=tf.resource, name=None)\n",
            "  1977142851920: TensorSpec(shape=(), dtype=tf.resource, name=None)\n",
            "  1977143002208: TensorSpec(shape=(), dtype=tf.resource, name=None)\n",
            "  1977142849632: TensorSpec(shape=(), dtype=tf.resource, name=None)\n",
            "  1977143003616: TensorSpec(shape=(), dtype=tf.resource, name=None)\n",
            "  1977143006256: TensorSpec(shape=(), dtype=tf.resource, name=None)\n",
            "  1977143001504: TensorSpec(shape=(), dtype=tf.resource, name=None)\n",
            "  1977143004672: TensorSpec(shape=(), dtype=tf.resource, name=None)\n",
            "  1977143008368: TensorSpec(shape=(), dtype=tf.resource, name=None)\n",
            "  1977143007488: TensorSpec(shape=(), dtype=tf.resource, name=None)\n",
            "  1977143010128: TensorSpec(shape=(), dtype=tf.resource, name=None)\n",
            "  1977143004496: TensorSpec(shape=(), dtype=tf.resource, name=None)\n",
            "  1977143008544: TensorSpec(shape=(), dtype=tf.resource, name=None)\n",
            "  1977143004848: TensorSpec(shape=(), dtype=tf.resource, name=None)\n",
            "  1977143012944: TensorSpec(shape=(), dtype=tf.resource, name=None)\n",
            "  1977143014352: TensorSpec(shape=(), dtype=tf.resource, name=None)\n",
            "  1977143009776: TensorSpec(shape=(), dtype=tf.resource, name=None)\n",
            "  1977143012064: TensorSpec(shape=(), dtype=tf.resource, name=None)\n",
            "  1977143014704: TensorSpec(shape=(), dtype=tf.resource, name=None)\n",
            "  1977143013648: TensorSpec(shape=(), dtype=tf.resource, name=None)\n",
            "  1977143011712: TensorSpec(shape=(), dtype=tf.resource, name=None)\n",
            "  1977143015408: TensorSpec(shape=(), dtype=tf.resource, name=None)\n",
            "  1977143016288: TensorSpec(shape=(), dtype=tf.resource, name=None)\n",
            "  1977143013120: TensorSpec(shape=(), dtype=tf.resource, name=None)\n",
            "  1977142937728: TensorSpec(shape=(), dtype=tf.resource, name=None)\n",
            "  1977142940368: TensorSpec(shape=(), dtype=tf.resource, name=None)\n",
            "  1977142935616: TensorSpec(shape=(), dtype=tf.resource, name=None)\n",
            "  1977142938784: TensorSpec(shape=(), dtype=tf.resource, name=None)\n",
            "  1977142942480: TensorSpec(shape=(), dtype=tf.resource, name=None)\n",
            "  1977142941600: TensorSpec(shape=(), dtype=tf.resource, name=None)\n",
            "  1977142944240: TensorSpec(shape=(), dtype=tf.resource, name=None)\n",
            "  1977142937904: TensorSpec(shape=(), dtype=tf.resource, name=None)\n",
            "  1977142942656: TensorSpec(shape=(), dtype=tf.resource, name=None)\n",
            "  1977142944064: TensorSpec(shape=(), dtype=tf.resource, name=None)\n",
            "  1977142946880: TensorSpec(shape=(), dtype=tf.resource, name=None)\n",
            "  1977142948288: TensorSpec(shape=(), dtype=tf.resource, name=None)\n",
            "  1977142944768: TensorSpec(shape=(), dtype=tf.resource, name=None)\n",
            "  1977142946000: TensorSpec(shape=(), dtype=tf.resource, name=None)\n",
            "  1977142947936: TensorSpec(shape=(), dtype=tf.resource, name=None)\n",
            "  1977142950400: TensorSpec(shape=(), dtype=tf.resource, name=None)\n",
            "  1977142940016: TensorSpec(shape=(), dtype=tf.resource, name=None)\n",
            "  1977142948464: TensorSpec(shape=(), dtype=tf.resource, name=None)\n",
            "  1977142950928: TensorSpec(shape=(), dtype=tf.resource, name=None)\n",
            "  1977142945824: TensorSpec(shape=(), dtype=tf.resource, name=None)\n",
            "  1977142806128: TensorSpec(shape=(), dtype=tf.resource, name=None)\n",
            "  1977142808592: TensorSpec(shape=(), dtype=tf.resource, name=None)\n",
            "  1977142804896: TensorSpec(shape=(), dtype=tf.resource, name=None)\n",
            "  1977142807184: TensorSpec(shape=(), dtype=tf.resource, name=None)\n",
            "  1977142810880: TensorSpec(shape=(), dtype=tf.resource, name=None)\n",
            "  1977142810000: TensorSpec(shape=(), dtype=tf.resource, name=None)\n",
            "  1977142812640: TensorSpec(shape=(), dtype=tf.resource, name=None)\n",
            "  1977142806304: TensorSpec(shape=(), dtype=tf.resource, name=None)\n",
            "  1977142811056: TensorSpec(shape=(), dtype=tf.resource, name=None)\n",
            "  1977142810176: TensorSpec(shape=(), dtype=tf.resource, name=None)\n",
            "  1977142815280: TensorSpec(shape=(), dtype=tf.resource, name=None)\n",
            "  1977142816688: TensorSpec(shape=(), dtype=tf.resource, name=None)\n",
            "  1977142813168: TensorSpec(shape=(), dtype=tf.resource, name=None)\n",
            "  1977142814400: TensorSpec(shape=(), dtype=tf.resource, name=None)\n",
            "  1977142809648: TensorSpec(shape=(), dtype=tf.resource, name=None)\n",
            "  1977142819328: TensorSpec(shape=(), dtype=tf.resource, name=None)\n",
            "  1977142814048: TensorSpec(shape=(), dtype=tf.resource, name=None)\n",
            "  1977142815456: TensorSpec(shape=(), dtype=tf.resource, name=None)\n",
            "  1977142818448: TensorSpec(shape=(), dtype=tf.resource, name=None)\n",
            "  1977142819504: TensorSpec(shape=(), dtype=tf.resource, name=None)\n",
            "  1977143101216: TensorSpec(shape=(), dtype=tf.resource, name=None)\n",
            "  1977143100336: TensorSpec(shape=(), dtype=tf.resource, name=None)\n",
            "  1977143101392: TensorSpec(shape=(), dtype=tf.resource, name=None)\n",
            "  1977143101568: TensorSpec(shape=(), dtype=tf.resource, name=None)\n",
            "  1977143105264: TensorSpec(shape=(), dtype=tf.resource, name=None)\n",
            "  1977143104384: TensorSpec(shape=(), dtype=tf.resource, name=None)\n",
            "  1977143107024: TensorSpec(shape=(), dtype=tf.resource, name=None)\n",
            "  1977143100688: TensorSpec(shape=(), dtype=tf.resource, name=None)\n",
            "  1977143105440: TensorSpec(shape=(), dtype=tf.resource, name=None)\n",
            "  1977143104560: TensorSpec(shape=(), dtype=tf.resource, name=None)\n",
            "  1977143109664: TensorSpec(shape=(), dtype=tf.resource, name=None)\n",
            "  1977143111072: TensorSpec(shape=(), dtype=tf.resource, name=None)\n",
            "  1977143107552: TensorSpec(shape=(), dtype=tf.resource, name=None)\n",
            "  1977143108784: TensorSpec(shape=(), dtype=tf.resource, name=None)\n",
            "  1977115719488: TensorSpec(shape=(), dtype=tf.resource, name=None)\n",
            "  1977115721248: TensorSpec(shape=(), dtype=tf.resource, name=None)\n",
            "  1977115717024: TensorSpec(shape=(), dtype=tf.resource, name=None)\n",
            "  1977115718784: TensorSpec(shape=(), dtype=tf.resource, name=None)\n",
            "  1977242620624: TensorSpec(shape=(), dtype=tf.resource, name=None)\n",
            "  1977242618688: TensorSpec(shape=(), dtype=tf.resource, name=None)\n",
            "  1977242627312: TensorSpec(shape=(), dtype=tf.resource, name=None)\n",
            "  1977242628720: TensorSpec(shape=(), dtype=tf.resource, name=None)\n"
          ]
        }
      ],
      "source": [
        "converter = tf.lite.TFLiteConverter.from_saved_model('../save_model/')\n",
        "# model = tf.keras.models.load_model('../best_model/model.h5')\n",
        "# converter = tf.lite.TFLiteConverter.from_keras_model(model)\n",
        "tflite_model = converter.convert()\n",
        "\n",
        "with open('../tflite_model/model_signlang.tflite','wb') as f:\n",
        "    f.write(tflite_model)"
      ]
    },
    {
      "cell_type": "code",
      "execution_count": null,
      "metadata": {},
      "outputs": [],
      "source": []
    }
  ],
  "metadata": {
    "accelerator": "GPU",
    "colab": {
      "gpuType": "T4",
      "provenance": []
    },
    "kernelspec": {
      "display_name": ".venv",
      "language": "python",
      "name": "python3"
    },
    "language_info": {
      "codemirror_mode": {
        "name": "ipython",
        "version": 3
      },
      "file_extension": ".py",
      "mimetype": "text/x-python",
      "name": "python",
      "nbconvert_exporter": "python",
      "pygments_lexer": "ipython3",
      "version": "3.10.0"
    }
  },
  "nbformat": 4,
  "nbformat_minor": 0
}
